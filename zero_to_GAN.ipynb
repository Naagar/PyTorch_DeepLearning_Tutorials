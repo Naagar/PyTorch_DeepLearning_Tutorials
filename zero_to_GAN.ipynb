{
 "cells": [
  {
   "cell_type": "markdown",
   "metadata": {
    "colab_type": "text",
    "id": "r2zjuf7FLGca"
   },
   "source": [
    "# pytoch tutorals"
   ]
  },
  {
   "cell_type": "markdown",
   "metadata": {
    "colab_type": "text",
    "id": "Hc5MnUj1LdpJ"
   },
   "source": [
    "# part-1 pytorch basics & Linear Regression"
   ]
  },
  {
   "cell_type": "code",
   "execution_count": 1,
   "metadata": {
    "colab": {},
    "colab_type": "code",
    "id": "_2kFLfF9KaFs"
   },
   "outputs": [
    {
     "ename": "ImportError",
     "evalue": "/home/sandeep.nagar/anaconda3/lib/python3.7/site-packages/torch/_C.cpython-37m-x86_64-linux-gnu.so: failed to map segment from shared object: Cannot allocate memory",
     "output_type": "error",
     "traceback": [
      "\u001b[0;31m---------------------------------------------------------------------------\u001b[0m",
      "\u001b[0;31mImportError\u001b[0m                               Traceback (most recent call last)",
      "\u001b[0;32m<ipython-input-1-eb42ca6e4af3>\u001b[0m in \u001b[0;36m<module>\u001b[0;34m\u001b[0m\n\u001b[0;32m----> 1\u001b[0;31m \u001b[0;32mimport\u001b[0m \u001b[0mtorch\u001b[0m\u001b[0;34m\u001b[0m\u001b[0;34m\u001b[0m\u001b[0m\n\u001b[0m",
      "\u001b[0;32m~/anaconda3/lib/python3.7/site-packages/torch/__init__.py\u001b[0m in \u001b[0;36m<module>\u001b[0;34m\u001b[0m\n\u001b[1;32m     79\u001b[0m \u001b[0;32mdel\u001b[0m \u001b[0m_dl_flags\u001b[0m\u001b[0;34m\u001b[0m\u001b[0;34m\u001b[0m\u001b[0m\n\u001b[1;32m     80\u001b[0m \u001b[0;34m\u001b[0m\u001b[0m\n\u001b[0;32m---> 81\u001b[0;31m \u001b[0;32mfrom\u001b[0m \u001b[0mtorch\u001b[0m\u001b[0;34m.\u001b[0m\u001b[0m_C\u001b[0m \u001b[0;32mimport\u001b[0m \u001b[0;34m*\u001b[0m\u001b[0;34m\u001b[0m\u001b[0;34m\u001b[0m\u001b[0m\n\u001b[0m\u001b[1;32m     82\u001b[0m \u001b[0;34m\u001b[0m\u001b[0m\n\u001b[1;32m     83\u001b[0m __all__ += [name for name in dir(_C)\n",
      "\u001b[0;31mImportError\u001b[0m: /home/sandeep.nagar/anaconda3/lib/python3.7/site-packages/torch/_C.cpython-37m-x86_64-linux-gnu.so: failed to map segment from shared object: Cannot allocate memory"
     ]
    }
   ],
   "source": [
    "import torch"
   ]
  },
  {
   "cell_type": "code",
   "execution_count": null,
   "metadata": {
    "colab": {
     "base_uri": "https://localhost:8080/",
     "height": 34
    },
    "colab_type": "code",
    "executionInfo": {
     "elapsed": 1783,
     "status": "ok",
     "timestamp": 1596890813228,
     "user": {
      "displayName": "Sandeep Naagar",
      "photoUrl": "https://lh3.googleusercontent.com/a-/AOh14GjZywEjk2BilS2WJmmk2MC_x5UNZzS_ZjljHL4XFw=s64",
      "userId": "13180867705976122475"
     },
     "user_tz": -330
    },
    "id": "xpGwhXMq-LSI",
    "outputId": "e0703b90-c366-4ec6-f4cd-baa388f2f193"
   },
   "outputs": [
    {
     "name": "stdout",
     "output_type": "stream",
     "text": [
      "tensor(10)\n"
     ]
    }
   ],
   "source": [
    "t1 =torch.tensor(10)\n",
    "print(t1)"
   ]
  },
  {
   "cell_type": "code",
   "execution_count": null,
   "metadata": {
    "colab": {
     "base_uri": "https://localhost:8080/",
     "height": 34
    },
    "colab_type": "code",
    "executionInfo": {
     "elapsed": 2673,
     "status": "ok",
     "timestamp": 1596890816795,
     "user": {
      "displayName": "Sandeep Naagar",
      "photoUrl": "https://lh3.googleusercontent.com/a-/AOh14GjZywEjk2BilS2WJmmk2MC_x5UNZzS_ZjljHL4XFw=s64",
      "userId": "13180867705976122475"
     },
     "user_tz": -330
    },
    "id": "b5dpw8ld-b4E",
    "outputId": "ddc832bf-cb31-4a3d-b558-fb56af33946a"
   },
   "outputs": [
    {
     "name": "stdout",
     "output_type": "stream",
     "text": [
      "tensor([1., 2., 3., 5.])\n"
     ]
    }
   ],
   "source": [
    "t2 = torch.tensor([1., 2, 3, 5])\n",
    "print(t2)"
   ]
  },
  {
   "cell_type": "code",
   "execution_count": null,
   "metadata": {
    "colab": {
     "base_uri": "https://localhost:8080/",
     "height": 52
    },
    "colab_type": "code",
    "executionInfo": {
     "elapsed": 2477,
     "status": "ok",
     "timestamp": 1596890820492,
     "user": {
      "displayName": "Sandeep Naagar",
      "photoUrl": "https://lh3.googleusercontent.com/a-/AOh14GjZywEjk2BilS2WJmmk2MC_x5UNZzS_ZjljHL4XFw=s64",
      "userId": "13180867705976122475"
     },
     "user_tz": -330
    },
    "id": "-fe6zrPu-qSr",
    "outputId": "94d8e878-1c02-4b44-bf3d-06035e41adef"
   },
   "outputs": [
    {
     "data": {
      "text/plain": [
       "tensor([[5, 6],\n",
       "        [5, 6]])"
      ]
     },
     "execution_count": 15,
     "metadata": {
      "tags": []
     },
     "output_type": "execute_result"
    }
   ],
   "source": [
    "t3 = torch.tensor([[5,6], [5,6]])\n",
    "t3"
   ]
  },
  {
   "cell_type": "code",
   "execution_count": null,
   "metadata": {
    "colab": {
     "base_uri": "https://localhost:8080/",
     "height": 104
    },
    "colab_type": "code",
    "executionInfo": {
     "elapsed": 2569,
     "status": "ok",
     "timestamp": 1596890824043,
     "user": {
      "displayName": "Sandeep Naagar",
      "photoUrl": "https://lh3.googleusercontent.com/a-/AOh14GjZywEjk2BilS2WJmmk2MC_x5UNZzS_ZjljHL4XFw=s64",
      "userId": "13180867705976122475"
     },
     "user_tz": -330
    },
    "id": "vkZ1dFMt-zvy",
    "outputId": "bb50c067-b89a-49c4-b087-68975b96d5af"
   },
   "outputs": [
    {
     "data": {
      "text/plain": [
       "tensor([[[  4,   6,   8],\n",
       "         [ 10,   5,  15]],\n",
       "\n",
       "        [[ 50,   6, 100],\n",
       "         [ 60,  90, 123]]])"
      ]
     },
     "execution_count": 16,
     "metadata": {
      "tags": []
     },
     "output_type": "execute_result"
    }
   ],
   "source": [
    "t4 = torch.tensor([[[4,6,8],[10,5,15]],[[50,6,100],[60,90,123]]])\n",
    "t4"
   ]
  },
  {
   "cell_type": "code",
   "execution_count": null,
   "metadata": {
    "colab": {
     "base_uri": "https://localhost:8080/",
     "height": 34
    },
    "colab_type": "code",
    "executionInfo": {
     "elapsed": 3454,
     "status": "ok",
     "timestamp": 1596890828720,
     "user": {
      "displayName": "Sandeep Naagar",
      "photoUrl": "https://lh3.googleusercontent.com/a-/AOh14GjZywEjk2BilS2WJmmk2MC_x5UNZzS_ZjljHL4XFw=s64",
      "userId": "13180867705976122475"
     },
     "user_tz": -330
    },
    "id": "t9dLtGpe_WZV",
    "outputId": "8701fe57-1c65-465f-ac7c-9d674b1afd2e"
   },
   "outputs": [
    {
     "data": {
      "text/plain": [
       "torch.Size([])"
      ]
     },
     "execution_count": 17,
     "metadata": {
      "tags": []
     },
     "output_type": "execute_result"
    }
   ],
   "source": [
    "t1.shape"
   ]
  },
  {
   "cell_type": "code",
   "execution_count": null,
   "metadata": {
    "colab": {
     "base_uri": "https://localhost:8080/",
     "height": 34
    },
    "colab_type": "code",
    "executionInfo": {
     "elapsed": 624,
     "status": "ok",
     "timestamp": 1596890953434,
     "user": {
      "displayName": "Sandeep Naagar",
      "photoUrl": "https://lh3.googleusercontent.com/a-/AOh14GjZywEjk2BilS2WJmmk2MC_x5UNZzS_ZjljHL4XFw=s64",
      "userId": "13180867705976122475"
     },
     "user_tz": -330
    },
    "id": "ReJgezHJ_bud",
    "outputId": "f9157c0d-6c4a-4828-f1d8-53a16541912f"
   },
   "outputs": [
    {
     "name": "stdout",
     "output_type": "stream",
     "text": [
      "tensor([1., 2., 3., 5.])\n"
     ]
    }
   ],
   "source": [
    "t2.shape\n",
    "print(t2)"
   ]
  },
  {
   "cell_type": "code",
   "execution_count": null,
   "metadata": {
    "colab": {},
    "colab_type": "code",
    "id": "0mJ9jWOJ_fo4"
   },
   "outputs": [],
   "source": [
    "x = torch.tensor(3.)\n",
    "b = torch.tensor(4., requires_grad=True)\n",
    "w = torch.tensor(6., requires_grad=True)"
   ]
  },
  {
   "cell_type": "code",
   "execution_count": null,
   "metadata": {
    "colab": {
     "base_uri": "https://localhost:8080/",
     "height": 34
    },
    "colab_type": "code",
    "executionInfo": {
     "elapsed": 2239,
     "status": "ok",
     "timestamp": 1596891012172,
     "user": {
      "displayName": "Sandeep Naagar",
      "photoUrl": "https://lh3.googleusercontent.com/a-/AOh14GjZywEjk2BilS2WJmmk2MC_x5UNZzS_ZjljHL4XFw=s64",
      "userId": "13180867705976122475"
     },
     "user_tz": -330
    },
    "id": "xL5m0MP_HhFR",
    "outputId": "a8322710-d3c0-4a43-89e1-a6f5cd50da77"
   },
   "outputs": [
    {
     "data": {
      "text/plain": [
       "tensor(22., grad_fn=<AddBackward0>)"
      ]
     },
     "execution_count": 20,
     "metadata": {
      "tags": []
     },
     "output_type": "execute_result"
    }
   ],
   "source": [
    "# airthmatic oprations \n",
    "y = x*w + b\n",
    "y"
   ]
  },
  {
   "cell_type": "code",
   "execution_count": null,
   "metadata": {
    "colab": {},
    "colab_type": "code",
    "id": "4lGMHuaaHw-n"
   },
   "outputs": [],
   "source": [
    "# claculating derivatis\n",
    "#y.backward()\n",
    "#print(y)"
   ]
  },
  {
   "cell_type": "code",
   "execution_count": null,
   "metadata": {
    "colab": {
     "base_uri": "https://localhost:8080/",
     "height": 69
    },
    "colab_type": "code",
    "executionInfo": {
     "elapsed": 1016,
     "status": "ok",
     "timestamp": 1596892708922,
     "user": {
      "displayName": "Sandeep Naagar",
      "photoUrl": "https://lh3.googleusercontent.com/a-/AOh14GjZywEjk2BilS2WJmmk2MC_x5UNZzS_ZjljHL4XFw=s64",
      "userId": "13180867705976122475"
     },
     "user_tz": -330
    },
    "id": "TkfX9QAUNPyk",
    "outputId": "a0e48973-6665-48f5-d35d-68f262985d30"
   },
   "outputs": [
    {
     "name": "stdout",
     "output_type": "stream",
     "text": [
      "dy/dx: None\n",
      "dy/dw: tensor(3.)\n",
      "dy/db: tensor(3.)\n"
     ]
    }
   ],
   "source": [
    "# display grads\n",
    "print('dy/dx:', x.grad)\n",
    "print('dy/dw:', w.grad)\n",
    "print(\"dy/db:\", b.grad)"
   ]
  },
  {
   "cell_type": "code",
   "execution_count": null,
   "metadata": {
    "colab": {
     "base_uri": "https://localhost:8080/",
     "height": 52
    },
    "colab_type": "code",
    "executionInfo": {
     "elapsed": 1060,
     "status": "ok",
     "timestamp": 1596892988261,
     "user": {
      "displayName": "Sandeep Naagar",
      "photoUrl": "https://lh3.googleusercontent.com/a-/AOh14GjZywEjk2BilS2WJmmk2MC_x5UNZzS_ZjljHL4XFw=s64",
      "userId": "13180867705976122475"
     },
     "user_tz": -330
    },
    "id": "ecKjVSTqOJst",
    "outputId": "003c88d1-6965-4db4-e2e3-07531032d9cd"
   },
   "outputs": [
    {
     "data": {
      "text/plain": [
       "array([[2.1, 4. ],\n",
       "       [3. , 9. ]])"
      ]
     },
     "execution_count": 31,
     "metadata": {
      "tags": []
     },
     "output_type": "execute_result"
    }
   ],
   "source": [
    "import numpy as np\n",
    "x = np.array([[2.1,4],[3,9]])\n",
    "x"
   ]
  },
  {
   "cell_type": "code",
   "execution_count": null,
   "metadata": {
    "colab": {
     "base_uri": "https://localhost:8080/",
     "height": 52
    },
    "colab_type": "code",
    "executionInfo": {
     "elapsed": 1089,
     "status": "ok",
     "timestamp": 1596892991644,
     "user": {
      "displayName": "Sandeep Naagar",
      "photoUrl": "https://lh3.googleusercontent.com/a-/AOh14GjZywEjk2BilS2WJmmk2MC_x5UNZzS_ZjljHL4XFw=s64",
      "userId": "13180867705976122475"
     },
     "user_tz": -330
    },
    "id": "kgEeNw40PDAL",
    "outputId": "58450868-9465-436a-8fbb-73a71a6d8b99"
   },
   "outputs": [
    {
     "data": {
      "text/plain": [
       "tensor([[2.1000, 4.0000],\n",
       "        [3.0000, 9.0000]], dtype=torch.float64)"
      ]
     },
     "execution_count": 32,
     "metadata": {
      "tags": []
     },
     "output_type": "execute_result"
    }
   ],
   "source": [
    "y = torch.from_numpy(x)\n",
    "y"
   ]
  },
  {
   "cell_type": "code",
   "execution_count": null,
   "metadata": {
    "colab": {
     "base_uri": "https://localhost:8080/",
     "height": 34
    },
    "colab_type": "code",
    "executionInfo": {
     "elapsed": 1059,
     "status": "ok",
     "timestamp": 1596893079776,
     "user": {
      "displayName": "Sandeep Naagar",
      "photoUrl": "https://lh3.googleusercontent.com/a-/AOh14GjZywEjk2BilS2WJmmk2MC_x5UNZzS_ZjljHL4XFw=s64",
      "userId": "13180867705976122475"
     },
     "user_tz": -330
    },
    "id": "obsBX29RPQRP",
    "outputId": "010195f0-1294-4338-e946-82a90c83da0d"
   },
   "outputs": [
    {
     "data": {
      "text/plain": [
       "(dtype('float64'), torch.float64)"
      ]
     },
     "execution_count": 34,
     "metadata": {
      "tags": []
     },
     "output_type": "execute_result"
    }
   ],
   "source": [
    "# checking data type is same or not \n",
    "x.dtype, y.dtype"
   ]
  },
  {
   "cell_type": "code",
   "execution_count": null,
   "metadata": {
    "colab": {
     "base_uri": "https://localhost:8080/",
     "height": 52
    },
    "colab_type": "code",
    "executionInfo": {
     "elapsed": 924,
     "status": "ok",
     "timestamp": 1596893158702,
     "user": {
      "displayName": "Sandeep Naagar",
      "photoUrl": "https://lh3.googleusercontent.com/a-/AOh14GjZywEjk2BilS2WJmmk2MC_x5UNZzS_ZjljHL4XFw=s64",
      "userId": "13180867705976122475"
     },
     "user_tz": -330
    },
    "id": "IeRmEVRKPgHr",
    "outputId": "4c22a07e-544f-403b-8472-d9ea3e583c33"
   },
   "outputs": [
    {
     "data": {
      "text/plain": [
       "array([[2.1, 4. ],\n",
       "       [3. , 9. ]])"
      ]
     },
     "execution_count": 41,
     "metadata": {
      "tags": []
     },
     "output_type": "execute_result"
    }
   ],
   "source": [
    "z = y.numpy()\n",
    "z"
   ]
  },
  {
   "cell_type": "code",
   "execution_count": null,
   "metadata": {
    "colab": {
     "base_uri": "https://localhost:8080/",
     "height": 455
    },
    "colab_type": "code",
    "executionInfo": {
     "elapsed": 11742,
     "status": "ok",
     "timestamp": 1596893436278,
     "user": {
      "displayName": "Sandeep Naagar",
      "photoUrl": "https://lh3.googleusercontent.com/a-/AOh14GjZywEjk2BilS2WJmmk2MC_x5UNZzS_ZjljHL4XFw=s64",
      "userId": "13180867705976122475"
     },
     "user_tz": -330
    },
    "id": "L9rrllegPu9k",
    "outputId": "0bd1dc33-d24c-495e-dd0d-75ba87515c68"
   },
   "outputs": [
    {
     "name": "stdout",
     "output_type": "stream",
     "text": [
      "Collecting jovian\n",
      "\u001b[?25l  Downloading https://files.pythonhosted.org/packages/27/6f/ec36e102fba4a767bb2e7cd6fa5ec6e34f6bfd4788ca47c9afd95ce2b4e2/jovian-0.2.18-py2.py3-none-any.whl (64kB)\n",
      "\r",
      "\u001b[K     |█████                           | 10kB 18.2MB/s eta 0:00:01\r",
      "\u001b[K     |██████████▏                     | 20kB 1.8MB/s eta 0:00:01\r",
      "\u001b[K     |███████████████▏                | 30kB 2.3MB/s eta 0:00:01\r",
      "\u001b[K     |████████████████████▎           | 40kB 2.5MB/s eta 0:00:01\r",
      "\u001b[K     |█████████████████████████▎      | 51kB 2.0MB/s eta 0:00:01\r",
      "\u001b[K     |██████████████████████████████▍ | 61kB 2.3MB/s eta 0:00:01\r",
      "\u001b[K     |████████████████████████████████| 71kB 2.0MB/s \n",
      "\u001b[?25hRequirement already satisfied, skipping upgrade: pyyaml in /usr/local/lib/python3.6/dist-packages (from jovian) (3.13)\n",
      "Requirement already satisfied, skipping upgrade: requests in /usr/local/lib/python3.6/dist-packages (from jovian) (2.23.0)\n",
      "Requirement already satisfied, skipping upgrade: click in /usr/local/lib/python3.6/dist-packages (from jovian) (7.1.2)\n",
      "Collecting uuid\n",
      "  Downloading https://files.pythonhosted.org/packages/ce/63/f42f5aa951ebf2c8dac81f77a8edcc1c218640a2a35a03b9ff2d4aa64c3d/uuid-1.30.tar.gz\n",
      "Requirement already satisfied, skipping upgrade: chardet<4,>=3.0.2 in /usr/local/lib/python3.6/dist-packages (from requests->jovian) (3.0.4)\n",
      "Requirement already satisfied, skipping upgrade: urllib3!=1.25.0,!=1.25.1,<1.26,>=1.21.1 in /usr/local/lib/python3.6/dist-packages (from requests->jovian) (1.24.3)\n",
      "Requirement already satisfied, skipping upgrade: idna<3,>=2.5 in /usr/local/lib/python3.6/dist-packages (from requests->jovian) (2.10)\n",
      "Requirement already satisfied, skipping upgrade: certifi>=2017.4.17 in /usr/local/lib/python3.6/dist-packages (from requests->jovian) (2020.6.20)\n",
      "Building wheels for collected packages: uuid\n",
      "  Building wheel for uuid (setup.py) ... \u001b[?25l\u001b[?25hdone\n",
      "  Created wheel for uuid: filename=uuid-1.30-cp36-none-any.whl size=6502 sha256=1822dfffc3735c04bd527ff8e7a3848dde46cec6cd5260dce80997c670b853e5\n",
      "  Stored in directory: /root/.cache/pip/wheels/2a/80/9b/015026567c29fdffe31d91edbe7ba1b17728db79194fca1f21\n",
      "Successfully built uuid\n",
      "Installing collected packages: uuid, jovian\n",
      "Successfully installed jovian-0.2.18 uuid-1.30\n"
     ]
    },
    {
     "data": {
      "application/vnd.colab-display-data+json": {
       "pip_warning": {
        "packages": [
         "uuid"
        ]
       }
      }
     },
     "metadata": {
      "tags": []
     },
     "output_type": "display_data"
    }
   ],
   "source": [
    "!pip install jovian --upgrade"
   ]
  },
  {
   "cell_type": "code",
   "execution_count": null,
   "metadata": {
    "colab": {},
    "colab_type": "code",
    "id": "kjfxw52mQrBI"
   },
   "outputs": [],
   "source": [
    "import torch"
   ]
  },
  {
   "cell_type": "markdown",
   "metadata": {
    "colab_type": "text",
    "id": "t9cKNIoQR_0A"
   },
   "source": [
    "# Linear Regression"
   ]
  },
  {
   "cell_type": "code",
   "execution_count": 8,
   "metadata": {
    "colab": {},
    "colab_type": "code",
    "executionInfo": {
     "elapsed": 6397,
     "status": "ok",
     "timestamp": 1597212270354,
     "user": {
      "displayName": "Sandeep Naagar",
      "photoUrl": "https://lh3.googleusercontent.com/a-/AOh14GjZywEjk2BilS2WJmmk2MC_x5UNZzS_ZjljHL4XFw=s64",
      "userId": "13180867705976122475"
     },
     "user_tz": -330
    },
    "id": "ujm6l_8QRNnp"
   },
   "outputs": [],
   "source": [
    "import numpy as np\n",
    "import torch"
   ]
  },
  {
   "cell_type": "code",
   "execution_count": 9,
   "metadata": {
    "colab": {},
    "colab_type": "code",
    "executionInfo": {
     "elapsed": 6148,
     "status": "ok",
     "timestamp": 1597212270357,
     "user": {
      "displayName": "Sandeep Naagar",
      "photoUrl": "https://lh3.googleusercontent.com/a-/AOh14GjZywEjk2BilS2WJmmk2MC_x5UNZzS_ZjljHL4XFw=s64",
      "userId": "13180867705976122475"
     },
     "user_tz": -330
    },
    "id": "JH4xZk-31hFQ"
   },
   "outputs": [],
   "source": [
    "# input (tem[p, rainfaal, humidity)\n",
    "inputs = np.array([[23, 64, 74],\n",
    "                   [54, 34, 92],\n",
    "                   [69, 42, 30],\n",
    "                   [102, 10, 34],\n",
    "                   [54, 34, 72]], dtype='float32')"
   ]
  },
  {
   "cell_type": "code",
   "execution_count": 10,
   "metadata": {
    "colab": {},
    "colab_type": "code",
    "executionInfo": {
     "elapsed": 5938,
     "status": "ok",
     "timestamp": 1597212270359,
     "user": {
      "displayName": "Sandeep Naagar",
      "photoUrl": "https://lh3.googleusercontent.com/a-/AOh14GjZywEjk2BilS2WJmmk2MC_x5UNZzS_ZjljHL4XFw=s64",
      "userId": "13180867705976122475"
     },
     "user_tz": -330
    },
    "id": "MCb2oFVDdFYh"
   },
   "outputs": [],
   "source": [
    "targets = np.array([[98, 64],\n",
    "                   [55, 66],\n",
    "                   [49, 94],\n",
    "                    [54, 35],\n",
    "                    [54, 64]],  dtype='float32')"
   ]
  },
  {
   "cell_type": "code",
   "execution_count": 11,
   "metadata": {
    "colab": {
     "base_uri": "https://localhost:8080/",
     "height": 191
    },
    "colab_type": "code",
    "executionInfo": {
     "elapsed": 5692,
     "status": "ok",
     "timestamp": 1597212270361,
     "user": {
      "displayName": "Sandeep Naagar",
      "photoUrl": "https://lh3.googleusercontent.com/a-/AOh14GjZywEjk2BilS2WJmmk2MC_x5UNZzS_ZjljHL4XFw=s64",
      "userId": "13180867705976122475"
     },
     "user_tz": -330
    },
    "id": "Ls69Y2CcdskZ",
    "outputId": "69f29f12-443f-4f36-8f29-9f578715389a"
   },
   "outputs": [
    {
     "name": "stdout",
     "output_type": "stream",
     "text": [
      "tensor([[ 23.,  64.,  74.],\n",
      "        [ 54.,  34.,  92.],\n",
      "        [ 69.,  42.,  30.],\n",
      "        [102.,  10.,  34.],\n",
      "        [ 54.,  34.,  72.]])\n",
      "tensor([[98., 64.],\n",
      "        [55., 66.],\n",
      "        [49., 94.],\n",
      "        [54., 35.],\n",
      "        [54., 64.]])\n"
     ]
    }
   ],
   "source": [
    "# converts inputs and targets to tensors\n",
    "inputs = torch.from_numpy(inputs)\n",
    "targets  = torch.from_numpy(targets)\n",
    "print(inputs)\n",
    "print(targets)"
   ]
  },
  {
   "cell_type": "code",
   "execution_count": 12,
   "metadata": {
    "colab": {
     "base_uri": "https://localhost:8080/",
     "height": 52
    },
    "colab_type": "code",
    "executionInfo": {
     "elapsed": 5434,
     "status": "ok",
     "timestamp": 1597212270429,
     "user": {
      "displayName": "Sandeep Naagar",
      "photoUrl": "https://lh3.googleusercontent.com/a-/AOh14GjZywEjk2BilS2WJmmk2MC_x5UNZzS_ZjljHL4XFw=s64",
      "userId": "13180867705976122475"
     },
     "user_tz": -330
    },
    "id": "T88Tmer_d_dc",
    "outputId": "129078da-8b7d-4c60-cee9-763d5a6a0bca"
   },
   "outputs": [
    {
     "name": "stdout",
     "output_type": "stream",
     "text": [
      "tensor([[-0.3234, -0.3740, -1.3905],\n",
      "        [-0.8249, -0.9731,  0.1332]], requires_grad=True) tensor([-0.0438, -0.9538], requires_grad=True)\n"
     ]
    }
   ],
   "source": [
    "w = torch.randn(2, 3 , requires_grad=True)\n",
    "b = torch.randn(2, requires_grad=True)\n",
    "print(w,b)"
   ]
  },
  {
   "cell_type": "code",
   "execution_count": 13,
   "metadata": {
    "colab": {},
    "colab_type": "code",
    "executionInfo": {
     "elapsed": 9316,
     "status": "ok",
     "timestamp": 1597212274567,
     "user": {
      "displayName": "Sandeep Naagar",
      "photoUrl": "https://lh3.googleusercontent.com/a-/AOh14GjZywEjk2BilS2WJmmk2MC_x5UNZzS_ZjljHL4XFw=s64",
      "userId": "13180867705976122475"
     },
     "user_tz": -330
    },
    "id": "x4PIxHQ-fUIB"
   },
   "outputs": [],
   "source": [
    "\n",
    "def model(x):\n",
    "  return x @ w.t() + b"
   ]
  },
  {
   "cell_type": "code",
   "execution_count": 14,
   "metadata": {
    "colab": {
     "base_uri": "https://localhost:8080/",
     "height": 104
    },
    "colab_type": "code",
    "executionInfo": {
     "elapsed": 8847,
     "status": "ok",
     "timestamp": 1597212274568,
     "user": {
      "displayName": "Sandeep Naagar",
      "photoUrl": "https://lh3.googleusercontent.com/a-/AOh14GjZywEjk2BilS2WJmmk2MC_x5UNZzS_ZjljHL4XFw=s64",
      "userId": "13180867705976122475"
     },
     "user_tz": -330
    },
    "id": "M4JcCosZj_78",
    "outputId": "fa442a4c-c739-4796-e776-a9aea267c49e"
   },
   "outputs": [
    {
     "name": "stdout",
     "output_type": "stream",
     "text": [
      "tensor([[-134.3213,  -72.3470],\n",
      "        [-158.1568,  -66.3282],\n",
      "        [ -79.7873,  -94.7440],\n",
      "        [ -84.0540,  -90.2935],\n",
      "        [-130.3460,  -68.9921]], grad_fn=<AddBackward0>)\n"
     ]
    }
   ],
   "source": [
    "\n",
    "\n",
    "# Generats predctions \n",
    "preds = model(inputs)\n",
    "print(preds)"
   ]
  },
  {
   "cell_type": "code",
   "execution_count": 15,
   "metadata": {
    "colab": {
     "base_uri": "https://localhost:8080/",
     "height": 104
    },
    "colab_type": "code",
    "executionInfo": {
     "elapsed": 8683,
     "status": "ok",
     "timestamp": 1597212274568,
     "user": {
      "displayName": "Sandeep Naagar",
      "photoUrl": "https://lh3.googleusercontent.com/a-/AOh14GjZywEjk2BilS2WJmmk2MC_x5UNZzS_ZjljHL4XFw=s64",
      "userId": "13180867705976122475"
     },
     "user_tz": -330
    },
    "id": "Geylp4v8kb22",
    "outputId": "da181a73-7ac1-493c-a2e3-b1d35071bd12"
   },
   "outputs": [
    {
     "name": "stdout",
     "output_type": "stream",
     "text": [
      "tensor([[98., 64.],\n",
      "        [55., 66.],\n",
      "        [49., 94.],\n",
      "        [54., 35.],\n",
      "        [54., 64.]])\n"
     ]
    }
   ],
   "source": [
    "\n",
    "\n",
    "\n",
    "print(targets)"
   ]
  },
  {
   "cell_type": "code",
   "execution_count": 16,
   "metadata": {
    "colab": {},
    "colab_type": "code",
    "executionInfo": {
     "elapsed": 8589,
     "status": "ok",
     "timestamp": 1597212274569,
     "user": {
      "displayName": "Sandeep Naagar",
      "photoUrl": "https://lh3.googleusercontent.com/a-/AOh14GjZywEjk2BilS2WJmmk2MC_x5UNZzS_ZjljHL4XFw=s64",
      "userId": "13180867705976122475"
     },
     "user_tz": -330
    },
    "id": "fQob9f1Hl5gz"
   },
   "outputs": [],
   "source": [
    "diff = targets - preds"
   ]
  },
  {
   "cell_type": "code",
   "execution_count": 17,
   "metadata": {
    "colab": {},
    "colab_type": "code",
    "executionInfo": {
     "elapsed": 8427,
     "status": "ok",
     "timestamp": 1597212274570,
     "user": {
      "displayName": "Sandeep Naagar",
      "photoUrl": "https://lh3.googleusercontent.com/a-/AOh14GjZywEjk2BilS2WJmmk2MC_x5UNZzS_ZjljHL4XFw=s64",
      "userId": "13180867705976122475"
     },
     "user_tz": -330
    },
    "id": "2Ac-QRzdmj5J"
   },
   "outputs": [],
   "source": [
    "def mse(t1, t2):\n",
    "  diff = t1 - t2\n",
    "  return torch.sum(diff * diff) / diff.numel()"
   ]
  },
  {
   "cell_type": "code",
   "execution_count": 18,
   "metadata": {
    "colab": {},
    "colab_type": "code",
    "executionInfo": {
     "elapsed": 8239,
     "status": "ok",
     "timestamp": 1597212274572,
     "user": {
      "displayName": "Sandeep Naagar",
      "photoUrl": "https://lh3.googleusercontent.com/a-/AOh14GjZywEjk2BilS2WJmmk2MC_x5UNZzS_ZjljHL4XFw=s64",
      "userId": "13180867705976122475"
     },
     "user_tz": -330
    },
    "id": "apgPNF-inuzc"
   },
   "outputs": [],
   "source": [
    "# loss function\n",
    "loss = mse(preds, targets)"
   ]
  },
  {
   "cell_type": "code",
   "execution_count": 19,
   "metadata": {
    "colab": {
     "base_uri": "https://localhost:8080/",
     "height": 34
    },
    "colab_type": "code",
    "executionInfo": {
     "elapsed": 7995,
     "status": "ok",
     "timestamp": 1597212274573,
     "user": {
      "displayName": "Sandeep Naagar",
      "photoUrl": "https://lh3.googleusercontent.com/a-/AOh14GjZywEjk2BilS2WJmmk2MC_x5UNZzS_ZjljHL4XFw=s64",
      "userId": "13180867705976122475"
     },
     "user_tz": -330
    },
    "id": "B39AuWo_n1Pg",
    "outputId": "9ef283c3-92df-4f9d-c179-1e3345275c25"
   },
   "outputs": [
    {
     "name": "stdout",
     "output_type": "stream",
     "text": [
      "tensor(27414.8379, grad_fn=<DivBackward0>)\n"
     ]
    }
   ],
   "source": [
    "print(loss)"
   ]
  },
  {
   "cell_type": "code",
   "execution_count": 20,
   "metadata": {
    "colab": {},
    "colab_type": "code",
    "executionInfo": {
     "elapsed": 7883,
     "status": "ok",
     "timestamp": 1597212274575,
     "user": {
      "displayName": "Sandeep Naagar",
      "photoUrl": "https://lh3.googleusercontent.com/a-/AOh14GjZywEjk2BilS2WJmmk2MC_x5UNZzS_ZjljHL4XFw=s64",
      "userId": "13180867705976122475"
     },
     "user_tz": -330
    },
    "id": "2Ui2iXFlptlO"
   },
   "outputs": [],
   "source": [
    "# compute gradients\n",
    "loss.backward()"
   ]
  },
  {
   "cell_type": "code",
   "execution_count": 21,
   "metadata": {
    "colab": {
     "base_uri": "https://localhost:8080/",
     "height": 69
    },
    "colab_type": "code",
    "executionInfo": {
     "elapsed": 7744,
     "status": "ok",
     "timestamp": 1597212274577,
     "user": {
      "displayName": "Sandeep Naagar",
      "photoUrl": "https://lh3.googleusercontent.com/a-/AOh14GjZywEjk2BilS2WJmmk2MC_x5UNZzS_ZjljHL4XFw=s64",
      "userId": "13180867705976122475"
     },
     "user_tz": -330
    },
    "id": "bysauh1vp-Xa",
    "outputId": "3c0217c7-b29c-42a5-be8d-2af33171b212"
   },
   "outputs": [
    {
     "name": "stdout",
     "output_type": "stream",
     "text": [
      "tensor([[-0.3234, -0.3740, -1.3905],\n",
      "        [-0.8249, -0.9731,  0.1332]], requires_grad=True) tensor([[ -9955.2744,  -7034.6523, -11726.5127],\n",
      "        [ -8653.3086,  -5385.4551,  -8352.3193]])\n"
     ]
    }
   ],
   "source": [
    "print(w, w.grad)"
   ]
  },
  {
   "cell_type": "code",
   "execution_count": 22,
   "metadata": {
    "colab": {
     "base_uri": "https://localhost:8080/",
     "height": 34
    },
    "colab_type": "code",
    "executionInfo": {
     "elapsed": 7613,
     "status": "ok",
     "timestamp": 1597212274578,
     "user": {
      "displayName": "Sandeep Naagar",
      "photoUrl": "https://lh3.googleusercontent.com/a-/AOh14GjZywEjk2BilS2WJmmk2MC_x5UNZzS_ZjljHL4XFw=s64",
      "userId": "13180867705976122475"
     },
     "user_tz": -330
    },
    "id": "I2GJj-rAqGsK",
    "outputId": "1669391b-9899-41c8-f025-24708cbd6c3d"
   },
   "outputs": [
    {
     "name": "stdout",
     "output_type": "stream",
     "text": [
      "tensor([-0.0438, -0.9538], requires_grad=True) tensor([-179.3331, -143.1409])\n"
     ]
    }
   ],
   "source": [
    "print(b, b.grad)"
   ]
  },
  {
   "cell_type": "code",
   "execution_count": 23,
   "metadata": {
    "colab": {
     "base_uri": "https://localhost:8080/",
     "height": 52
    },
    "colab_type": "code",
    "executionInfo": {
     "elapsed": 7410,
     "status": "ok",
     "timestamp": 1597212274579,
     "user": {
      "displayName": "Sandeep Naagar",
      "photoUrl": "https://lh3.googleusercontent.com/a-/AOh14GjZywEjk2BilS2WJmmk2MC_x5UNZzS_ZjljHL4XFw=s64",
      "userId": "13180867705976122475"
     },
     "user_tz": -330
    },
    "id": "EQGu_KDEqiZ0",
    "outputId": "f1fafee1-1a4c-46a3-a4c4-b0e339fbec24"
   },
   "outputs": [
    {
     "name": "stdout",
     "output_type": "stream",
     "text": [
      "tensor([[0., 0., 0.],\n",
      "        [0., 0., 0.]]) tensor([0., 0.])\n"
     ]
    }
   ],
   "source": [
    "w.grad.zero_()\n",
    "b.grad.zero_()\n",
    "print(w.grad, b.grad)"
   ]
  },
  {
   "cell_type": "code",
   "execution_count": 24,
   "metadata": {
    "colab": {},
    "colab_type": "code",
    "executionInfo": {
     "elapsed": 7225,
     "status": "ok",
     "timestamp": 1597212274580,
     "user": {
      "displayName": "Sandeep Naagar",
      "photoUrl": "https://lh3.googleusercontent.com/a-/AOh14GjZywEjk2BilS2WJmmk2MC_x5UNZzS_ZjljHL4XFw=s64",
      "userId": "13180867705976122475"
     },
     "user_tz": -330
    },
    "id": "thF_24invbQC"
   },
   "outputs": [],
   "source": [
    "preds = model(inputs)"
   ]
  },
  {
   "cell_type": "code",
   "execution_count": 25,
   "metadata": {
    "colab": {
     "base_uri": "https://localhost:8080/",
     "height": 104
    },
    "colab_type": "code",
    "executionInfo": {
     "elapsed": 6972,
     "status": "ok",
     "timestamp": 1597212274581,
     "user": {
      "displayName": "Sandeep Naagar",
      "photoUrl": "https://lh3.googleusercontent.com/a-/AOh14GjZywEjk2BilS2WJmmk2MC_x5UNZzS_ZjljHL4XFw=s64",
      "userId": "13180867705976122475"
     },
     "user_tz": -330
    },
    "id": "1kNAzFD_vpet",
    "outputId": "84c285e8-2cfc-4c12-de69-c58017937940"
   },
   "outputs": [
    {
     "name": "stdout",
     "output_type": "stream",
     "text": [
      "tensor([[-134.3213,  -72.3470],\n",
      "        [-158.1568,  -66.3282],\n",
      "        [ -79.7873,  -94.7440],\n",
      "        [ -84.0540,  -90.2935],\n",
      "        [-130.3460,  -68.9921]], grad_fn=<AddBackward0>)\n"
     ]
    }
   ],
   "source": [
    "print(preds)"
   ]
  },
  {
   "cell_type": "code",
   "execution_count": 26,
   "metadata": {
    "colab": {
     "base_uri": "https://localhost:8080/",
     "height": 34
    },
    "colab_type": "code",
    "executionInfo": {
     "elapsed": 6767,
     "status": "ok",
     "timestamp": 1597212274583,
     "user": {
      "displayName": "Sandeep Naagar",
      "photoUrl": "https://lh3.googleusercontent.com/a-/AOh14GjZywEjk2BilS2WJmmk2MC_x5UNZzS_ZjljHL4XFw=s64",
      "userId": "13180867705976122475"
     },
     "user_tz": -330
    },
    "id": "Y4MDg9Wuv3Dd",
    "outputId": "f0ef9699-5d9b-405c-f391-e6e49c1171bb"
   },
   "outputs": [
    {
     "name": "stdout",
     "output_type": "stream",
     "text": [
      "tensor(27414.8379, grad_fn=<DivBackward0>)\n"
     ]
    }
   ],
   "source": [
    "loss  = mse(preds, targets)\n",
    "print(loss)"
   ]
  },
  {
   "cell_type": "code",
   "execution_count": 27,
   "metadata": {
    "colab": {
     "base_uri": "https://localhost:8080/",
     "height": 52
    },
    "colab_type": "code",
    "executionInfo": {
     "elapsed": 6536,
     "status": "ok",
     "timestamp": 1597212274584,
     "user": {
      "displayName": "Sandeep Naagar",
      "photoUrl": "https://lh3.googleusercontent.com/a-/AOh14GjZywEjk2BilS2WJmmk2MC_x5UNZzS_ZjljHL4XFw=s64",
      "userId": "13180867705976122475"
     },
     "user_tz": -330
    },
    "id": "xQUTtNDbvryN",
    "outputId": "eee3e071-7609-451c-9424-e5f585180a82"
   },
   "outputs": [
    {
     "name": "stdout",
     "output_type": "stream",
     "text": [
      "tensor([[ -9955.2744,  -7034.6523, -11726.5127],\n",
      "        [ -8653.3086,  -5385.4551,  -8352.3193]]) tensor([-179.3331, -143.1409])\n"
     ]
    }
   ],
   "source": [
    "\n",
    "loss.backward()\n",
    "print(w.grad, b.grad)"
   ]
  },
  {
   "cell_type": "code",
   "execution_count": 28,
   "metadata": {
    "colab": {},
    "colab_type": "code",
    "executionInfo": {
     "elapsed": 6338,
     "status": "ok",
     "timestamp": 1597212274585,
     "user": {
      "displayName": "Sandeep Naagar",
      "photoUrl": "https://lh3.googleusercontent.com/a-/AOh14GjZywEjk2BilS2WJmmk2MC_x5UNZzS_ZjljHL4XFw=s64",
      "userId": "13180867705976122475"
     },
     "user_tz": -330
    },
    "id": "VzMDRswWvyy1"
   },
   "outputs": [],
   "source": [
    "# adjust weights & reset gradients\n",
    "with torch.no_grad():\n",
    "  w -= w.grad * 1e-5\n",
    "  b -= b.grad * 1e-5\n",
    "  w.grad.zero_()\n",
    "  b.grad.zero_()\n"
   ]
  },
  {
   "cell_type": "code",
   "execution_count": 29,
   "metadata": {
    "colab": {
     "base_uri": "https://localhost:8080/",
     "height": 52
    },
    "colab_type": "code",
    "executionInfo": {
     "elapsed": 6069,
     "status": "ok",
     "timestamp": 1597212274586,
     "user": {
      "displayName": "Sandeep Naagar",
      "photoUrl": "https://lh3.googleusercontent.com/a-/AOh14GjZywEjk2BilS2WJmmk2MC_x5UNZzS_ZjljHL4XFw=s64",
      "userId": "13180867705976122475"
     },
     "user_tz": -330
    },
    "id": "A0QvpNHAwlyF",
    "outputId": "cae985b9-0ab8-434e-ea3c-221e7b2f617c"
   },
   "outputs": [
    {
     "name": "stdout",
     "output_type": "stream",
     "text": [
      "tensor([[-0.2239, -0.3037, -1.2733],\n",
      "        [-0.7383, -0.9192,  0.2167]], requires_grad=True) tensor([-0.0420, -0.9524], requires_grad=True)\n"
     ]
    }
   ],
   "source": [
    "print(w,b)"
   ]
  },
  {
   "cell_type": "code",
   "execution_count": 30,
   "metadata": {
    "colab": {
     "base_uri": "https://localhost:8080/",
     "height": 34
    },
    "colab_type": "code",
    "executionInfo": {
     "elapsed": 5804,
     "status": "ok",
     "timestamp": 1597212274587,
     "user": {
      "displayName": "Sandeep Naagar",
      "photoUrl": "https://lh3.googleusercontent.com/a-/AOh14GjZywEjk2BilS2WJmmk2MC_x5UNZzS_ZjljHL4XFw=s64",
      "userId": "13180867705976122475"
     },
     "user_tz": -330
    },
    "id": "ifhVHTrqw26F",
    "outputId": "048fcdad-2e13-499a-b231-0a1c81bf9e0f"
   },
   "outputs": [
    {
     "name": "stdout",
     "output_type": "stream",
     "text": [
      "tensor(23017.0684, grad_fn=<DivBackward0>)\n"
     ]
    }
   ],
   "source": [
    "# claculate loss\n",
    "preds = model(inputs)\n",
    "loss = mse(preds, targets)\n",
    "print(loss)"
   ]
  },
  {
   "cell_type": "code",
   "execution_count": 31,
   "metadata": {
    "colab": {},
    "colab_type": "code",
    "executionInfo": {
     "elapsed": 10098,
     "status": "ok",
     "timestamp": 1597212278997,
     "user": {
      "displayName": "Sandeep Naagar",
      "photoUrl": "https://lh3.googleusercontent.com/a-/AOh14GjZywEjk2BilS2WJmmk2MC_x5UNZzS_ZjljHL4XFw=s64",
      "userId": "13180867705976122475"
     },
     "user_tz": -330
    },
    "id": "khWiEhLAxNl_"
   },
   "outputs": [],
   "source": [
    "# train \n",
    "epochs = 10000\n",
    "for i in range(0,epochs):\n",
    "  preds = model(inputs)\n",
    "  loss = mse(preds, targets)\n",
    "  loss.backward()\n",
    "  # if i /10 :\n",
    "  #   print(loss)\n",
    "  with torch.no_grad():\n",
    "    w -= w.grad * 1e-5\n",
    "    b -= b.grad * 1e-5\n",
    "    w.grad.zero_()\n",
    "    b.grad.zero_()\n",
    " "
   ]
  },
  {
   "cell_type": "code",
   "execution_count": 32,
   "metadata": {
    "colab": {
     "base_uri": "https://localhost:8080/",
     "height": 34
    },
    "colab_type": "code",
    "executionInfo": {
     "elapsed": 9849,
     "status": "ok",
     "timestamp": 1597212278998,
     "user": {
      "displayName": "Sandeep Naagar",
      "photoUrl": "https://lh3.googleusercontent.com/a-/AOh14GjZywEjk2BilS2WJmmk2MC_x5UNZzS_ZjljHL4XFw=s64",
      "userId": "13180867705976122475"
     },
     "user_tz": -330
    },
    "id": "_D_4EeX6xh2z",
    "outputId": "0b6c72c8-f131-43f8-ef43-2f51bfb94678"
   },
   "outputs": [
    {
     "name": "stdout",
     "output_type": "stream",
     "text": [
      "tensor(173.0457, grad_fn=<DivBackward0>)\n"
     ]
    }
   ],
   "source": [
    "# calculate loss \n",
    "preds = model(inputs)\n",
    "loss  = mse(preds, targets)\n",
    "print(loss)"
   ]
  },
  {
   "cell_type": "code",
   "execution_count": 33,
   "metadata": {
    "colab": {
     "base_uri": "https://localhost:8080/",
     "height": 191
    },
    "colab_type": "code",
    "executionInfo": {
     "elapsed": 9703,
     "status": "ok",
     "timestamp": 1597212279000,
     "user": {
      "displayName": "Sandeep Naagar",
      "photoUrl": "https://lh3.googleusercontent.com/a-/AOh14GjZywEjk2BilS2WJmmk2MC_x5UNZzS_ZjljHL4XFw=s64",
      "userId": "13180867705976122475"
     },
     "user_tz": -330
    },
    "id": "8bAG-a9Kyh4M",
    "outputId": "bbc5a79c-1ee6-4d19-9cae-e5aa9ea1c75e"
   },
   "outputs": [
    {
     "name": "stdout",
     "output_type": "stream",
     "text": [
      "tensor([[83.1185, 81.1966],\n",
      "        [62.8786, 56.6803],\n",
      "        [64.1642, 76.4038],\n",
      "        [40.0052, 51.1740],\n",
      "        [59.5180, 57.9282]], grad_fn=<AddBackward0>)\n",
      "tensor([[98., 64.],\n",
      "        [55., 66.],\n",
      "        [49., 94.],\n",
      "        [54., 35.],\n",
      "        [54., 64.]])\n"
     ]
    }
   ],
   "source": [
    "print(preds)\n",
    "print(targets)"
   ]
  },
  {
   "cell_type": "code",
   "execution_count": 34,
   "metadata": {
    "colab": {},
    "colab_type": "code",
    "executionInfo": {
     "elapsed": 9480,
     "status": "ok",
     "timestamp": 1597212279002,
     "user": {
      "displayName": "Sandeep Naagar",
      "photoUrl": "https://lh3.googleusercontent.com/a-/AOh14GjZywEjk2BilS2WJmmk2MC_x5UNZzS_ZjljHL4XFw=s64",
      "userId": "13180867705976122475"
     },
     "user_tz": -330
    },
    "id": "EqXg__BLyves"
   },
   "outputs": [],
   "source": [
    "# Liear Regressing using PyTorch built-ins"
   ]
  },
  {
   "cell_type": "code",
   "execution_count": 35,
   "metadata": {
    "colab": {},
    "colab_type": "code",
    "executionInfo": {
     "elapsed": 9220,
     "status": "ok",
     "timestamp": 1597212279004,
     "user": {
      "displayName": "Sandeep Naagar",
      "photoUrl": "https://lh3.googleusercontent.com/a-/AOh14GjZywEjk2BilS2WJmmk2MC_x5UNZzS_ZjljHL4XFw=s64",
      "userId": "13180867705976122475"
     },
     "user_tz": -330
    },
    "id": "ZcjylNhyzMXL"
   },
   "outputs": [],
   "source": [
    "import torch.nn as nn\n"
   ]
  },
  {
   "cell_type": "code",
   "execution_count": 36,
   "metadata": {
    "colab": {},
    "colab_type": "code",
    "executionInfo": {
     "elapsed": 9033,
     "status": "ok",
     "timestamp": 1597212279005,
     "user": {
      "displayName": "Sandeep Naagar",
      "photoUrl": "https://lh3.googleusercontent.com/a-/AOh14GjZywEjk2BilS2WJmmk2MC_x5UNZzS_ZjljHL4XFw=s64",
      "userId": "13180867705976122475"
     },
     "user_tz": -330
    },
    "id": "YLcWad4_zQJd"
   },
   "outputs": [],
   "source": [
    "# Input (temp, rainfall, humidity)\n",
    "inputs = np.array([[73, 67, 43], [91, 88, 64], [87, 134, 58], \n",
    "                   [102, 43, 37], [69, 96, 70], [73, 67, 43], \n",
    "                   [91, 88, 64], [87, 134, 58], [102, 43, 37], \n",
    "                   [69, 96, 70], [73, 67, 43], [91, 88, 64], \n",
    "                   [87, 134, 58], [102, 43, 37], [69, 96, 70]], \n",
    "                  dtype='float32')\n",
    "\n",
    "# Targets (apples, oranges)\n",
    "targets = np.array([[56, 70], [81, 101], [119, 133], \n",
    "                    [22, 37], [103, 119], [56, 70], \n",
    "                    [81, 101], [119, 133], [22, 37], \n",
    "                    [103, 119], [56, 70], [81, 101], \n",
    "                    [119, 133], [22, 37], [103, 119]], \n",
    "                   dtype='float32')\n",
    "\n",
    "inputs = torch.from_numpy(inputs)\n",
    "targets = torch.from_numpy(targets)"
   ]
  },
  {
   "cell_type": "code",
   "execution_count": 37,
   "metadata": {
    "colab": {},
    "colab_type": "code",
    "executionInfo": {
     "elapsed": 8742,
     "status": "ok",
     "timestamp": 1597212279007,
     "user": {
      "displayName": "Sandeep Naagar",
      "photoUrl": "https://lh3.googleusercontent.com/a-/AOh14GjZywEjk2BilS2WJmmk2MC_x5UNZzS_ZjljHL4XFw=s64",
      "userId": "13180867705976122475"
     },
     "user_tz": -330
    },
    "id": "MoAn7VC8zt9t"
   },
   "outputs": [],
   "source": [
    "##  Load dataset \n",
    "from torch.utils.data import TensorDataset\n"
   ]
  },
  {
   "cell_type": "code",
   "execution_count": 38,
   "metadata": {
    "colab": {
     "base_uri": "https://localhost:8080/",
     "height": 104
    },
    "colab_type": "code",
    "executionInfo": {
     "elapsed": 8422,
     "status": "ok",
     "timestamp": 1597212279008,
     "user": {
      "displayName": "Sandeep Naagar",
      "photoUrl": "https://lh3.googleusercontent.com/a-/AOh14GjZywEjk2BilS2WJmmk2MC_x5UNZzS_ZjljHL4XFw=s64",
      "userId": "13180867705976122475"
     },
     "user_tz": -330
    },
    "id": "lOUBiOQS0GYv",
    "outputId": "4273ccd8-f86c-454a-a4d4-8fe9a0d9b7a6"
   },
   "outputs": [
    {
     "data": {
      "text/plain": [
       "(tensor([[ 73.,  67.,  43.],\n",
       "         [ 91.,  88.,  64.],\n",
       "         [ 87., 134.,  58.]]), tensor([[ 56.,  70.],\n",
       "         [ 81., 101.],\n",
       "         [119., 133.]]))"
      ]
     },
     "execution_count": 38,
     "metadata": {
      "tags": []
     },
     "output_type": "execute_result"
    }
   ],
   "source": [
    "# defin dataset \n",
    "train_ds = TensorDataset(inputs, targets)\n",
    "train_ds[0:3]"
   ]
  },
  {
   "cell_type": "code",
   "execution_count": 39,
   "metadata": {
    "colab": {},
    "colab_type": "code",
    "executionInfo": {
     "elapsed": 8213,
     "status": "ok",
     "timestamp": 1597212279010,
     "user": {
      "displayName": "Sandeep Naagar",
      "photoUrl": "https://lh3.googleusercontent.com/a-/AOh14GjZywEjk2BilS2WJmmk2MC_x5UNZzS_ZjljHL4XFw=s64",
      "userId": "13180867705976122475"
     },
     "user_tz": -330
    },
    "id": "H5t2dr760VPS"
   },
   "outputs": [],
   "source": [
    "from torch.utils.data import DataLoader"
   ]
  },
  {
   "cell_type": "code",
   "execution_count": 40,
   "metadata": {
    "colab": {},
    "colab_type": "code",
    "executionInfo": {
     "elapsed": 7985,
     "status": "ok",
     "timestamp": 1597212279010,
     "user": {
      "displayName": "Sandeep Naagar",
      "photoUrl": "https://lh3.googleusercontent.com/a-/AOh14GjZywEjk2BilS2WJmmk2MC_x5UNZzS_ZjljHL4XFw=s64",
      "userId": "13180867705976122475"
     },
     "user_tz": -330
    },
    "id": "qnZISn-K0z8n"
   },
   "outputs": [],
   "source": [
    "# define data loader \n",
    "batch_size = 5\n",
    "train_d1 = DataLoader(train_ds, batch_size, shuffle=True)"
   ]
  },
  {
   "cell_type": "code",
   "execution_count": 41,
   "metadata": {
    "colab": {
     "base_uri": "https://localhost:8080/",
     "height": 538
    },
    "colab_type": "code",
    "executionInfo": {
     "elapsed": 7711,
     "status": "ok",
     "timestamp": 1597212279012,
     "user": {
      "displayName": "Sandeep Naagar",
      "photoUrl": "https://lh3.googleusercontent.com/a-/AOh14GjZywEjk2BilS2WJmmk2MC_x5UNZzS_ZjljHL4XFw=s64",
      "userId": "13180867705976122475"
     },
     "user_tz": -330
    },
    "id": "5d4TqWYz1HKe",
    "outputId": "43b64c26-3a4c-4ceb-ac7f-16434c9da061"
   },
   "outputs": [
    {
     "name": "stdout",
     "output_type": "stream",
     "text": [
      "tensor([[91., 88., 64.],\n",
      "        [73., 67., 43.],\n",
      "        [91., 88., 64.],\n",
      "        [69., 96., 70.],\n",
      "        [73., 67., 43.]])\n",
      "tensor([[ 81., 101.],\n",
      "        [ 56.,  70.],\n",
      "        [ 81., 101.],\n",
      "        [103., 119.],\n",
      "        [ 56.,  70.]])\n",
      "tensor([[ 69.,  96.,  70.],\n",
      "        [102.,  43.,  37.],\n",
      "        [ 73.,  67.,  43.],\n",
      "        [ 91.,  88.,  64.],\n",
      "        [102.,  43.,  37.]])\n",
      "tensor([[103., 119.],\n",
      "        [ 22.,  37.],\n",
      "        [ 56.,  70.],\n",
      "        [ 81., 101.],\n",
      "        [ 22.,  37.]])\n",
      "tensor([[ 87., 134.,  58.],\n",
      "        [102.,  43.,  37.],\n",
      "        [ 69.,  96.,  70.],\n",
      "        [ 87., 134.,  58.],\n",
      "        [ 87., 134.,  58.]])\n",
      "tensor([[119., 133.],\n",
      "        [ 22.,  37.],\n",
      "        [103., 119.],\n",
      "        [119., 133.],\n",
      "        [119., 133.]])\n"
     ]
    }
   ],
   "source": [
    "for xb, yb in train_d1:\n",
    "  print(xb)\n",
    "  print(yb)\n",
    "  #break"
   ]
  },
  {
   "cell_type": "code",
   "execution_count": 42,
   "metadata": {
    "colab": {
     "base_uri": "https://localhost:8080/",
     "height": 104
    },
    "colab_type": "code",
    "executionInfo": {
     "elapsed": 7434,
     "status": "ok",
     "timestamp": 1597212279014,
     "user": {
      "displayName": "Sandeep Naagar",
      "photoUrl": "https://lh3.googleusercontent.com/a-/AOh14GjZywEjk2BilS2WJmmk2MC_x5UNZzS_ZjljHL4XFw=s64",
      "userId": "13180867705976122475"
     },
     "user_tz": -330
    },
    "id": "79op8j1V1Xhl",
    "outputId": "0cf02990-add2-4a7e-e9e8-b218e36e8798"
   },
   "outputs": [
    {
     "name": "stdout",
     "output_type": "stream",
     "text": [
      "Parameter containing:\n",
      "tensor([[ 0.0630, -0.3968,  0.0582],\n",
      "        [-0.0762, -0.0788,  0.1466]], requires_grad=True)\n",
      "Parameter containing:\n",
      "tensor([0.3633, 0.1505], requires_grad=True)\n"
     ]
    }
   ],
   "source": [
    "# define model \n",
    "model = nn.Linear(3, 2)\n",
    "print(model.weight)\n",
    "print(model.bias)"
   ]
  },
  {
   "cell_type": "code",
   "execution_count": 43,
   "metadata": {
    "colab": {
     "base_uri": "https://localhost:8080/",
     "height": 104
    },
    "colab_type": "code",
    "executionInfo": {
     "elapsed": 7262,
     "status": "ok",
     "timestamp": 1597212279015,
     "user": {
      "displayName": "Sandeep Naagar",
      "photoUrl": "https://lh3.googleusercontent.com/a-/AOh14GjZywEjk2BilS2WJmmk2MC_x5UNZzS_ZjljHL4XFw=s64",
      "userId": "13180867705976122475"
     },
     "user_tz": -330
    },
    "id": "D8BzR5Fh1-Gx",
    "outputId": "b313676d-48cf-4ee0-a5ee-536975d69f13"
   },
   "outputs": [
    {
     "data": {
      "text/plain": [
       "[Parameter containing:\n",
       " tensor([[ 0.0630, -0.3968,  0.0582],\n",
       "         [-0.0762, -0.0788,  0.1466]], requires_grad=True),\n",
       " Parameter containing:\n",
       " tensor([0.3633, 0.1505], requires_grad=True)]"
      ]
     },
     "execution_count": 43,
     "metadata": {
      "tags": []
     },
     "output_type": "execute_result"
    }
   ],
   "source": [
    "list(model.parameters())"
   ]
  },
  {
   "cell_type": "code",
   "execution_count": 44,
   "metadata": {
    "colab": {},
    "colab_type": "code",
    "executionInfo": {
     "elapsed": 6848,
     "status": "ok",
     "timestamp": 1597212279017,
     "user": {
      "displayName": "Sandeep Naagar",
      "photoUrl": "https://lh3.googleusercontent.com/a-/AOh14GjZywEjk2BilS2WJmmk2MC_x5UNZzS_ZjljHL4XFw=s64",
      "userId": "13180867705976122475"
     },
     "user_tz": -330
    },
    "id": "iumnQ7Y_2MOh"
   },
   "outputs": [],
   "source": [
    "preds = model(inputs)"
   ]
  },
  {
   "cell_type": "code",
   "execution_count": 45,
   "metadata": {
    "colab": {
     "base_uri": "https://localhost:8080/",
     "height": 278
    },
    "colab_type": "code",
    "executionInfo": {
     "elapsed": 6612,
     "status": "ok",
     "timestamp": 1597212279019,
     "user": {
      "displayName": "Sandeep Naagar",
      "photoUrl": "https://lh3.googleusercontent.com/a-/AOh14GjZywEjk2BilS2WJmmk2MC_x5UNZzS_ZjljHL4XFw=s64",
      "userId": "13180867705976122475"
     },
     "user_tz": -330
    },
    "id": "NjNCI2IP2SOC",
    "outputId": "c6471aa3-c79c-4416-f6b0-d6c304d8b135"
   },
   "outputs": [
    {
     "data": {
      "text/plain": [
       "tensor([[-19.1181,  -4.3877],\n",
       "        [-25.0942,  -4.3358],\n",
       "        [-43.9469,  -8.5373],\n",
       "        [ -8.1169,  -5.5836],\n",
       "        [-29.3058,  -2.4115],\n",
       "        [-19.1181,  -4.3877],\n",
       "        [-25.0942,  -4.3358],\n",
       "        [-43.9469,  -8.5373],\n",
       "        [ -8.1169,  -5.5836],\n",
       "        [-29.3058,  -2.4115],\n",
       "        [-19.1181,  -4.3877],\n",
       "        [-25.0942,  -4.3358],\n",
       "        [-43.9469,  -8.5373],\n",
       "        [ -8.1169,  -5.5836],\n",
       "        [-29.3058,  -2.4115]], grad_fn=<AddmmBackward>)"
      ]
     },
     "execution_count": 45,
     "metadata": {
      "tags": []
     },
     "output_type": "execute_result"
    }
   ],
   "source": [
    "preds"
   ]
  },
  {
   "cell_type": "code",
   "execution_count": 46,
   "metadata": {
    "colab": {
     "base_uri": "https://localhost:8080/",
     "height": 34
    },
    "colab_type": "code",
    "executionInfo": {
     "elapsed": 6294,
     "status": "ok",
     "timestamp": 1597212279019,
     "user": {
      "displayName": "Sandeep Naagar",
      "photoUrl": "https://lh3.googleusercontent.com/a-/AOh14GjZywEjk2BilS2WJmmk2MC_x5UNZzS_ZjljHL4XFw=s64",
      "userId": "13180867705976122475"
     },
     "user_tz": -330
    },
    "id": "Wj-b1suH2Ty9",
    "outputId": "eba93535-e4fc-46de-b460-865e5a0df3d8"
   },
   "outputs": [
    {
     "data": {
      "text/plain": [
       "tensor(173.0457, grad_fn=<DivBackward0>)"
      ]
     },
     "execution_count": 46,
     "metadata": {
      "tags": []
     },
     "output_type": "execute_result"
    }
   ],
   "source": [
    "# loss function \n",
    "import torch.nn.functional as F\n",
    "loss_fn = F.mse_loss\n",
    "loss\n",
    "#  ?F.mse_loss"
   ]
  },
  {
   "cell_type": "code",
   "execution_count": 47,
   "metadata": {
    "colab": {
     "base_uri": "https://localhost:8080/",
     "height": 156
    },
    "colab_type": "code",
    "executionInfo": {
     "elapsed": 5997,
     "status": "ok",
     "timestamp": 1597212279021,
     "user": {
      "displayName": "Sandeep Naagar",
      "photoUrl": "https://lh3.googleusercontent.com/a-/AOh14GjZywEjk2BilS2WJmmk2MC_x5UNZzS_ZjljHL4XFw=s64",
      "userId": "13180867705976122475"
     },
     "user_tz": -330
    },
    "id": "0po93nZ42pn8",
    "outputId": "32171adf-b310-421b-b5cd-703a273c48bb"
   },
   "outputs": [
    {
     "name": "stdout",
     "output_type": "stream",
     "text": [
      "SGD (\n",
      "Parameter Group 0\n",
      "    dampening: 0\n",
      "    lr: 1e-05\n",
      "    momentum: 0\n",
      "    nesterov: False\n",
      "    weight_decay: 0\n",
      ")\n"
     ]
    }
   ],
   "source": [
    "#  define optmizer \n",
    "opt = torch.optim.SGD(model.parameters(), lr=1e-5)\n",
    "print(opt)"
   ]
  },
  {
   "cell_type": "code",
   "execution_count": 48,
   "metadata": {
    "colab": {},
    "colab_type": "code",
    "executionInfo": {
     "elapsed": 5809,
     "status": "ok",
     "timestamp": 1597212279021,
     "user": {
      "displayName": "Sandeep Naagar",
      "photoUrl": "https://lh3.googleusercontent.com/a-/AOh14GjZywEjk2BilS2WJmmk2MC_x5UNZzS_ZjljHL4XFw=s64",
      "userId": "13180867705976122475"
     },
     "user_tz": -330
    },
    "id": "gJdK60DV20QB"
   },
   "outputs": [],
   "source": [
    "# train the model \n",
    "\n",
    "def fit(num_epochs, model, loss_fn, opt):\n",
    "  # repeat for no of epochs\n",
    "  for epoch in range(num_epochs):\n",
    "      # train with bacthes of data\n",
    "    for xb,yb, in train_d1:\n",
    "      # 1 generats predctions\n",
    "      pred = model(xb)\n",
    "      # 2 calculate loss\n",
    "      loss = loss_fn(pred, yb)\n",
    "      # 3 compute gradients\n",
    "      loss.backward()\n",
    "      # 4 Updates parameters using gradients \n",
    "      opt.step()\n",
    "      # 5 reset the gradients to zero \n",
    "      opt.zero_grad()\n",
    "    # print progress\n",
    "    if (epoch+1) % 100 == 0:\n",
    "          print('Epoch [{}/{}], loss: {:.4f}'.format(epoch+1, num_epochs, loss.item())) "
   ]
  },
  {
   "cell_type": "code",
   "execution_count": 49,
   "metadata": {
    "colab": {
     "base_uri": "https://localhost:8080/",
     "height": 191
    },
    "colab_type": "code",
    "executionInfo": {
     "elapsed": 8760,
     "status": "ok",
     "timestamp": 1597212282242,
     "user": {
      "displayName": "Sandeep Naagar",
      "photoUrl": "https://lh3.googleusercontent.com/a-/AOh14GjZywEjk2BilS2WJmmk2MC_x5UNZzS_ZjljHL4XFw=s64",
      "userId": "13180867705976122475"
     },
     "user_tz": -330
    },
    "id": "Ukk-_qtL4Zun",
    "outputId": "579c92ee-281f-4082-dcef-817404803a5c"
   },
   "outputs": [
    {
     "name": "stdout",
     "output_type": "stream",
     "text": [
      "Epoch [100/1000], loss: 11.3521\n",
      "Epoch [200/1000], loss: 6.8472\n",
      "Epoch [300/1000], loss: 2.4816\n",
      "Epoch [400/1000], loss: 2.0702\n",
      "Epoch [500/1000], loss: 1.2110\n",
      "Epoch [600/1000], loss: 1.5401\n",
      "Epoch [700/1000], loss: 0.7143\n",
      "Epoch [800/1000], loss: 0.6066\n",
      "Epoch [900/1000], loss: 0.5696\n",
      "Epoch [1000/1000], loss: 0.6482\n"
     ]
    }
   ],
   "source": [
    "train = fit(1000, model, loss_fn, opt)"
   ]
  },
  {
   "cell_type": "code",
   "execution_count": 50,
   "metadata": {
    "colab": {
     "base_uri": "https://localhost:8080/",
     "height": 278
    },
    "colab_type": "code",
    "executionInfo": {
     "elapsed": 8446,
     "status": "ok",
     "timestamp": 1597212282243,
     "user": {
      "displayName": "Sandeep Naagar",
      "photoUrl": "https://lh3.googleusercontent.com/a-/AOh14GjZywEjk2BilS2WJmmk2MC_x5UNZzS_ZjljHL4XFw=s64",
      "userId": "13180867705976122475"
     },
     "user_tz": -330
    },
    "id": "fvzdcKyg4k_a",
    "outputId": "fe84cbb3-588a-4678-edd0-2732746fb199"
   },
   "outputs": [
    {
     "data": {
      "text/plain": [
       "tensor([[ 57.2472,  70.3510],\n",
       "        [ 82.0934, 100.4780],\n",
       "        [118.8893, 133.3024],\n",
       "        [ 21.1341,  37.1091],\n",
       "        [101.7588, 118.7807],\n",
       "        [ 57.2472,  70.3510],\n",
       "        [ 82.0934, 100.4780],\n",
       "        [118.8893, 133.3024],\n",
       "        [ 21.1341,  37.1091],\n",
       "        [101.7588, 118.7807],\n",
       "        [ 57.2472,  70.3510],\n",
       "        [ 82.0934, 100.4780],\n",
       "        [118.8893, 133.3024],\n",
       "        [ 21.1341,  37.1091],\n",
       "        [101.7588, 118.7807]], grad_fn=<AddmmBackward>)"
      ]
     },
     "execution_count": 50,
     "metadata": {
      "tags": []
     },
     "output_type": "execute_result"
    }
   ],
   "source": [
    "preds = model(inputs)\n",
    "preds"
   ]
  },
  {
   "cell_type": "code",
   "execution_count": 51,
   "metadata": {
    "colab": {
     "base_uri": "https://localhost:8080/",
     "height": 278
    },
    "colab_type": "code",
    "executionInfo": {
     "elapsed": 8234,
     "status": "ok",
     "timestamp": 1597212282244,
     "user": {
      "displayName": "Sandeep Naagar",
      "photoUrl": "https://lh3.googleusercontent.com/a-/AOh14GjZywEjk2BilS2WJmmk2MC_x5UNZzS_ZjljHL4XFw=s64",
      "userId": "13180867705976122475"
     },
     "user_tz": -330
    },
    "id": "Bzm8sNYq7GiU",
    "outputId": "d0482d8b-1052-4cfa-a313-1ab39b5bc5a8"
   },
   "outputs": [
    {
     "data": {
      "text/plain": [
       "tensor([[ 56.,  70.],\n",
       "        [ 81., 101.],\n",
       "        [119., 133.],\n",
       "        [ 22.,  37.],\n",
       "        [103., 119.],\n",
       "        [ 56.,  70.],\n",
       "        [ 81., 101.],\n",
       "        [119., 133.],\n",
       "        [ 22.,  37.],\n",
       "        [103., 119.],\n",
       "        [ 56.,  70.],\n",
       "        [ 81., 101.],\n",
       "        [119., 133.],\n",
       "        [ 22.,  37.],\n",
       "        [103., 119.]])"
      ]
     },
     "execution_count": 51,
     "metadata": {
      "tags": []
     },
     "output_type": "execute_result"
    }
   ],
   "source": [
    "targets"
   ]
  },
  {
   "cell_type": "markdown",
   "metadata": {
    "colab_type": "text",
    "id": "B2I5mVM8MjQ9"
   },
   "source": [
    "# Logistic Regression"
   ]
  },
  {
   "cell_type": "code",
   "execution_count": 52,
   "metadata": {
    "colab": {},
    "colab_type": "code",
    "executionInfo": {
     "elapsed": 12996,
     "status": "ok",
     "timestamp": 1597212287478,
     "user": {
      "displayName": "Sandeep Naagar",
      "photoUrl": "https://lh3.googleusercontent.com/a-/AOh14GjZywEjk2BilS2WJmmk2MC_x5UNZzS_ZjljHL4XFw=s64",
      "userId": "13180867705976122475"
     },
     "user_tz": -330
    },
    "id": "ANH6rO7U7Kcu"
   },
   "outputs": [],
   "source": [
    "import torch \n",
    "import torchvision\n",
    "from torchvision.datasets import MNIST"
   ]
  },
  {
   "cell_type": "code",
   "execution_count": 53,
   "metadata": {
    "colab": {
     "base_uri": "https://localhost:8080/",
     "height": 373,
     "referenced_widgets": [
      "6f38a0c706ff42ebae710da441f17abe",
      "7a7dd3d7802242e194b6b384329a326f",
      "80d76ece00bc497b94484ec3cdfcb428",
      "fd77f67aa8cf4de8865650fc8a791f8b",
      "cf48526c207e4be9975120d64606b081",
      "de2fbcd402d14dea9dd18ab11dbd6fb6",
      "f0086d1deeb2481a8738bd7b75e30de7",
      "e687a062acb244e397da0fc6df40f12c",
      "5fadd3600e484824b5c0e88250042387",
      "0323a1c1b65f453a9afe9ea64d1c781e",
      "3e3eb58ccc6b4b43843538752c0fb9e6",
      "f4925babe1c64cac9fb43b3f4dc2382b",
      "5fa84a2812084b10bc8c796ca133fb0d",
      "b9848c1eae2c4a3596d245a3017b79ab",
      "ee0672a2b07f430895d901a889106890",
      "336403e6579d4dd1bfb2af89bc8bb391",
      "892b1993856a4c17b58c40bc672290f4",
      "2ac74de6b61840bd99f0da7512e2a9b9",
      "5f2a9097710046a0ad26eefa4af0ba0d",
      "22278d57a0f945b78a32384a2ce54f10",
      "9f180d3fef7346bdb20aed7b2cc4d8f9",
      "bc420304aba2481ca3e28db24d8cbcff",
      "5395d64e55304937a230b9d9cdedb8a3",
      "89166560ccb542a4ab4bf077777bf950",
      "7afb659318934fd5b6365cedf7cd7497",
      "bed4d8ca70764aeaac8b84df5a6e8bf3",
      "6411868998a24a8b895e549ca920a1e7",
      "5d761dfc5234475e9cc84fc3d677a0d7",
      "3f41ecb0bfbf4f04afcc7ec010b87019",
      "86e6924204204baaa92590900eea7d25",
      "28f315f8b61445b887fdb52f6f63c424",
      "0d73b5b332a24dcbabb8fa8d14e6e8f5"
     ]
    },
    "colab_type": "code",
    "executionInfo": {
     "elapsed": 15618,
     "status": "ok",
     "timestamp": 1597212290565,
     "user": {
      "displayName": "Sandeep Naagar",
      "photoUrl": "https://lh3.googleusercontent.com/a-/AOh14GjZywEjk2BilS2WJmmk2MC_x5UNZzS_ZjljHL4XFw=s64",
      "userId": "13180867705976122475"
     },
     "user_tz": -330
    },
    "id": "uwVol2OFNCYp",
    "outputId": "d6b9c9aa-d470-4de0-aa56-bec85ba22ef7"
   },
   "outputs": [
    {
     "name": "stdout",
     "output_type": "stream",
     "text": [
      "Downloading http://yann.lecun.com/exdb/mnist/train-images-idx3-ubyte.gz to data/MNIST/raw/train-images-idx3-ubyte.gz\n"
     ]
    },
    {
     "data": {
      "application/vnd.jupyter.widget-view+json": {
       "model_id": "6f38a0c706ff42ebae710da441f17abe",
       "version_major": 2,
       "version_minor": 0
      },
      "text/plain": [
       "HBox(children=(FloatProgress(value=1.0, bar_style='info', max=1.0), HTML(value='')))"
      ]
     },
     "metadata": {
      "tags": []
     },
     "output_type": "display_data"
    },
    {
     "name": "stdout",
     "output_type": "stream",
     "text": [
      "Extracting data/MNIST/raw/train-images-idx3-ubyte.gz to data/MNIST/raw\n",
      "Downloading http://yann.lecun.com/exdb/mnist/train-labels-idx1-ubyte.gz to data/MNIST/raw/train-labels-idx1-ubyte.gz\n"
     ]
    },
    {
     "data": {
      "application/vnd.jupyter.widget-view+json": {
       "model_id": "5fadd3600e484824b5c0e88250042387",
       "version_major": 2,
       "version_minor": 0
      },
      "text/plain": [
       "HBox(children=(FloatProgress(value=1.0, bar_style='info', max=1.0), HTML(value='')))"
      ]
     },
     "metadata": {
      "tags": []
     },
     "output_type": "display_data"
    },
    {
     "name": "stdout",
     "output_type": "stream",
     "text": [
      "Extracting data/MNIST/raw/train-labels-idx1-ubyte.gz to data/MNIST/raw\n",
      "Downloading http://yann.lecun.com/exdb/mnist/t10k-images-idx3-ubyte.gz to data/MNIST/raw/t10k-images-idx3-ubyte.gz\n"
     ]
    },
    {
     "data": {
      "application/vnd.jupyter.widget-view+json": {
       "model_id": "892b1993856a4c17b58c40bc672290f4",
       "version_major": 2,
       "version_minor": 0
      },
      "text/plain": [
       "HBox(children=(FloatProgress(value=1.0, bar_style='info', max=1.0), HTML(value='')))"
      ]
     },
     "metadata": {
      "tags": []
     },
     "output_type": "display_data"
    },
    {
     "name": "stdout",
     "output_type": "stream",
     "text": [
      "Extracting data/MNIST/raw/t10k-images-idx3-ubyte.gz to data/MNIST/raw\n",
      "Downloading http://yann.lecun.com/exdb/mnist/t10k-labels-idx1-ubyte.gz to data/MNIST/raw/t10k-labels-idx1-ubyte.gz\n"
     ]
    },
    {
     "data": {
      "application/vnd.jupyter.widget-view+json": {
       "model_id": "7afb659318934fd5b6365cedf7cd7497",
       "version_major": 2,
       "version_minor": 0
      },
      "text/plain": [
       "HBox(children=(FloatProgress(value=1.0, bar_style='info', max=1.0), HTML(value='')))"
      ]
     },
     "metadata": {
      "tags": []
     },
     "output_type": "display_data"
    },
    {
     "name": "stdout",
     "output_type": "stream",
     "text": [
      "Extracting data/MNIST/raw/t10k-labels-idx1-ubyte.gz to data/MNIST/raw\n",
      "Processing...\n",
      "Done!\n"
     ]
    },
    {
     "name": "stderr",
     "output_type": "stream",
     "text": [
      "/usr/local/lib/python3.6/dist-packages/torchvision/datasets/mnist.py:469: UserWarning: The given NumPy array is not writeable, and PyTorch does not support non-writeable tensors. This means you can write to the underlying (supposedly non-writeable) NumPy array using the tensor. You may want to copy the array to protect its data or make it writeable before converting it to a tensor. This type of warning will be suppressed for the rest of this program. (Triggered internally at  /pytorch/torch/csrc/utils/tensor_numpy.cpp:141.)\n",
      "  return torch.from_numpy(parsed.astype(m[2], copy=False)).view(*s)\n"
     ]
    }
   ],
   "source": [
    "dataset  = MNIST(root='data/', download=True)"
   ]
  },
  {
   "cell_type": "code",
   "execution_count": 54,
   "metadata": {
    "colab": {
     "base_uri": "https://localhost:8080/",
     "height": 34
    },
    "colab_type": "code",
    "executionInfo": {
     "elapsed": 15457,
     "status": "ok",
     "timestamp": 1597212290566,
     "user": {
      "displayName": "Sandeep Naagar",
      "photoUrl": "https://lh3.googleusercontent.com/a-/AOh14GjZywEjk2BilS2WJmmk2MC_x5UNZzS_ZjljHL4XFw=s64",
      "userId": "13180867705976122475"
     },
     "user_tz": -330
    },
    "id": "FGBslnJONRsW",
    "outputId": "167a8932-151b-4361-ab3b-bef1ba7ec643"
   },
   "outputs": [
    {
     "data": {
      "text/plain": [
       "60000"
      ]
     },
     "execution_count": 54,
     "metadata": {
      "tags": []
     },
     "output_type": "execute_result"
    }
   ],
   "source": [
    "len(dataset)"
   ]
  },
  {
   "cell_type": "code",
   "execution_count": 55,
   "metadata": {
    "colab": {
     "base_uri": "https://localhost:8080/",
     "height": 34
    },
    "colab_type": "code",
    "executionInfo": {
     "elapsed": 15240,
     "status": "ok",
     "timestamp": 1597212290567,
     "user": {
      "displayName": "Sandeep Naagar",
      "photoUrl": "https://lh3.googleusercontent.com/a-/AOh14GjZywEjk2BilS2WJmmk2MC_x5UNZzS_ZjljHL4XFw=s64",
      "userId": "13180867705976122475"
     },
     "user_tz": -330
    },
    "id": "JuBH2EykNWEy",
    "outputId": "067ac96c-18ce-43ab-e225-65060c5e7dba"
   },
   "outputs": [
    {
     "data": {
      "text/plain": [
       "10000"
      ]
     },
     "execution_count": 55,
     "metadata": {
      "tags": []
     },
     "output_type": "execute_result"
    }
   ],
   "source": [
    "# test dataset \n",
    "\n",
    "test_dataset = MNIST(root='data/', train=False)\n",
    "len(test_dataset)"
   ]
  },
  {
   "cell_type": "code",
   "execution_count": 56,
   "metadata": {
    "colab": {
     "base_uri": "https://localhost:8080/",
     "height": 34
    },
    "colab_type": "code",
    "executionInfo": {
     "elapsed": 14998,
     "status": "ok",
     "timestamp": 1597212290568,
     "user": {
      "displayName": "Sandeep Naagar",
      "photoUrl": "https://lh3.googleusercontent.com/a-/AOh14GjZywEjk2BilS2WJmmk2MC_x5UNZzS_ZjljHL4XFw=s64",
      "userId": "13180867705976122475"
     },
     "user_tz": -330
    },
    "id": "VqXf8qtiNqEV",
    "outputId": "8c608d66-6b63-47e6-c013-e6da3dfe40e1"
   },
   "outputs": [
    {
     "data": {
      "text/plain": [
       "(<PIL.Image.Image image mode=L size=28x28 at 0x7F77B1374630>, 9)"
      ]
     },
     "execution_count": 56,
     "metadata": {
      "tags": []
     },
     "output_type": "execute_result"
    }
   ],
   "source": [
    "\n",
    "\n",
    "# test\n",
    "dataset[20001]"
   ]
  },
  {
   "cell_type": "code",
   "execution_count": 57,
   "metadata": {
    "colab": {
     "base_uri": "https://localhost:8080/",
     "height": 86
    },
    "colab_type": "code",
    "executionInfo": {
     "elapsed": 14742,
     "status": "ok",
     "timestamp": 1597212290569,
     "user": {
      "displayName": "Sandeep Naagar",
      "photoUrl": "https://lh3.googleusercontent.com/a-/AOh14GjZywEjk2BilS2WJmmk2MC_x5UNZzS_ZjljHL4XFw=s64",
      "userId": "13180867705976122475"
     },
     "user_tz": -330
    },
    "id": "9McDFDJmN1yv",
    "outputId": "b91b30c9-4729-44bf-b73b-0fb6e7a09f4d"
   },
   "outputs": [
    {
     "name": "stdout",
     "output_type": "stream",
     "text": [
      "\n",
      "\n",
      "\n",
      "\n"
     ]
    }
   ],
   "source": [
    "\n",
    "\n",
    "\n",
    "\n",
    "\n",
    "import matplotlib.pyplot as plt\n",
    "%matplotlib inline"
   ]
  },
  {
   "cell_type": "code",
   "execution_count": 58,
   "metadata": {
    "colab": {
     "base_uri": "https://localhost:8080/",
     "height": 282
    },
    "colab_type": "code",
    "executionInfo": {
     "elapsed": 14452,
     "status": "ok",
     "timestamp": 1597212290570,
     "user": {
      "displayName": "Sandeep Naagar",
      "photoUrl": "https://lh3.googleusercontent.com/a-/AOh14GjZywEjk2BilS2WJmmk2MC_x5UNZzS_ZjljHL4XFw=s64",
      "userId": "13180867705976122475"
     },
     "user_tz": -330
    },
    "id": "P4lmHRJHuHxR",
    "outputId": "387cb174-df37-4df3-99f4-801ce223a817"
   },
   "outputs": [
    {
     "name": "stdout",
     "output_type": "stream",
     "text": [
      "Label 9\n"
     ]
    },
    {
     "data": {
      "image/png": "[encoded data removed]",
      "text/plain": [
       "<Figure size 432x288 with 1 Axes>"
      ]
     },
     "metadata": {
      "needs_background": "light",
      "tags": []
     },
     "output_type": "display_data"
    }
   ],
   "source": [
    "image, label = dataset[20001]\n",
    "plt.imshow(image, cmap ='gray')\n",
    "print('Label', label)"
   ]
  },
  {
   "cell_type": "code",
   "execution_count": 59,
   "metadata": {
    "colab": {},
    "colab_type": "code",
    "executionInfo": {
     "elapsed": 14106,
     "status": "ok",
     "timestamp": 1597212290571,
     "user": {
      "displayName": "Sandeep Naagar",
      "photoUrl": "https://lh3.googleusercontent.com/a-/AOh14GjZywEjk2BilS2WJmmk2MC_x5UNZzS_ZjljHL4XFw=s64",
      "userId": "13180867705976122475"
     },
     "user_tz": -330
    },
    "id": "0rU4kP7-uYua"
   },
   "outputs": [],
   "source": [
    "\n",
    "import torchvision.transforms as transform"
   ]
  },
  {
   "cell_type": "code",
   "execution_count": 60,
   "metadata": {
    "colab": {},
    "colab_type": "code",
    "executionInfo": {
     "elapsed": 13888,
     "status": "ok",
     "timestamp": 1597212290572,
     "user": {
      "displayName": "Sandeep Naagar",
      "photoUrl": "https://lh3.googleusercontent.com/a-/AOh14GjZywEjk2BilS2WJmmk2MC_x5UNZzS_ZjljHL4XFw=s64",
      "userId": "13180867705976122475"
     },
     "user_tz": -330
    },
    "id": "Q6yPm72KvRdm"
   },
   "outputs": [],
   "source": [
    "\n",
    "# mnist dataset as tensors\n",
    "dataset = MNIST(root='data/', \n",
    "                train=True, \n",
    "                transform=transform.ToTensor())"
   ]
  },
  {
   "cell_type": "code",
   "execution_count": 61,
   "metadata": {
    "colab": {
     "base_uri": "https://localhost:8080/",
     "height": 34
    },
    "colab_type": "code",
    "executionInfo": {
     "elapsed": 13585,
     "status": "ok",
     "timestamp": 1597212290573,
     "user": {
      "displayName": "Sandeep Naagar",
      "photoUrl": "https://lh3.googleusercontent.com/a-/AOh14GjZywEjk2BilS2WJmmk2MC_x5UNZzS_ZjljHL4XFw=s64",
      "userId": "13180867705976122475"
     },
     "user_tz": -330
    },
    "id": "d-QkbmmZ0m1h",
    "outputId": "113008be-1092-488b-b066-1ce3ca4f683e"
   },
   "outputs": [
    {
     "name": "stdout",
     "output_type": "stream",
     "text": [
      "torch.Size([1, 28, 28]) 9\n"
     ]
    }
   ],
   "source": [
    "img_tensor, label = dataset[20202]\n",
    "print(img_tensor.shape, label)"
   ]
  },
  {
   "cell_type": "code",
   "execution_count": 62,
   "metadata": {
    "colab": {
     "base_uri": "https://localhost:8080/",
     "height": 121
    },
    "colab_type": "code",
    "executionInfo": {
     "elapsed": 13324,
     "status": "ok",
     "timestamp": 1597212290575,
     "user": {
      "displayName": "Sandeep Naagar",
      "photoUrl": "https://lh3.googleusercontent.com/a-/AOh14GjZywEjk2BilS2WJmmk2MC_x5UNZzS_ZjljHL4XFw=s64",
      "userId": "13180867705976122475"
     },
     "user_tz": -330
    },
    "id": "zLPpP-fr1EGe",
    "outputId": "af310111-1ba6-4d9d-ce10-4e59af689dc4"
   },
   "outputs": [
    {
     "name": "stdout",
     "output_type": "stream",
     "text": [
      "tensor([[[0.9922, 0.9922, 0.9294, 0.6431, 0.2157],\n",
      "         [0.9922, 0.4275, 0.0471, 0.0000, 0.0000],\n",
      "         [0.2549, 0.0000, 0.0000, 0.0000, 0.0431],\n",
      "         [0.0000, 0.0000, 0.0000, 0.1765, 0.8392],\n",
      "         [0.0000, 0.1529, 0.4627, 0.9059, 0.9961]]])\n",
      "tensor(1.) tensor(0.)\n"
     ]
    }
   ],
   "source": [
    "print(img_tensor[:, 10:15, 10:15])\n",
    "print(torch.max(img_tensor), torch.min(img_tensor))"
   ]
  },
  {
   "cell_type": "code",
   "execution_count": 63,
   "metadata": {
    "colab": {
     "base_uri": "https://localhost:8080/",
     "height": 282
    },
    "colab_type": "code",
    "executionInfo": {
     "elapsed": 13030,
     "status": "ok",
     "timestamp": 1597212290576,
     "user": {
      "displayName": "Sandeep Naagar",
      "photoUrl": "https://lh3.googleusercontent.com/a-/AOh14GjZywEjk2BilS2WJmmk2MC_x5UNZzS_ZjljHL4XFw=s64",
      "userId": "13180867705976122475"
     },
     "user_tz": -330
    },
    "id": "NlZOdxSX1WAj",
    "outputId": "fa926901-f3bd-441e-b0cf-43be7b9dab6a"
   },
   "outputs": [
    {
     "data": {
      "text/plain": [
       "<matplotlib.image.AxesImage at 0x7f77b0e3c470>"
      ]
     },
     "execution_count": 63,
     "metadata": {
      "tags": []
     },
     "output_type": "execute_result"
    },
    {
     "data": {
      "image/png": "[encoded data removed]",
      "text/plain": [
       "<Figure size 432x288 with 1 Axes>"
      ]
     },
     "metadata": {
      "needs_background": "light",
      "tags": []
     },
     "output_type": "display_data"
    }
   ],
   "source": [
    "# plot the image by passing in the matrix 28x28\n",
    "plt.imshow(img_tensor[0, 0:27, 0:27], cmap='gray')"
   ]
  },
  {
   "cell_type": "markdown",
   "metadata": {
    "colab_type": "text",
    "id": "yBiq7ZC82WYu"
   },
   "source": [
    "## training , validation and test"
   ]
  },
  {
   "cell_type": "code",
   "execution_count": 149,
   "metadata": {
    "colab": {
     "base_uri": "https://localhost:8080/",
     "height": 34
    },
    "colab_type": "code",
    "executionInfo": {
     "elapsed": 1094,
     "status": "ok",
     "timestamp": 1597231862687,
     "user": {
      "displayName": "Sandeep Naagar",
      "photoUrl": "https://lh3.googleusercontent.com/a-/AOh14GjZywEjk2BilS2WJmmk2MC_x5UNZzS_ZjljHL4XFw=s64",
      "userId": "13180867705976122475"
     },
     "user_tz": -330
    },
    "id": "nD8EPsTi_eDp",
    "outputId": "e551196b-f901-4bc8-a23e-a96482eda7ea"
   },
   "outputs": [
    {
     "data": {
      "text/plain": [
       "array([28255,  4093, 38821, ..., 12037, 36117, 43570])"
      ]
     },
     "execution_count": 149,
     "metadata": {
      "tags": []
     },
     "output_type": "execute_result"
    }
   ],
   "source": [
    "import numpy as np\n",
    "\n",
    "n = 60000\n",
    "val_pct = 0.1\n",
    "n_val = int(val_pct*n)\n",
    "n_val\n",
    "idxs = np.random.permutation(n)\n",
    "idxs"
   ]
  },
  {
   "cell_type": "code",
   "execution_count": 150,
   "metadata": {
    "colab": {},
    "colab_type": "code",
    "executionInfo": {
     "elapsed": 965,
     "status": "ok",
     "timestamp": 1597231864429,
     "user": {
      "displayName": "Sandeep Naagar",
      "photoUrl": "https://lh3.googleusercontent.com/a-/AOh14GjZywEjk2BilS2WJmmk2MC_x5UNZzS_ZjljHL4XFw=s64",
      "userId": "13180867705976122475"
     },
     "user_tz": -330
    },
    "id": "33t-g17Q12-B"
   },
   "outputs": [],
   "source": [
    "import numpy as np\n",
    "\n",
    "def split_indices(n, val_pct):\n",
    "\n",
    "  # determining  size of validation \n",
    "  n_val = int(val_pct*n)\n",
    "  # create random permutation of 0 to n-1\n",
    "  idxs = np.random.permutation(n)\n",
    "  # pick first n_val indices for validation set\n",
    "  return idxs[n_val:], idxs[:n_val]\n",
    "  "
   ]
  },
  {
   "cell_type": "code",
   "execution_count": 151,
   "metadata": {
    "colab": {},
    "colab_type": "code",
    "executionInfo": {
     "elapsed": 799,
     "status": "ok",
     "timestamp": 1597231866025,
     "user": {
      "displayName": "Sandeep Naagar",
      "photoUrl": "https://lh3.googleusercontent.com/a-/AOh14GjZywEjk2BilS2WJmmk2MC_x5UNZzS_ZjljHL4XFw=s64",
      "userId": "13180867705976122475"
     },
     "user_tz": -330
    },
    "id": "pho7-L5eADDG"
   },
   "outputs": [],
   "source": [
    "train_indices, val_indices = split_indices(len(dataset), val_pct=0.2)"
   ]
  },
  {
   "cell_type": "code",
   "execution_count": 152,
   "metadata": {
    "colab": {
     "base_uri": "https://localhost:8080/",
     "height": 69
    },
    "colab_type": "code",
    "executionInfo": {
     "elapsed": 725,
     "status": "ok",
     "timestamp": 1597231868133,
     "user": {
      "displayName": "Sandeep Naagar",
      "photoUrl": "https://lh3.googleusercontent.com/a-/AOh14GjZywEjk2BilS2WJmmk2MC_x5UNZzS_ZjljHL4XFw=s64",
      "userId": "13180867705976122475"
     },
     "user_tz": -330
    },
    "id": "H8Tyo_Q3ATTu",
    "outputId": "e9661552-acdb-4325-c75f-13926a27316d"
   },
   "outputs": [
    {
     "name": "stdout",
     "output_type": "stream",
     "text": [
      "48000 12000\n",
      "Sample val indices [17957 17767 28180 54941 13116 34603 31379 13515 25206 36985 33106 16788\n",
      "  5011 28106  1118 24455 51521 49851 21563 32874]\n"
     ]
    }
   ],
   "source": [
    "print(len(train_indices), len(val_indices))\n",
    "print('Sample val indices', val_indices[:20])"
   ]
  },
  {
   "cell_type": "code",
   "execution_count": 153,
   "metadata": {
    "colab": {},
    "colab_type": "code",
    "executionInfo": {
     "elapsed": 718,
     "status": "ok",
     "timestamp": 1597231870170,
     "user": {
      "displayName": "Sandeep Naagar",
      "photoUrl": "https://lh3.googleusercontent.com/a-/AOh14GjZywEjk2BilS2WJmmk2MC_x5UNZzS_ZjljHL4XFw=s64",
      "userId": "13180867705976122475"
     },
     "user_tz": -330
    },
    "id": "WZm3j__CAnBD"
   },
   "outputs": [],
   "source": [
    "from torch.utils.data.sampler import SubsetRandomSampler\n",
    "from torch.utils.data.dataloader import DataLoader"
   ]
  },
  {
   "cell_type": "code",
   "execution_count": 154,
   "metadata": {
    "colab": {},
    "colab_type": "code",
    "executionInfo": {
     "elapsed": 993,
     "status": "ok",
     "timestamp": 1597231873446,
     "user": {
      "displayName": "Sandeep Naagar",
      "photoUrl": "https://lh3.googleusercontent.com/a-/AOh14GjZywEjk2BilS2WJmmk2MC_x5UNZzS_ZjljHL4XFw=s64",
      "userId": "13180867705976122475"
     },
     "user_tz": -330
    },
    "id": "6ew2NZdWBIt3"
   },
   "outputs": [],
   "source": [
    "batch_size = 500\n",
    "\n",
    "# traning sampler and data loader \n",
    "train_sampler = SubsetRandomSampler(train_indices)\n",
    "train_loader = DataLoader(dataset,\n",
    "                          batch_size,\n",
    "                          sampler=train_sampler)\n",
    "# Validation sampler and dataloader\n",
    "val_sampler = SubsetRandomSampler(val_indices)\n",
    "val_loader = DataLoader(dataset,\n",
    "                        batch_size,\n",
    "                        sampler= val_sampler)\n"
   ]
  },
  {
   "cell_type": "markdown",
   "metadata": {
    "colab_type": "text",
    "id": "d-Zg-AfhCI4o"
   },
   "source": [
    "## Model"
   ]
  },
  {
   "cell_type": "code",
   "execution_count": 155,
   "metadata": {
    "colab": {
     "base_uri": "https://localhost:8080/",
     "height": 34
    },
    "colab_type": "code",
    "executionInfo": {
     "elapsed": 1025,
     "status": "ok",
     "timestamp": 1597231876227,
     "user": {
      "displayName": "Sandeep Naagar",
      "photoUrl": "https://lh3.googleusercontent.com/a-/AOh14GjZywEjk2BilS2WJmmk2MC_x5UNZzS_ZjljHL4XFw=s64",
      "userId": "13180867705976122475"
     },
     "user_tz": -330
    },
    "id": "K5oL16-RCId1",
    "outputId": "7bbd871e-5746-4808-b62f-f769409cabbf"
   },
   "outputs": [
    {
     "name": "stdout",
     "output_type": "stream",
     "text": [
      "Linear(in_features=784, out_features=10, bias=True)\n"
     ]
    }
   ],
   "source": [
    "import torch.nn as nn\n",
    "input_size = 28*28\n",
    "num_classes = 10\n",
    "\n",
    "# Logistic regression model \n",
    "\n",
    "model  = nn.Linear(input_size, num_classes)\n",
    "print(model)"
   ]
  },
  {
   "cell_type": "code",
   "execution_count": 156,
   "metadata": {
    "colab": {
     "base_uri": "https://localhost:8080/",
     "height": 86
    },
    "colab_type": "code",
    "executionInfo": {
     "elapsed": 1074,
     "status": "ok",
     "timestamp": 1597231878117,
     "user": {
      "displayName": "Sandeep Naagar",
      "photoUrl": "https://lh3.googleusercontent.com/a-/AOh14GjZywEjk2BilS2WJmmk2MC_x5UNZzS_ZjljHL4XFw=s64",
      "userId": "13180867705976122475"
     },
     "user_tz": -330
    },
    "id": "OBVMHxShBkAB",
    "outputId": "1ca4f41c-eb8a-44d8-a838-3b332788d554"
   },
   "outputs": [
    {
     "name": "stdout",
     "output_type": "stream",
     "text": [
      "torch.Size([10, 784])\n"
     ]
    },
    {
     "data": {
      "text/plain": [
       "Parameter containing:\n",
       "tensor([-0.0229,  0.0086, -0.0176, -0.0086, -0.0210,  0.0284,  0.0052, -0.0226,\n",
       "         0.0209,  0.0048], requires_grad=True)"
      ]
     },
     "execution_count": 156,
     "metadata": {
      "tags": []
     },
     "output_type": "execute_result"
    }
   ],
   "source": [
    "\n",
    "print(model.weight.shape)\n",
    "model.bias"
   ]
  },
  {
   "cell_type": "code",
   "execution_count": 156,
   "metadata": {
    "colab": {},
    "colab_type": "code",
    "executionInfo": {
     "elapsed": 1082,
     "status": "ok",
     "timestamp": 1597231879992,
     "user": {
      "displayName": "Sandeep Naagar",
      "photoUrl": "https://lh3.googleusercontent.com/a-/AOh14GjZywEjk2BilS2WJmmk2MC_x5UNZzS_ZjljHL4XFw=s64",
      "userId": "13180867705976122475"
     },
     "user_tz": -330
    },
    "id": "_Ci8KlU-H9As"
   },
   "outputs": [],
   "source": []
  },
  {
   "cell_type": "code",
   "execution_count": 157,
   "metadata": {
    "colab": {
     "base_uri": "https://localhost:8080/",
     "height": 747
    },
    "colab_type": "code",
    "executionInfo": {
     "elapsed": 888,
     "status": "error",
     "timestamp": 1597231881890,
     "user": {
      "displayName": "Sandeep Naagar",
      "photoUrl": "https://lh3.googleusercontent.com/a-/AOh14GjZywEjk2BilS2WJmmk2MC_x5UNZzS_ZjljHL4XFw=s64",
      "userId": "13180867705976122475"
     },
     "user_tz": -330
    },
    "id": "rYJp-oIVGveS",
    "outputId": "2dbd9634-4789-446b-c6cf-87cd12283bc4"
   },
   "outputs": [
    {
     "name": "stdout",
     "output_type": "stream",
     "text": [
      "tensor([0, 8, 5, 0, 8, 3, 4, 8, 1, 7, 6, 0, 1, 4, 1, 1, 0, 0, 8, 2, 9, 8, 7, 0,\n",
      "        6, 4, 6, 1, 4, 9, 8, 0, 3, 1, 6, 5, 6, 4, 4, 9, 6, 6, 9, 6, 2, 2, 8, 9,\n",
      "        0, 2, 4, 7, 2, 1, 1, 0, 7, 7, 4, 1, 3, 5, 1, 0, 4, 3, 6, 9, 0, 5, 9, 3,\n",
      "        6, 2, 6, 8, 7, 7, 2, 9, 5, 2, 5, 1, 2, 1, 7, 0, 6, 6, 0, 3, 8, 2, 6, 4,\n",
      "        3, 8, 1, 0, 7, 3, 9, 3, 0, 2, 3, 0, 0, 7, 4, 8, 3, 9, 9, 8, 9, 5, 9, 6,\n",
      "        0, 2, 0, 5, 4, 8, 1, 0, 4, 4, 0, 4, 1, 5, 3, 5, 0, 0, 4, 6, 0, 5, 4, 3,\n",
      "        0, 4, 4, 6, 2, 8, 1, 3, 7, 2, 8, 0, 0, 9, 9, 6, 0, 9, 4, 5, 3, 5, 6, 3,\n",
      "        5, 9, 1, 9, 5, 3, 8, 3, 3, 5, 6, 2, 8, 7, 7, 7, 6, 8, 6, 0, 1, 5, 2, 2,\n",
      "        9, 1, 6, 3, 6, 1, 6, 7, 4, 7, 2, 5, 5, 1, 3, 3, 7, 0, 5, 1, 8, 3, 1, 2,\n",
      "        2, 9, 4, 5, 9, 1, 1, 2, 5, 0, 0, 3, 0, 4, 3, 7, 8, 3, 2, 0, 5, 3, 6, 8,\n",
      "        4, 8, 8, 2, 0, 4, 6, 8, 2, 4, 0, 5, 7, 1, 1, 3, 6, 4, 3, 6, 9, 9, 4, 3,\n",
      "        9, 1, 6, 4, 1, 0, 2, 8, 6, 1, 1, 7, 7, 5, 7, 4, 2, 9, 5, 4, 5, 2, 3, 0,\n",
      "        7, 6, 4, 4, 7, 3, 6, 0, 5, 1, 7, 3, 3, 9, 8, 4, 6, 1, 9, 2, 9, 0, 1, 8,\n",
      "        9, 5, 0, 8, 4, 6, 7, 8, 9, 2, 9, 5, 1, 0, 4, 7, 6, 4, 6, 0, 3, 2, 1, 9,\n",
      "        9, 1, 9, 5, 7, 5, 2, 7, 1, 2, 6, 5, 8, 6, 4, 7, 3, 9, 3, 1, 4, 3, 8, 8,\n",
      "        3, 0, 7, 3, 6, 0, 7, 7, 0, 2, 7, 6, 0, 9, 6, 3, 5, 2, 2, 8, 9, 5, 6, 4,\n",
      "        6, 6, 3, 7, 5, 7, 8, 6, 1, 3, 5, 5, 4, 7, 4, 9, 4, 7, 7, 0, 0, 9, 5, 9,\n",
      "        7, 8, 7, 0, 4, 8, 1, 3, 3, 8, 2, 8, 2, 1, 7, 9, 0, 5, 1, 4, 5, 0, 0, 4,\n",
      "        9, 8, 7, 3, 1, 7, 7, 6, 0, 6, 3, 5, 7, 8, 7, 3, 3, 2, 1, 2, 7, 3, 5, 2,\n",
      "        3, 1, 3, 4, 1, 1, 4, 6, 5, 5, 0, 0, 4, 7, 2, 1, 7, 2, 6, 5, 2, 8, 0, 7,\n",
      "        2, 4, 4, 1, 3, 0, 9, 6, 6, 1, 6, 1, 1, 8, 9, 1, 0, 3, 4, 2])\n",
      "torch.Size([500, 1, 28, 28])\n"
     ]
    },
    {
     "ename": "RuntimeError",
     "evalue": "ignored",
     "output_type": "error",
     "traceback": [
      "\u001b[0;31m---------------------------------------------------------------------------\u001b[0m",
      "\u001b[0;31mRuntimeError\u001b[0m                              Traceback (most recent call last)",
      "\u001b[0;32m<ipython-input-157-a8c0fa89d43a>\u001b[0m in \u001b[0;36m<module>\u001b[0;34m()\u001b[0m\n\u001b[1;32m      2\u001b[0m   \u001b[0mprint\u001b[0m\u001b[0;34m(\u001b[0m\u001b[0mlabels\u001b[0m\u001b[0;34m)\u001b[0m\u001b[0;34m\u001b[0m\u001b[0;34m\u001b[0m\u001b[0m\n\u001b[1;32m      3\u001b[0m   \u001b[0mprint\u001b[0m\u001b[0;34m(\u001b[0m\u001b[0mimages\u001b[0m\u001b[0;34m.\u001b[0m\u001b[0mshape\u001b[0m\u001b[0;34m)\u001b[0m\u001b[0;34m\u001b[0m\u001b[0;34m\u001b[0m\u001b[0m\n\u001b[0;32m----> 4\u001b[0;31m   \u001b[0moutputs\u001b[0m \u001b[0;34m=\u001b[0m \u001b[0mmodel\u001b[0m\u001b[0;34m(\u001b[0m\u001b[0mimages\u001b[0m\u001b[0;34m)\u001b[0m\u001b[0;34m\u001b[0m\u001b[0;34m\u001b[0m\u001b[0m\n\u001b[0m\u001b[1;32m      5\u001b[0m   \u001b[0;32mbreak\u001b[0m\u001b[0;34m\u001b[0m\u001b[0;34m\u001b[0m\u001b[0m\n",
      "\u001b[0;32m/usr/local/lib/python3.6/dist-packages/torch/nn/modules/module.py\u001b[0m in \u001b[0;36m_call_impl\u001b[0;34m(self, *input, **kwargs)\u001b[0m\n\u001b[1;32m    720\u001b[0m             \u001b[0mresult\u001b[0m \u001b[0;34m=\u001b[0m \u001b[0mself\u001b[0m\u001b[0;34m.\u001b[0m\u001b[0m_slow_forward\u001b[0m\u001b[0;34m(\u001b[0m\u001b[0;34m*\u001b[0m\u001b[0minput\u001b[0m\u001b[0;34m,\u001b[0m \u001b[0;34m**\u001b[0m\u001b[0mkwargs\u001b[0m\u001b[0;34m)\u001b[0m\u001b[0;34m\u001b[0m\u001b[0;34m\u001b[0m\u001b[0m\n\u001b[1;32m    721\u001b[0m         \u001b[0;32melse\u001b[0m\u001b[0;34m:\u001b[0m\u001b[0;34m\u001b[0m\u001b[0;34m\u001b[0m\u001b[0m\n\u001b[0;32m--> 722\u001b[0;31m             \u001b[0mresult\u001b[0m \u001b[0;34m=\u001b[0m \u001b[0mself\u001b[0m\u001b[0;34m.\u001b[0m\u001b[0mforward\u001b[0m\u001b[0;34m(\u001b[0m\u001b[0;34m*\u001b[0m\u001b[0minput\u001b[0m\u001b[0;34m,\u001b[0m \u001b[0;34m**\u001b[0m\u001b[0mkwargs\u001b[0m\u001b[0;34m)\u001b[0m\u001b[0;34m\u001b[0m\u001b[0;34m\u001b[0m\u001b[0m\n\u001b[0m\u001b[1;32m    723\u001b[0m         for hook in itertools.chain(\n\u001b[1;32m    724\u001b[0m                 \u001b[0m_global_forward_hooks\u001b[0m\u001b[0;34m.\u001b[0m\u001b[0mvalues\u001b[0m\u001b[0;34m(\u001b[0m\u001b[0;34m)\u001b[0m\u001b[0;34m,\u001b[0m\u001b[0;34m\u001b[0m\u001b[0;34m\u001b[0m\u001b[0m\n",
      "\u001b[0;32m/usr/local/lib/python3.6/dist-packages/torch/nn/modules/linear.py\u001b[0m in \u001b[0;36mforward\u001b[0;34m(self, input)\u001b[0m\n\u001b[1;32m     89\u001b[0m \u001b[0;34m\u001b[0m\u001b[0m\n\u001b[1;32m     90\u001b[0m     \u001b[0;32mdef\u001b[0m \u001b[0mforward\u001b[0m\u001b[0;34m(\u001b[0m\u001b[0mself\u001b[0m\u001b[0;34m,\u001b[0m \u001b[0minput\u001b[0m\u001b[0;34m:\u001b[0m \u001b[0mTensor\u001b[0m\u001b[0;34m)\u001b[0m \u001b[0;34m->\u001b[0m \u001b[0mTensor\u001b[0m\u001b[0;34m:\u001b[0m\u001b[0;34m\u001b[0m\u001b[0;34m\u001b[0m\u001b[0m\n\u001b[0;32m---> 91\u001b[0;31m         \u001b[0;32mreturn\u001b[0m \u001b[0mF\u001b[0m\u001b[0;34m.\u001b[0m\u001b[0mlinear\u001b[0m\u001b[0;34m(\u001b[0m\u001b[0minput\u001b[0m\u001b[0;34m,\u001b[0m \u001b[0mself\u001b[0m\u001b[0;34m.\u001b[0m\u001b[0mweight\u001b[0m\u001b[0;34m,\u001b[0m \u001b[0mself\u001b[0m\u001b[0;34m.\u001b[0m\u001b[0mbias\u001b[0m\u001b[0;34m)\u001b[0m\u001b[0;34m\u001b[0m\u001b[0;34m\u001b[0m\u001b[0m\n\u001b[0m\u001b[1;32m     92\u001b[0m \u001b[0;34m\u001b[0m\u001b[0m\n\u001b[1;32m     93\u001b[0m     \u001b[0;32mdef\u001b[0m \u001b[0mextra_repr\u001b[0m\u001b[0;34m(\u001b[0m\u001b[0mself\u001b[0m\u001b[0;34m)\u001b[0m \u001b[0;34m->\u001b[0m \u001b[0mstr\u001b[0m\u001b[0;34m:\u001b[0m\u001b[0;34m\u001b[0m\u001b[0;34m\u001b[0m\u001b[0m\n",
      "\u001b[0;32m/usr/local/lib/python3.6/dist-packages/torch/nn/functional.py\u001b[0m in \u001b[0;36mlinear\u001b[0;34m(input, weight, bias)\u001b[0m\n\u001b[1;32m   1674\u001b[0m         \u001b[0mret\u001b[0m \u001b[0;34m=\u001b[0m \u001b[0mtorch\u001b[0m\u001b[0;34m.\u001b[0m\u001b[0maddmm\u001b[0m\u001b[0;34m(\u001b[0m\u001b[0mbias\u001b[0m\u001b[0;34m,\u001b[0m \u001b[0minput\u001b[0m\u001b[0;34m,\u001b[0m \u001b[0mweight\u001b[0m\u001b[0;34m.\u001b[0m\u001b[0mt\u001b[0m\u001b[0;34m(\u001b[0m\u001b[0;34m)\u001b[0m\u001b[0;34m)\u001b[0m\u001b[0;34m\u001b[0m\u001b[0;34m\u001b[0m\u001b[0m\n\u001b[1;32m   1675\u001b[0m     \u001b[0;32melse\u001b[0m\u001b[0;34m:\u001b[0m\u001b[0;34m\u001b[0m\u001b[0;34m\u001b[0m\u001b[0m\n\u001b[0;32m-> 1676\u001b[0;31m         \u001b[0moutput\u001b[0m \u001b[0;34m=\u001b[0m \u001b[0minput\u001b[0m\u001b[0;34m.\u001b[0m\u001b[0mmatmul\u001b[0m\u001b[0;34m(\u001b[0m\u001b[0mweight\u001b[0m\u001b[0;34m.\u001b[0m\u001b[0mt\u001b[0m\u001b[0;34m(\u001b[0m\u001b[0;34m)\u001b[0m\u001b[0;34m)\u001b[0m\u001b[0;34m\u001b[0m\u001b[0;34m\u001b[0m\u001b[0m\n\u001b[0m\u001b[1;32m   1677\u001b[0m         \u001b[0;32mif\u001b[0m \u001b[0mbias\u001b[0m \u001b[0;32mis\u001b[0m \u001b[0;32mnot\u001b[0m \u001b[0;32mNone\u001b[0m\u001b[0;34m:\u001b[0m\u001b[0;34m\u001b[0m\u001b[0;34m\u001b[0m\u001b[0m\n\u001b[1;32m   1678\u001b[0m             \u001b[0moutput\u001b[0m \u001b[0;34m+=\u001b[0m \u001b[0mbias\u001b[0m\u001b[0;34m\u001b[0m\u001b[0;34m\u001b[0m\u001b[0m\n",
      "\u001b[0;31mRuntimeError\u001b[0m: size mismatch, m1: [14000 x 28], m2: [784 x 10] at /pytorch/aten/src/TH/generic/THTensorMath.cpp:41"
     ]
    }
   ],
   "source": [
    "for images, labels in train_loader:\n",
    "  print(labels)\n",
    "  print(images.shape)\n",
    "  outputs = model(images)\n",
    "  break"
   ]
  },
  {
   "cell_type": "code",
   "execution_count": 158,
   "metadata": {
    "colab": {},
    "colab_type": "code",
    "executionInfo": {
     "elapsed": 1170,
     "status": "ok",
     "timestamp": 1597231887982,
     "user": {
      "displayName": "Sandeep Naagar",
      "photoUrl": "https://lh3.googleusercontent.com/a-/AOh14GjZywEjk2BilS2WJmmk2MC_x5UNZzS_ZjljHL4XFw=s64",
      "userId": "13180867705976122475"
     },
     "user_tz": -330
    },
    "id": "FYZVhbKL6Dh9"
   },
   "outputs": [],
   "source": [
    "class MinstModel(nn.Module):\n",
    "  def __init__(self):\n",
    "    super().__init__()  # constructer\n",
    "    self.linear = nn.Linear(input_size, num_classes)\n",
    "    # instance of current model\n",
    "  def forward(self, xb):\n",
    "    xb = xb.reshape(-1, 784)  # why -1, pytorch can calculate automaticaly, allow as to generalize the model \n",
    "    out = self.linear(xb)\n",
    "    return out\n",
    "\n",
    "model = MinstModel()\n",
    "#print(model)\n"
   ]
  },
  {
   "cell_type": "code",
   "execution_count": 159,
   "metadata": {
    "colab": {
     "base_uri": "https://localhost:8080/",
     "height": 225
    },
    "colab_type": "code",
    "executionInfo": {
     "elapsed": 1576,
     "status": "ok",
     "timestamp": 1597231891383,
     "user": {
      "displayName": "Sandeep Naagar",
      "photoUrl": "https://lh3.googleusercontent.com/a-/AOh14GjZywEjk2BilS2WJmmk2MC_x5UNZzS_ZjljHL4XFw=s64",
      "userId": "13180867705976122475"
     },
     "user_tz": -330
    },
    "id": "kxBhC5P9Hxpf",
    "outputId": "3ac21482-6916-4d54-d67b-f1d5d5a3ed2f"
   },
   "outputs": [
    {
     "name": "stdout",
     "output_type": "stream",
     "text": [
      "torch.Size([10, 784]) torch.Size([10])\n"
     ]
    },
    {
     "data": {
      "text/plain": [
       "[Parameter containing:\n",
       " tensor([[ 0.0320, -0.0349,  0.0125,  ..., -0.0256,  0.0004,  0.0035],\n",
       "         [-0.0115,  0.0342, -0.0034,  ...,  0.0186, -0.0076, -0.0356],\n",
       "         [ 0.0049, -0.0140, -0.0130,  ...,  0.0197, -0.0314, -0.0150],\n",
       "         ...,\n",
       "         [ 0.0191, -0.0014,  0.0032,  ...,  0.0335, -0.0242, -0.0071],\n",
       "         [ 0.0220,  0.0153, -0.0354,  ...,  0.0086, -0.0195,  0.0345],\n",
       "         [-0.0169, -0.0127,  0.0256,  ..., -0.0048,  0.0174, -0.0041]],\n",
       "        requires_grad=True), Parameter containing:\n",
       " tensor([-0.0021,  0.0329, -0.0057,  0.0251, -0.0046, -0.0017,  0.0193, -0.0070,\n",
       "         -0.0335,  0.0055], requires_grad=True)]"
      ]
     },
     "execution_count": 159,
     "metadata": {
      "tags": []
     },
     "output_type": "execute_result"
    }
   ],
   "source": [
    "print(model.linear.weight.shape, model.linear.bias.shape)\n",
    "list(model.parameters())"
   ]
  },
  {
   "cell_type": "code",
   "execution_count": 160,
   "metadata": {
    "colab": {},
    "colab_type": "code",
    "executionInfo": {
     "elapsed": 955,
     "status": "ok",
     "timestamp": 1597231893113,
     "user": {
      "displayName": "Sandeep Naagar",
      "photoUrl": "https://lh3.googleusercontent.com/a-/AOh14GjZywEjk2BilS2WJmmk2MC_x5UNZzS_ZjljHL4XFw=s64",
      "userId": "13180867705976122475"
     },
     "user_tz": -330
    },
    "id": "YOBCf90BKJnh"
   },
   "outputs": [],
   "source": [
    "# .paramters will contains all the parameters "
   ]
  },
  {
   "cell_type": "code",
   "execution_count": 161,
   "metadata": {
    "colab": {
     "base_uri": "https://localhost:8080/",
     "height": 121
    },
    "colab_type": "code",
    "executionInfo": {
     "elapsed": 964,
     "status": "ok",
     "timestamp": 1597231894794,
     "user": {
      "displayName": "Sandeep Naagar",
      "photoUrl": "https://lh3.googleusercontent.com/a-/AOh14GjZywEjk2BilS2WJmmk2MC_x5UNZzS_ZjljHL4XFw=s64",
      "userId": "13180867705976122475"
     },
     "user_tz": -330
    },
    "id": "VYA366K2Kk4L",
    "outputId": "1bb06a75-b33f-482f-86bb-f0a2434d0337"
   },
   "outputs": [
    {
     "name": "stdout",
     "output_type": "stream",
     "text": [
      "output.shape : torch.Size([500, 10])\n",
      "Samples outputs :\n",
      " tensor([[-1.1244e-01,  2.3562e-04, -2.4873e-02, -7.5428e-02,  1.2270e-01,\n",
      "          6.4293e-04, -9.9443e-02,  1.6268e-02,  1.1126e-01,  4.6700e-02],\n",
      "        [-1.6913e-01, -2.6381e-01,  4.6075e-01,  5.7105e-02, -1.1640e-01,\n",
      "          1.5116e-01, -1.3600e-01,  1.3006e-01,  1.7256e-02, -3.2824e-01]])\n"
     ]
    }
   ],
   "source": [
    "for images, labels in train_loader:\n",
    "  outputs = model(images)\n",
    "  break\n",
    "\n",
    "print('output.shape :', outputs.shape)\n",
    "print('Samples outputs :\\n', outputs[:2].data)"
   ]
  },
  {
   "cell_type": "code",
   "execution_count": 162,
   "metadata": {
    "colab": {},
    "colab_type": "code",
    "executionInfo": {
     "elapsed": 1146,
     "status": "ok",
     "timestamp": 1597231896992,
     "user": {
      "displayName": "Sandeep Naagar",
      "photoUrl": "https://lh3.googleusercontent.com/a-/AOh14GjZywEjk2BilS2WJmmk2MC_x5UNZzS_ZjljHL4XFw=s64",
      "userId": "13180867705976122475"
     },
     "user_tz": -330
    },
    "id": "YEq3Sl8-LFso"
   },
   "outputs": [],
   "source": [
    "import torch.nn.functional as F"
   ]
  },
  {
   "cell_type": "code",
   "execution_count": 163,
   "metadata": {
    "colab": {
     "base_uri": "https://localhost:8080/",
     "height": 121
    },
    "colab_type": "code",
    "executionInfo": {
     "elapsed": 1148,
     "status": "ok",
     "timestamp": 1597231898951,
     "user": {
      "displayName": "Sandeep Naagar",
      "photoUrl": "https://lh3.googleusercontent.com/a-/AOh14GjZywEjk2BilS2WJmmk2MC_x5UNZzS_ZjljHL4XFw=s64",
      "userId": "13180867705976122475"
     },
     "user_tz": -330
    },
    "id": "g611McV5MJFK",
    "outputId": "c016ee98-32b5-4e15-c428-3ad9f25a5685"
   },
   "outputs": [
    {
     "name": "stdout",
     "output_type": "stream",
     "text": [
      "Sample probabilities :\n",
      " tensor([[0.0892, 0.0999, 0.0974, 0.0926, 0.1129, 0.0999, 0.0904, 0.1015, 0.1116,\n",
      "         0.1046],\n",
      "        [0.0839, 0.0764, 0.1576, 0.1053, 0.0885, 0.1156, 0.0868, 0.1132, 0.1011,\n",
      "         0.0716]])\n",
      "Sum:  1.0\n"
     ]
    }
   ],
   "source": [
    "# apply Softmax for each output row \n",
    "probs  = F.softmax(outputs, dim=1)\n",
    "\n",
    "# look at sample probabilities \n",
    "print('Sample probabilities :\\n', probs[:2].data)\n",
    "\n",
    "# add up to probabilities of an output row\n",
    "print('Sum: ', torch.sum(probs[0]).item())"
   ]
  },
  {
   "cell_type": "code",
   "execution_count": 164,
   "metadata": {
    "colab": {
     "base_uri": "https://localhost:8080/",
     "height": 1000
    },
    "colab_type": "code",
    "executionInfo": {
     "elapsed": 1181,
     "status": "ok",
     "timestamp": 1597231900986,
     "user": {
      "displayName": "Sandeep Naagar",
      "photoUrl": "https://lh3.googleusercontent.com/a-/AOh14GjZywEjk2BilS2WJmmk2MC_x5UNZzS_ZjljHL4XFw=s64",
      "userId": "13180867705976122475"
     },
     "user_tz": -330
    },
    "id": "xTgr2wdFNXhS",
    "outputId": "690d36b8-ce01-48c0-b279-fc43fd3c5fac"
   },
   "outputs": [
    {
     "name": "stdout",
     "output_type": "stream",
     "text": [
      "tensor([4, 2, 8, 5, 5, 2, 2, 2, 2, 2, 5, 8, 5, 5, 5, 5, 8, 5, 6, 5, 8, 5, 2, 2,\n",
      "        4, 8, 5, 5, 4, 5, 2, 4, 5, 2, 6, 8, 7, 4, 5, 5, 2, 6, 6, 8, 5, 5, 8, 8,\n",
      "        5, 5, 8, 4, 2, 4, 2, 5, 6, 8, 8, 9, 2, 5, 5, 5, 5, 2, 2, 8, 2, 2, 2, 5,\n",
      "        4, 8, 8, 2, 8, 8, 2, 2, 7, 8, 2, 8, 5, 2, 8, 6, 5, 8, 2, 5, 8, 2, 8, 7,\n",
      "        8, 5, 2, 2, 5, 2, 2, 0, 8, 5, 6, 8, 5, 3, 5, 5, 5, 8, 7, 2, 0, 5, 2, 8,\n",
      "        2, 6, 4, 6, 5, 5, 8, 8, 2, 2, 2, 2, 8, 8, 5, 8, 2, 8, 2, 5, 8, 8, 2, 8,\n",
      "        4, 5, 2, 8, 8, 5, 2, 2, 5, 8, 2, 6, 2, 4, 2, 6, 8, 5, 4, 8, 8, 5, 8, 4,\n",
      "        8, 8, 8, 8, 8, 8, 8, 5, 5, 2, 8, 5, 8, 5, 2, 2, 6, 2, 2, 5, 8, 8, 5, 4,\n",
      "        2, 5, 2, 5, 8, 2, 4, 6, 7, 8, 8, 5, 8, 8, 2, 8, 5, 8, 1, 6, 5, 8, 8, 5,\n",
      "        8, 8, 8, 5, 4, 8, 5, 5, 2, 2, 5, 8, 8, 5, 5, 5, 2, 8, 8, 5, 8, 2, 5, 8,\n",
      "        4, 2, 8, 8, 5, 2, 8, 2, 5, 5, 5, 8, 8, 2, 8, 8, 2, 6, 8, 8, 8, 5, 5, 8,\n",
      "        4, 8, 8, 5, 8, 4, 2, 6, 4, 2, 8, 5, 5, 2, 5, 5, 2, 8, 4, 5, 2, 8, 6, 8,\n",
      "        2, 2, 5, 2, 2, 8, 8, 2, 2, 8, 5, 4, 5, 2, 4, 2, 8, 8, 8, 5, 8, 8, 1, 8,\n",
      "        2, 8, 8, 8, 2, 2, 8, 5, 4, 2, 5, 2, 3, 2, 8, 8, 5, 8, 2, 5, 5, 5, 8, 5,\n",
      "        2, 5, 2, 8, 8, 8, 2, 5, 6, 8, 2, 2, 5, 8, 8, 2, 8, 6, 2, 5, 2, 6, 8, 2,\n",
      "        2, 8, 2, 5, 6, 5, 2, 4, 2, 6, 2, 2, 5, 8, 5, 2, 4, 2, 2, 2, 2, 2, 5, 8,\n",
      "        5, 5, 8, 8, 5, 2, 8, 2, 8, 2, 2, 5, 8, 6, 2, 4, 5, 5, 8, 8, 2, 8, 5, 5,\n",
      "        8, 5, 6, 5, 5, 2, 8, 8, 8, 5, 8, 5, 8, 4, 2, 8, 4, 2, 5, 2, 8, 5, 2, 2,\n",
      "        8, 8, 6, 8, 5, 5, 8, 8, 8, 4, 2, 8, 8, 2, 2, 8, 7, 8, 8, 8, 8, 6, 5, 5,\n",
      "        5, 5, 6, 2, 5, 8, 2, 5, 4, 2, 3, 5, 5, 2, 5, 8, 2, 2, 8, 2, 3, 2, 8, 8,\n",
      "        2, 5, 8, 5, 8, 8, 5, 8, 6, 2, 8, 5, 8, 2, 2, 8, 8, 2, 6, 2])\n",
      "tensor([0.1129, 0.1576, 0.1442, 0.1381, 0.1123, 0.1720, 0.1405, 0.1366, 0.1444,\n",
      "        0.1284, 0.1410, 0.1522, 0.1381, 0.1657, 0.1503, 0.1411, 0.1478, 0.1092,\n",
      "        0.1201, 0.1579, 0.1323, 0.1316, 0.1338, 0.1304, 0.1185, 0.1525, 0.1450,\n",
      "        0.1366, 0.1113, 0.1236, 0.1271, 0.1396, 0.1562, 0.1312, 0.1287, 0.1173,\n",
      "        0.1106, 0.1331, 0.1384, 0.1466, 0.1467, 0.1277, 0.1323, 0.1592, 0.1076,\n",
      "        0.1320, 0.1374, 0.1526, 0.1160, 0.1421, 0.1228, 0.1232, 0.1612, 0.1120,\n",
      "        0.1422, 0.1324, 0.1596, 0.1111, 0.1320, 0.1198, 0.1793, 0.1462, 0.1467,\n",
      "        0.1184, 0.1536, 0.1666, 0.1326, 0.1211, 0.1400, 0.1192, 0.1587, 0.1242,\n",
      "        0.1355, 0.1151, 0.1268, 0.1531, 0.1288, 0.1349, 0.1171, 0.1328, 0.1187,\n",
      "        0.1290, 0.1569, 0.1495, 0.1585, 0.1458, 0.1116, 0.1114, 0.1314, 0.1625,\n",
      "        0.1317, 0.1275, 0.1305, 0.1403, 0.1335, 0.1220, 0.1276, 0.1248, 0.1463,\n",
      "        0.1497, 0.1510, 0.1374, 0.1573, 0.1229, 0.1133, 0.1522, 0.1465, 0.1681,\n",
      "        0.1128, 0.1244, 0.1390, 0.1321, 0.1423, 0.1574, 0.1168, 0.1196, 0.1132,\n",
      "        0.1386, 0.1483, 0.1222, 0.1281, 0.1153, 0.1179, 0.1116, 0.1487, 0.1823,\n",
      "        0.1374, 0.1209, 0.1226, 0.1192, 0.1365, 0.1388, 0.1277, 0.1693, 0.1411,\n",
      "        0.1278, 0.1226, 0.1472, 0.1589, 0.1322, 0.1174, 0.1219, 0.1530, 0.1358,\n",
      "        0.1164, 0.1339, 0.1358, 0.1713, 0.1457, 0.1261, 0.1386, 0.1641, 0.1324,\n",
      "        0.1434, 0.1322, 0.1241, 0.1426, 0.1106, 0.1594, 0.1163, 0.1519, 0.1259,\n",
      "        0.1179, 0.1142, 0.1339, 0.1339, 0.1200, 0.1096, 0.1237, 0.1229, 0.1372,\n",
      "        0.1293, 0.1236, 0.1233, 0.1571, 0.1384, 0.1387, 0.1348, 0.1332, 0.1389,\n",
      "        0.1207, 0.1435, 0.1354, 0.1551, 0.1613, 0.1393, 0.1325, 0.1513, 0.1476,\n",
      "        0.1607, 0.1215, 0.1174, 0.1498, 0.1271, 0.1402, 0.1260, 0.1347, 0.1629,\n",
      "        0.1220, 0.1275, 0.1163, 0.1425, 0.1228, 0.1474, 0.1686, 0.1449, 0.1478,\n",
      "        0.1234, 0.1284, 0.1178, 0.1063, 0.1327, 0.1366, 0.1398, 0.1489, 0.1529,\n",
      "        0.1734, 0.1381, 0.1392, 0.1427, 0.1241, 0.1329, 0.1210, 0.1284, 0.1406,\n",
      "        0.1329, 0.1435, 0.1376, 0.1156, 0.1257, 0.1328, 0.1173, 0.1510, 0.1503,\n",
      "        0.1530, 0.1429, 0.1255, 0.1270, 0.1430, 0.1339, 0.1106, 0.1507, 0.1585,\n",
      "        0.1318, 0.1340, 0.1496, 0.1420, 0.1751, 0.1505, 0.1247, 0.1248, 0.1323,\n",
      "        0.1313, 0.1213, 0.1467, 0.1291, 0.1739, 0.1159, 0.1395, 0.1267, 0.1297,\n",
      "        0.1356, 0.1244, 0.1305, 0.1133, 0.1216, 0.1299, 0.1323, 0.1422, 0.1167,\n",
      "        0.1294, 0.1439, 0.1163, 0.1364, 0.1220, 0.1542, 0.1320, 0.1385, 0.1398,\n",
      "        0.1177, 0.1525, 0.1353, 0.1131, 0.1322, 0.1536, 0.1510, 0.1375, 0.1510,\n",
      "        0.1472, 0.1229, 0.1417, 0.1198, 0.1442, 0.1301, 0.1227, 0.1800, 0.1362,\n",
      "        0.1286, 0.1521, 0.1161, 0.1316, 0.1384, 0.1155, 0.1646, 0.1380, 0.1304,\n",
      "        0.1474, 0.1513, 0.1319, 0.1439, 0.1286, 0.1551, 0.1412, 0.1533, 0.1385,\n",
      "        0.1350, 0.1484, 0.1688, 0.1524, 0.1303, 0.1171, 0.1545, 0.1388, 0.1422,\n",
      "        0.1235, 0.1237, 0.1295, 0.1271, 0.1276, 0.1264, 0.1275, 0.1643, 0.1439,\n",
      "        0.1274, 0.1192, 0.1341, 0.1393, 0.1378, 0.1442, 0.1375, 0.1349, 0.1189,\n",
      "        0.1184, 0.1549, 0.1223, 0.1278, 0.1753, 0.1346, 0.1400, 0.1388, 0.1431,\n",
      "        0.1939, 0.1272, 0.1185, 0.1480, 0.1187, 0.1137, 0.1228, 0.1377, 0.1429,\n",
      "        0.1733, 0.1118, 0.1213, 0.1559, 0.1322, 0.1312, 0.1562, 0.1260, 0.1341,\n",
      "        0.1144, 0.1376, 0.1257, 0.1192, 0.1425, 0.1260, 0.1695, 0.1165, 0.1644,\n",
      "        0.1447, 0.1083, 0.1331, 0.1381, 0.1372, 0.1199, 0.1452, 0.1383, 0.1404,\n",
      "        0.1478, 0.1463, 0.1361, 0.1258, 0.1453, 0.1277, 0.1434, 0.1542, 0.1476,\n",
      "        0.1330, 0.1420, 0.1561, 0.1176, 0.1369, 0.1151, 0.1227, 0.1337, 0.1320,\n",
      "        0.1298, 0.1254, 0.1406, 0.1444, 0.1254, 0.1177, 0.1260, 0.1170, 0.1398,\n",
      "        0.1350, 0.1157, 0.1088, 0.1346, 0.1208, 0.1553, 0.1368, 0.1103, 0.1199,\n",
      "        0.1928, 0.1148, 0.1292, 0.1512, 0.1257, 0.1236, 0.1337, 0.1362, 0.1447,\n",
      "        0.1365, 0.1508, 0.1274, 0.1608, 0.1447, 0.1460, 0.1453, 0.1159, 0.1237,\n",
      "        0.1110, 0.1288, 0.1683, 0.1283, 0.1345, 0.1290, 0.1452, 0.1374, 0.1469,\n",
      "        0.1310, 0.1328, 0.1163, 0.1279, 0.1295, 0.1464, 0.1114, 0.1661, 0.1104,\n",
      "        0.1513, 0.1481, 0.1671, 0.1622, 0.1319, 0.1062, 0.1310, 0.1340, 0.1251,\n",
      "        0.1290, 0.1615, 0.1691, 0.1415, 0.1336, 0.1352, 0.1214, 0.1458, 0.1250,\n",
      "        0.1687, 0.1094, 0.1529, 0.1258, 0.1288, 0.1400, 0.1534, 0.1364, 0.1661,\n",
      "        0.1335, 0.1263, 0.1293, 0.1492, 0.1286, 0.1421, 0.1433, 0.1423, 0.1080,\n",
      "        0.1321, 0.1376, 0.1445, 0.1328, 0.1395], grad_fn=<MaxBackward0>)\n"
     ]
    }
   ],
   "source": [
    "max_probs, preds = torch.max(probs, dim=1)\n",
    "print(preds)\n",
    "print(max_probs)"
   ]
  },
  {
   "cell_type": "code",
   "execution_count": 165,
   "metadata": {
    "colab": {
     "base_uri": "https://localhost:8080/",
     "height": 382
    },
    "colab_type": "code",
    "executionInfo": {
     "elapsed": 1716,
     "status": "ok",
     "timestamp": 1597231906310,
     "user": {
      "displayName": "Sandeep Naagar",
      "photoUrl": "https://lh3.googleusercontent.com/a-/AOh14GjZywEjk2BilS2WJmmk2MC_x5UNZzS_ZjljHL4XFw=s64",
      "userId": "13180867705976122475"
     },
     "user_tz": -330
    },
    "id": "tXc4-E7PaCuR",
    "outputId": "eed21cae-6b33-402f-a82e-388332a6dbda"
   },
   "outputs": [
    {
     "data": {
      "text/plain": [
       "tensor([1, 8, 7, 5, 1, 2, 8, 2, 2, 0, 6, 7, 6, 7, 3, 4, 8, 6, 5, 8, 7, 0, 2, 8,\n",
       "        1, 7, 4, 7, 1, 5, 3, 5, 5, 6, 7, 1, 1, 3, 5, 4, 0, 7, 9, 9, 9, 4, 4, 2,\n",
       "        8, 7, 1, 8, 6, 1, 2, 0, 4, 1, 7, 5, 3, 2, 4, 4, 2, 0, 0, 1, 8, 4, 3, 2,\n",
       "        3, 3, 0, 6, 6, 1, 6, 3, 5, 3, 6, 8, 4, 6, 6, 1, 9, 7, 3, 8, 4, 6, 2, 1,\n",
       "        7, 5, 2, 6, 2, 2, 6, 3, 1, 2, 7, 4, 1, 4, 5, 3, 5, 7, 1, 3, 3, 5, 6, 9,\n",
       "        2, 1, 1, 1, 9, 7, 2, 3, 7, 2, 0, 2, 4, 7, 4, 7, 7, 8, 3, 4, 1, 1, 0, 5,\n",
       "        1, 2, 8, 2, 2, 9, 3, 6, 3, 3, 3, 1, 8, 1, 6, 2, 7, 7, 1, 8, 9, 2, 8, 1,\n",
       "        5, 5, 7, 9, 9, 2, 7, 2, 3, 8, 7, 2, 8, 2, 6, 6, 5, 5, 5, 4, 4, 0, 5, 1,\n",
       "        6, 8, 2, 9, 2, 3, 1, 7, 1, 7, 9, 4, 9, 2, 5, 3, 4, 1, 1, 9, 8, 7, 3, 4,\n",
       "        7, 8, 7, 0, 2, 4, 5, 0, 3, 3, 3, 9, 8, 4, 8, 3, 6, 9, 7, 4, 3, 9, 9, 9,\n",
       "        1, 6, 7, 2, 7, 3, 9, 0, 9, 8, 1, 6, 8, 6, 9, 7, 5, 5, 1, 1, 0, 4, 1, 7,\n",
       "        1, 8, 4, 7, 9, 1, 3, 4, 1, 0, 6, 2, 4, 0, 4, 7, 8, 4, 1, 0, 2, 9, 9, 7,\n",
       "        6, 0, 0, 8, 0, 6, 8, 0, 2, 3, 8, 1, 2, 8, 1, 5, 9, 0, 7, 0, 0, 2, 5, 0,\n",
       "        4, 0, 7, 8, 0, 0, 7, 9, 1, 6, 4, 8, 3, 7, 7, 8, 0, 9, 0, 6, 6, 4, 1, 4,\n",
       "        2, 8, 6, 2, 7, 7, 6, 4, 4, 1, 6, 3, 7, 4, 0, 2, 9, 1, 2, 0, 0, 7, 7, 6,\n",
       "        8, 1, 9, 4, 4, 2, 0, 1, 6, 1, 5, 2, 2, 0, 9, 6, 1, 6, 0, 1, 6, 6, 7, 7,\n",
       "        9, 8, 0, 9, 6, 2, 1, 2, 6, 3, 3, 4, 0, 0, 5, 1, 0, 1, 7, 7, 6, 8, 5, 2,\n",
       "        0, 3, 1, 0, 2, 2, 7, 4, 1, 2, 9, 5, 2, 1, 4, 9, 1, 3, 4, 5, 7, 8, 4, 6,\n",
       "        2, 7, 4, 7, 4, 5, 7, 1, 5, 1, 0, 2, 9, 5, 6, 0, 4, 0, 3, 2, 8, 2, 7, 8,\n",
       "        3, 8, 1, 6, 6, 7, 3, 4, 1, 3, 4, 5, 3, 6, 5, 7, 6, 0, 9, 3, 4, 0, 1, 2,\n",
       "        3, 5, 6, 9, 1, 2, 4, 2, 4, 6, 9, 9, 7, 8, 1, 5, 2, 8, 7, 2])"
      ]
     },
     "execution_count": 165,
     "metadata": {
      "tags": []
     },
     "output_type": "execute_result"
    }
   ],
   "source": [
    "labels"
   ]
  },
  {
   "cell_type": "markdown",
   "metadata": {
    "colab_type": "text",
    "id": "ac1ANuUVaZui"
   },
   "source": [
    "## Evaluation matric and loss function"
   ]
  },
  {
   "cell_type": "code",
   "execution_count": 166,
   "metadata": {
    "colab": {},
    "colab_type": "code",
    "executionInfo": {
     "elapsed": 736,
     "status": "ok",
     "timestamp": 1597231908604,
     "user": {
      "displayName": "Sandeep Naagar",
      "photoUrl": "https://lh3.googleusercontent.com/a-/AOh14GjZywEjk2BilS2WJmmk2MC_x5UNZzS_ZjljHL4XFw=s64",
      "userId": "13180867705976122475"
     },
     "user_tz": -330
    },
    "id": "uJ16a4kxaMzD"
   },
   "outputs": [],
   "source": [
    "def accuracy(l1, l2):\n",
    "  return torch.sum(l1 == l2).item() / len(l1)\n",
    "  "
   ]
  },
  {
   "cell_type": "code",
   "execution_count": 167,
   "metadata": {
    "colab": {
     "base_uri": "https://localhost:8080/",
     "height": 34
    },
    "colab_type": "code",
    "executionInfo": {
     "elapsed": 840,
     "status": "ok",
     "timestamp": 1597231910246,
     "user": {
      "displayName": "Sandeep Naagar",
      "photoUrl": "https://lh3.googleusercontent.com/a-/AOh14GjZywEjk2BilS2WJmmk2MC_x5UNZzS_ZjljHL4XFw=s64",
      "userId": "13180867705976122475"
     },
     "user_tz": -330
    },
    "id": "7F-_fpdnbSn5",
    "outputId": "0aaba93f-dc79-4367-9abd-1514f2e93e0f"
   },
   "outputs": [
    {
     "data": {
      "text/plain": [
       "0.108"
      ]
     },
     "execution_count": 167,
     "metadata": {
      "tags": []
     },
     "output_type": "execute_result"
    }
   ],
   "source": [
    "accuracy(preds, labels)"
   ]
  },
  {
   "cell_type": "code",
   "execution_count": 168,
   "metadata": {
    "colab": {
     "base_uri": "https://localhost:8080/",
     "height": 34
    },
    "colab_type": "code",
    "executionInfo": {
     "elapsed": 1057,
     "status": "ok",
     "timestamp": 1597231915215,
     "user": {
      "displayName": "Sandeep Naagar",
      "photoUrl": "https://lh3.googleusercontent.com/a-/AOh14GjZywEjk2BilS2WJmmk2MC_x5UNZzS_ZjljHL4XFw=s64",
      "userId": "13180867705976122475"
     },
     "user_tz": -330
    },
    "id": "dx5xLjbybV8W",
    "outputId": "bd5737a1-3224-45c2-aa33-bcc4ee27a36c"
   },
   "outputs": [
    {
     "name": "stdout",
     "output_type": "stream",
     "text": [
      "tensor(2.3159, grad_fn=<NllLossBackward>)\n"
     ]
    }
   ],
   "source": [
    "loss_fn = F.cross_entropy\n",
    "loss = loss_fn(outputs, labels)\n",
    "print(loss)"
   ]
  },
  {
   "cell_type": "code",
   "execution_count": 169,
   "metadata": {
    "colab": {},
    "colab_type": "code",
    "executionInfo": {
     "elapsed": 1286,
     "status": "ok",
     "timestamp": 1597231917164,
     "user": {
      "displayName": "Sandeep Naagar",
      "photoUrl": "https://lh3.googleusercontent.com/a-/AOh14GjZywEjk2BilS2WJmmk2MC_x5UNZzS_ZjljHL4XFw=s64",
      "userId": "13180867705976122475"
     },
     "user_tz": -330
    },
    "id": "FbbkgBs-dko4"
   },
   "outputs": [],
   "source": [
    "learning_rate = 0.001\n",
    "optmizer = torch.optim.SGD(model.parameters(), lr=learning_rate)"
   ]
  },
  {
   "cell_type": "markdown",
   "metadata": {
    "colab_type": "text",
    "id": "9_9fzyx3eUQk"
   },
   "source": [
    "## Traning the Model"
   ]
  },
  {
   "cell_type": "code",
   "execution_count": 170,
   "metadata": {
    "colab": {},
    "colab_type": "code",
    "executionInfo": {
     "elapsed": 1008,
     "status": "ok",
     "timestamp": 1597231919924,
     "user": {
      "displayName": "Sandeep Naagar",
      "photoUrl": "https://lh3.googleusercontent.com/a-/AOh14GjZywEjk2BilS2WJmmk2MC_x5UNZzS_ZjljHL4XFw=s64",
      "userId": "13180867705976122475"
     },
     "user_tz": -330
    },
    "id": "sDNhNP3veJiz"
   },
   "outputs": [],
   "source": [
    "def loss_batch(model, loss_fn, xb, yb, opt=None, metric=None):\n",
    "    # calculate the loss\n",
    "    preds = model(xb)\n",
    "    loss = loss_fn(preds, yb)\n",
    "\n",
    "    if opt is not None:\n",
    "        # compute gradient\n",
    "        loss.backward()\n",
    "\n",
    "        # update the parameters \n",
    "        opt.step()\n",
    "\n",
    "        # reset gradients\n",
    "        opt.zero_grad()\n",
    "    metric_result = None\n",
    "    if metric is not None:\n",
    "        # compute the metric\n",
    "\n",
    "        metric_result = metric(preds, yb)\n",
    "    return loss.item(), len(xb), metric_result\n",
    "\n"
   ]
  },
  {
   "cell_type": "code",
   "execution_count": 171,
   "metadata": {
    "colab": {},
    "colab_type": "code",
    "executionInfo": {
     "elapsed": 869,
     "status": "ok",
     "timestamp": 1597231921580,
     "user": {
      "displayName": "Sandeep Naagar",
      "photoUrl": "https://lh3.googleusercontent.com/a-/AOh14GjZywEjk2BilS2WJmmk2MC_x5UNZzS_ZjljHL4XFw=s64",
      "userId": "13180867705976122475"
     },
     "user_tz": -330
    },
    "id": "gkxkkxUwfrLB"
   },
   "outputs": [],
   "source": [
    "def evaluate(model, loss_fn, valid_d1, metric=None):\n",
    "  with torch.no_grad():\n",
    "      # pass each batch through the model\n",
    "      results = [loss_batch(model, loss_fn, xb, yb, metric=metric) for xb, yb in valid_d1]\n",
    "      # Seprate losses, counts and matrices\n",
    "      losses, nums, metrics = zip(*results)\n",
    "\n",
    "      # Totel size of the dataset\n",
    "      total = np.sum(nums)\n",
    "\n",
    "      # Avg. loss across batches\n",
    "      avg_loss = np.sum(np.multiply(losses, nums)) / total\n",
    "      avg_metric = None\n",
    "      if metric is not None:\n",
    "          # Avg. of metric across batches\n",
    "          avg_metric = np.sum(np.multiply(metrics, nums)) / total\n",
    "  return avg_loss, total, avg_metric"
   ]
  },
  {
   "cell_type": "code",
   "execution_count": 172,
   "metadata": {
    "colab": {},
    "colab_type": "code",
    "executionInfo": {
     "elapsed": 1004,
     "status": "ok",
     "timestamp": 1597231925450,
     "user": {
      "displayName": "Sandeep Naagar",
      "photoUrl": "https://lh3.googleusercontent.com/a-/AOh14GjZywEjk2BilS2WJmmk2MC_x5UNZzS_ZjljHL4XFw=s64",
      "userId": "13180867705976122475"
     },
     "user_tz": -330
    },
    "id": "B5bVJaIaPB3-"
   },
   "outputs": [],
   "source": [
    " def accuracy(outputs, labels):\n",
    "   _, preds = torch.max(outputs, dim=1)\n",
    "   return torch.sum(preds == labels).item() / len(preds)\n"
   ]
  },
  {
   "cell_type": "code",
   "execution_count": 173,
   "metadata": {
    "colab": {
     "base_uri": "https://localhost:8080/",
     "height": 34
    },
    "colab_type": "code",
    "executionInfo": {
     "elapsed": 2022,
     "status": "ok",
     "timestamp": 1597231928222,
     "user": {
      "displayName": "Sandeep Naagar",
      "photoUrl": "https://lh3.googleusercontent.com/a-/AOh14GjZywEjk2BilS2WJmmk2MC_x5UNZzS_ZjljHL4XFw=s64",
      "userId": "13180867705976122475"
     },
     "user_tz": -330
    },
    "id": "431fURMMQAYm",
    "outputId": "8f5b7ef1-f1f8-4d3e-c739-60adcd7a9036"
   },
   "outputs": [
    {
     "name": "stdout",
     "output_type": "stream",
     "text": [
      "Loss : 2.3236, Accuracy: 0.0979 \n"
     ]
    }
   ],
   "source": [
    "val_loss, total, val_acc = evaluate(model, loss_fn, val_loader, metric=accuracy)\n",
    "print('Loss : {:.4f}, Accuracy: {:.4f} '.format(val_loss,val_acc))"
   ]
  },
  {
   "cell_type": "code",
   "execution_count": 174,
   "metadata": {
    "colab": {},
    "colab_type": "code",
    "executionInfo": {
     "elapsed": 879,
     "status": "ok",
     "timestamp": 1597231929974,
     "user": {
      "displayName": "Sandeep Naagar",
      "photoUrl": "https://lh3.googleusercontent.com/a-/AOh14GjZywEjk2BilS2WJmmk2MC_x5UNZzS_ZjljHL4XFw=s64",
      "userId": "13180867705976122475"
     },
     "user_tz": -330
    },
    "id": "I-tEsyq7RIHK"
   },
   "outputs": [],
   "source": [
    "def fit(epochs, model, loss_fn, opt, train_d1, valid_d1, metric):\n",
    "    for epoch in range(epochs):\n",
    "        # Traning\n",
    "        for xb, yb, in train_d1:\n",
    "            loss,_,_ = loss_batch(model, loss_fn, xb, yb, opt)\n",
    "        \n",
    "        # Evaluation\n",
    "        result = evaluate(model, loss_fn, valid_d1, metric)\n",
    "        val_loss, total, val_metric = result\n",
    "\n",
    "        # Print progress\n",
    "        if metric is None:\n",
    "            print('Epoch [{}/{}], Loss: {:.4f} '.format(epoch+1, epochs, val_loss))\n",
    "        else:\n",
    "            print('Epoch [{}/{}], Loss: {:.4f}, {}: {:.4f} '.format(epoch+1, epochs, val_loss, metric.__name__, val_metric))\n",
    "\n"
   ]
  },
  {
   "cell_type": "code",
   "execution_count": 175,
   "metadata": {
    "colab": {},
    "colab_type": "code",
    "executionInfo": {
     "elapsed": 736,
     "status": "ok",
     "timestamp": 1597231931662,
     "user": {
      "displayName": "Sandeep Naagar",
      "photoUrl": "https://lh3.googleusercontent.com/a-/AOh14GjZywEjk2BilS2WJmmk2MC_x5UNZzS_ZjljHL4XFw=s64",
      "userId": "13180867705976122475"
     },
     "user_tz": -330
    },
    "id": "5pPoKIbVVYIq"
   },
   "outputs": [],
   "source": [
    "model = MinstModel()\n",
    "optimizer =  torch.optim.SGD(model.parameters(), lr=learning_rate)"
   ]
  },
  {
   "cell_type": "code",
   "execution_count": 176,
   "metadata": {
    "colab": {
     "base_uri": "https://localhost:8080/",
     "height": 451
    },
    "colab_type": "code",
    "executionInfo": {
     "elapsed": 112513,
     "status": "ok",
     "timestamp": 1597232045476,
     "user": {
      "displayName": "Sandeep Naagar",
      "photoUrl": "https://lh3.googleusercontent.com/a-/AOh14GjZywEjk2BilS2WJmmk2MC_x5UNZzS_ZjljHL4XFw=s64",
      "userId": "13180867705976122475"
     },
     "user_tz": -330
    },
    "id": "CLNVg7DZXBkt",
    "outputId": "a04c5c3b-b6a3-4bf4-d1a0-8b37571c25cd"
   },
   "outputs": [
    {
     "name": "stdout",
     "output_type": "stream",
     "text": [
      "Epoch [1/25], Loss: 2.2359, accuracy: 0.2172 \n",
      "Epoch [2/25], Loss: 2.1405, accuracy: 0.4000 \n",
      "Epoch [3/25], Loss: 2.0528, accuracy: 0.5162 \n",
      "Epoch [4/25], Loss: 1.9716, accuracy: 0.5903 \n",
      "Epoch [5/25], Loss: 1.8963, accuracy: 0.6373 \n",
      "Epoch [6/25], Loss: 1.8263, accuracy: 0.6726 \n",
      "Epoch [7/25], Loss: 1.7613, accuracy: 0.6957 \n",
      "Epoch [8/25], Loss: 1.7008, accuracy: 0.7117 \n",
      "Epoch [9/25], Loss: 1.6445, accuracy: 0.7267 \n",
      "Epoch [10/25], Loss: 1.5921, accuracy: 0.7374 \n",
      "Epoch [11/25], Loss: 1.5434, accuracy: 0.7466 \n",
      "Epoch [12/25], Loss: 1.4979, accuracy: 0.7538 \n",
      "Epoch [13/25], Loss: 1.4556, accuracy: 0.7606 \n",
      "Epoch [14/25], Loss: 1.4160, accuracy: 0.7656 \n",
      "Epoch [15/25], Loss: 1.3791, accuracy: 0.7706 \n",
      "Epoch [16/25], Loss: 1.3445, accuracy: 0.7748 \n",
      "Epoch [17/25], Loss: 1.3121, accuracy: 0.7795 \n",
      "Epoch [18/25], Loss: 1.2817, accuracy: 0.7830 \n",
      "Epoch [19/25], Loss: 1.2532, accuracy: 0.7867 \n",
      "Epoch [20/25], Loss: 1.2264, accuracy: 0.7889 \n",
      "Epoch [21/25], Loss: 1.2011, accuracy: 0.7913 \n",
      "Epoch [22/25], Loss: 1.1773, accuracy: 0.7941 \n",
      "Epoch [23/25], Loss: 1.1548, accuracy: 0.7959 \n",
      "Epoch [24/25], Loss: 1.1335, accuracy: 0.7984 \n",
      "Epoch [25/25], Loss: 1.1134, accuracy: 0.8006 \n"
     ]
    }
   ],
   "source": [
    "fit(25, model, F.cross_entropy, optimizer, train_loader, val_loader, accuracy)"
   ]
  },
  {
   "cell_type": "code",
   "execution_count": 177,
   "metadata": {
    "colab": {
     "base_uri": "https://localhost:8080/",
     "height": 121
    },
    "colab_type": "code",
    "executionInfo": {
     "elapsed": 984,
     "status": "ok",
     "timestamp": 1597232115305,
     "user": {
      "displayName": "Sandeep Naagar",
      "photoUrl": "https://lh3.googleusercontent.com/a-/AOh14GjZywEjk2BilS2WJmmk2MC_x5UNZzS_ZjljHL4XFw=s64",
      "userId": "13180867705976122475"
     },
     "user_tz": -330
    },
    "id": "TdkVkYVeNH8x",
    "outputId": "80997474-fe15-46f1-eed7-8b9f16313d31"
   },
   "outputs": [
    {
     "name": "stdout",
     "output_type": "stream",
     "text": [
      "output.shape : torch.Size([500, 10])\n",
      "Samples outputs :\n",
      " tensor([[-1.1244e-01,  2.3562e-04, -2.4873e-02, -7.5428e-02,  1.2270e-01,\n",
      "          6.4293e-04, -9.9443e-02,  1.6268e-02,  1.1126e-01,  4.6700e-02],\n",
      "        [-1.6913e-01, -2.6381e-01,  4.6075e-01,  5.7105e-02, -1.1640e-01,\n",
      "          1.5116e-01, -1.3600e-01,  1.3006e-01,  1.7256e-02, -3.2824e-01]])\n"
     ]
    }
   ],
   "source": [
    "test_dataset = MNIST(root='data/', \n",
    "                train=False, \n",
    "                transform=transform.ToTensor())\n",
    "\n",
    "test_loader  = DataLoader(test_dataset, batch_size=200)\n",
    "for images, labels in test_loader:\n",
    "  outputs_test = model(images)\n",
    "  break\n",
    "\n",
    "print('output.shape :', outputs.shape)\n",
    "print('Samples outputs :\\n', outputs[:2].data)"
   ]
  },
  {
   "cell_type": "code",
   "execution_count": 178,
   "metadata": {
    "colab": {
     "base_uri": "https://localhost:8080/",
     "height": 300
    },
    "colab_type": "code",
    "executionInfo": {
     "elapsed": 1114,
     "status": "ok",
     "timestamp": 1597232118583,
     "user": {
      "displayName": "Sandeep Naagar",
      "photoUrl": "https://lh3.googleusercontent.com/a-/AOh14GjZywEjk2BilS2WJmmk2MC_x5UNZzS_ZjljHL4XFw=s64",
      "userId": "13180867705976122475"
     },
     "user_tz": -330
    },
    "id": "q9vpY_35O4hq",
    "outputId": "fb39f419-6470-4f95-a515-7f0ce72b7382"
   },
   "outputs": [
    {
     "name": "stdout",
     "output_type": "stream",
     "text": [
      "Shape: torch.Size([1, 28, 28])\n",
      "Label: 7\n"
     ]
    },
    {
     "data": {
      "image/png": "[encoded data removed]",
      "text/plain": [
       "<Figure size 432x288 with 1 Axes>"
      ]
     },
     "metadata": {
      "needs_background": "light",
      "tags": []
     },
     "output_type": "display_data"
    }
   ],
   "source": [
    "img, label = test_dataset[0]\n",
    "plt.imshow(img[0], cmap='gray')\n",
    "print('Shape:', img.shape)\n",
    "print('Label:', label)"
   ]
  },
  {
   "cell_type": "code",
   "execution_count": 182,
   "metadata": {
    "colab": {
     "base_uri": "https://localhost:8080/",
     "height": 34
    },
    "colab_type": "code",
    "executionInfo": {
     "elapsed": 1690,
     "status": "ok",
     "timestamp": 1597232376422,
     "user": {
      "displayName": "Sandeep Naagar",
      "photoUrl": "https://lh3.googleusercontent.com/a-/AOh14GjZywEjk2BilS2WJmmk2MC_x5UNZzS_ZjljHL4XFw=s64",
      "userId": "13180867705976122475"
     },
     "user_tz": -330
    },
    "id": "GiW9NSOqmkdD",
    "outputId": "03328f17-be43-47b3-d88b-dbf7f72246c9"
   },
   "outputs": [
    {
     "name": "stdout",
     "output_type": "stream",
     "text": [
      "Loss: 1.0876, Accuracy: 0.8203\n"
     ]
    }
   ],
   "source": [
    "#test_loader  = DataLoader(test_dataset, batch_size=200)\n",
    "\n",
    "test_loss, total, test_acc = evaluate(model, loss_fn, test_loader, metric=accuracy )\n",
    "print('Loss: {:.4f}, Accuracy: {:.4f}'.format(test_loss, test_acc ))"
   ]
  },
  {
   "cell_type": "markdown",
   "metadata": {
    "colab_type": "text",
    "id": "sx3A7UZYeHpt"
   },
   "source": [
    "## Saving the model"
   ]
  },
  {
   "cell_type": "code",
   "execution_count": 185,
   "metadata": {
    "colab": {
     "base_uri": "https://localhost:8080/",
     "height": 208
    },
    "colab_type": "code",
    "executionInfo": {
     "elapsed": 1073,
     "status": "ok",
     "timestamp": 1597232512110,
     "user": {
      "displayName": "Sandeep Naagar",
      "photoUrl": "https://lh3.googleusercontent.com/a-/AOh14GjZywEjk2BilS2WJmmk2MC_x5UNZzS_ZjljHL4XFw=s64",
      "userId": "13180867705976122475"
     },
     "user_tz": -330
    },
    "id": "2Iv2rlfjRO0n",
    "outputId": "76b7cea4-ff6b-44f6-a12f-6f0c048604c3"
   },
   "outputs": [
    {
     "data": {
      "text/plain": [
       "OrderedDict([('linear.weight',\n",
       "              tensor([[-0.0245, -0.0118,  0.0236,  ...,  0.0149, -0.0163, -0.0192],\n",
       "                      [-0.0263, -0.0124, -0.0336,  ..., -0.0027, -0.0071, -0.0275],\n",
       "                      [-0.0084,  0.0140, -0.0272,  ..., -0.0241,  0.0233, -0.0094],\n",
       "                      ...,\n",
       "                      [ 0.0323,  0.0029,  0.0082,  ..., -0.0336, -0.0323, -0.0313],\n",
       "                      [-0.0291, -0.0257, -0.0274,  ..., -0.0273, -0.0140,  0.0352],\n",
       "                      [ 0.0086,  0.0208, -0.0157,  ..., -0.0143, -0.0333, -0.0296]])),\n",
       "             ('linear.bias',\n",
       "              tensor([-0.0450,  0.0771,  0.0118, -0.0154,  0.0023,  0.0448,  0.0022,  0.0214,\n",
       "                      -0.0378,  0.0277]))])"
      ]
     },
     "execution_count": 185,
     "metadata": {
      "tags": []
     },
     "output_type": "execute_result"
    }
   ],
   "source": [
    "torch.save(model.state_dict(), 'mnist-logostic.pth')   # atteched trained model\n",
    "model.state_dict()"
   ]
  },
  {
   "cell_type": "code",
   "execution_count": 185,
   "metadata": {
    "colab": {},
    "colab_type": "code",
    "executionInfo": {
     "elapsed": 705,
     "status": "ok",
     "timestamp": 1597232584825,
     "user": {
      "displayName": "Sandeep Naagar",
      "photoUrl": "https://lh3.googleusercontent.com/a-/AOh14GjZywEjk2BilS2WJmmk2MC_x5UNZzS_ZjljHL4XFw=s64",
      "userId": "13180867705976122475"
     },
     "user_tz": -330
    },
    "id": "GzAg6at3eYNH"
   },
   "outputs": [],
   "source": []
  },
  {
   "cell_type": "code",
   "execution_count": null,
   "metadata": {
    "colab": {},
    "colab_type": "code",
    "id": "UYoIZE34ezAK"
   },
   "outputs": [],
   "source": []
  },
  {
   "cell_type": "code",
   "execution_count": null,
   "metadata": {
    "colab": {},
    "colab_type": "code",
    "id": "fAMfWFRaey7i"
   },
   "outputs": [],
   "source": []
  },
  {
   "cell_type": "code",
   "execution_count": null,
   "metadata": {
    "colab": {},
    "colab_type": "code",
    "id": "ma_fZPaPey5y"
   },
   "outputs": [],
   "source": []
  },
  {
   "cell_type": "code",
   "execution_count": null,
   "metadata": {
    "colab": {},
    "colab_type": "code",
    "id": "d8qF8HbCeyw8"
   },
   "outputs": [],
   "source": []
  },
  {
   "cell_type": "markdown",
   "metadata": {
    "colab_type": "text",
    "id": "-PqEKC5me0PH"
   },
   "source": [
    "# Traning Deep Neural Networks on a GPU"
   ]
  },
  {
   "cell_type": "code",
   "execution_count": 1,
   "metadata": {
    "colab": {},
    "colab_type": "code",
    "executionInfo": {
     "elapsed": 1027,
     "status": "ok",
     "timestamp": 1597261354604,
     "user": {
      "displayName": "Sandeep Naagar",
      "photoUrl": "https://lh3.googleusercontent.com/a-/AOh14GjZywEjk2BilS2WJmmk2MC_x5UNZzS_ZjljHL4XFw=s64",
      "userId": "13180867705976122475"
     },
     "user_tz": -330
    },
    "id": "BR0Z-d2Qeyhp"
   },
   "outputs": [
    {
     "ename": "ImportError",
     "evalue": "/home/sandeep.nagar/anaconda3/lib/python3.7/site-packages/torch/_C.cpython-37m-x86_64-linux-gnu.so: failed to map segment from shared object: Cannot allocate memory",
     "output_type": "error",
     "traceback": [
      "\u001b[0;31m---------------------------------------------------------------------------\u001b[0m",
      "\u001b[0;31mImportError\u001b[0m                               Traceback (most recent call last)",
      "\u001b[0;32m<ipython-input-1-b51dd110fb12>\u001b[0m in \u001b[0;36m<module>\u001b[0;34m\u001b[0m\n\u001b[0;32m----> 1\u001b[0;31m \u001b[0;32mimport\u001b[0m \u001b[0mtorch\u001b[0m\u001b[0;34m\u001b[0m\u001b[0;34m\u001b[0m\u001b[0m\n\u001b[0m\u001b[1;32m      2\u001b[0m \u001b[0;32mimport\u001b[0m \u001b[0mnumpy\u001b[0m \u001b[0;32mas\u001b[0m \u001b[0mnp\u001b[0m\u001b[0;34m\u001b[0m\u001b[0;34m\u001b[0m\u001b[0m\n\u001b[1;32m      3\u001b[0m \u001b[0;32mimport\u001b[0m \u001b[0mtorchvision\u001b[0m\u001b[0;34m\u001b[0m\u001b[0;34m\u001b[0m\u001b[0m\n\u001b[1;32m      4\u001b[0m \u001b[0;32mimport\u001b[0m \u001b[0mtorch\u001b[0m\u001b[0;34m.\u001b[0m\u001b[0mnn\u001b[0m\u001b[0;34m.\u001b[0m\u001b[0mfunctional\u001b[0m \u001b[0;32mas\u001b[0m \u001b[0mF\u001b[0m\u001b[0;34m\u001b[0m\u001b[0;34m\u001b[0m\u001b[0m\n\u001b[1;32m      5\u001b[0m \u001b[0;32mimport\u001b[0m \u001b[0mtorch\u001b[0m\u001b[0;34m.\u001b[0m\u001b[0mnn\u001b[0m \u001b[0;32mas\u001b[0m \u001b[0mnn\u001b[0m\u001b[0;34m\u001b[0m\u001b[0;34m\u001b[0m\u001b[0m\n",
      "\u001b[0;32m~/anaconda3/lib/python3.7/site-packages/torch/__init__.py\u001b[0m in \u001b[0;36m<module>\u001b[0;34m\u001b[0m\n\u001b[1;32m     79\u001b[0m \u001b[0;32mdel\u001b[0m \u001b[0m_dl_flags\u001b[0m\u001b[0;34m\u001b[0m\u001b[0;34m\u001b[0m\u001b[0m\n\u001b[1;32m     80\u001b[0m \u001b[0;34m\u001b[0m\u001b[0m\n\u001b[0;32m---> 81\u001b[0;31m \u001b[0;32mfrom\u001b[0m \u001b[0mtorch\u001b[0m\u001b[0;34m.\u001b[0m\u001b[0m_C\u001b[0m \u001b[0;32mimport\u001b[0m \u001b[0;34m*\u001b[0m\u001b[0;34m\u001b[0m\u001b[0;34m\u001b[0m\u001b[0m\n\u001b[0m\u001b[1;32m     82\u001b[0m \u001b[0;34m\u001b[0m\u001b[0m\n\u001b[1;32m     83\u001b[0m __all__ += [name for name in dir(_C)\n",
      "\u001b[0;31mImportError\u001b[0m: /home/sandeep.nagar/anaconda3/lib/python3.7/site-packages/torch/_C.cpython-37m-x86_64-linux-gnu.so: failed to map segment from shared object: Cannot allocate memory"
     ]
    }
   ],
   "source": [
    "import torch\n",
    "import numpy as np\n",
    "import torchvision\n",
    "import torch.nn.functional as F\n",
    "import torch.nn as nn\n",
    "from torchvision.datasets import MNIST\n",
    "from torchvision.datasets import CIFAR10\n",
    "from torchvision.transforms import ToTensor\n",
    "from torch.utils.data.sampler import SubsetRandomSampler\n",
    "from torch.utils.data.dataloader import DataLoader"
   ]
  },
  {
   "cell_type": "code",
   "execution_count": 96,
   "metadata": {
    "colab": {},
    "colab_type": "code",
    "executionInfo": {
     "elapsed": 1746,
     "status": "ok",
     "timestamp": 1597261356721,
     "user": {
      "displayName": "Sandeep Naagar",
      "photoUrl": "https://lh3.googleusercontent.com/a-/AOh14GjZywEjk2BilS2WJmmk2MC_x5UNZzS_ZjljHL4XFw=s64",
      "userId": "13180867705976122475"
     },
     "user_tz": -330
    },
    "id": "-RAhy05bgcyk"
   },
   "outputs": [],
   "source": [
    "dataset  = MNIST(root='data/',\n",
    "                 download=True,\n",
    "                 transform=ToTensor())\n",
    "\n",
    "# dataset  = CIFAR10(root='data/',\n",
    "#                  download=True,\n",
    "#                  transform=ToTensor())\n"
   ]
  },
  {
   "cell_type": "code",
   "execution_count": 97,
   "metadata": {
    "colab": {},
    "colab_type": "code",
    "executionInfo": {
     "elapsed": 1810,
     "status": "ok",
     "timestamp": 1597261357587,
     "user": {
      "displayName": "Sandeep Naagar",
      "photoUrl": "https://lh3.googleusercontent.com/a-/AOh14GjZywEjk2BilS2WJmmk2MC_x5UNZzS_ZjljHL4XFw=s64",
      "userId": "13180867705976122475"
     },
     "user_tz": -330
    },
    "id": "vpOWMj8_gpyF"
   },
   "outputs": [],
   "source": [
    "def split_indices(n, val_pct):\n",
    "    # determine size of validation set \n",
    "    n_val = int(val_pct*n)\n",
    "\n",
    "    # creat random permutation od 0 to n-1\n",
    "    idxs = np.random.permutation(n)\n",
    "\n",
    "    # pick first n_val indices for validation set \n",
    "    return idxs[n_val:], idxs[:n_val]"
   ]
  },
  {
   "cell_type": "code",
   "execution_count": 98,
   "metadata": {
    "colab": {
     "base_uri": "https://localhost:8080/",
     "height": 69
    },
    "colab_type": "code",
    "executionInfo": {
     "elapsed": 1510,
     "status": "ok",
     "timestamp": 1597261358085,
     "user": {
      "displayName": "Sandeep Naagar",
      "photoUrl": "https://lh3.googleusercontent.com/a-/AOh14GjZywEjk2BilS2WJmmk2MC_x5UNZzS_ZjljHL4XFw=s64",
      "userId": "13180867705976122475"
     },
     "user_tz": -330
    },
    "id": "gZ9Njojshnbu",
    "outputId": "f8600099-d7e2-4585-dc5f-a549afa0ad03"
   },
   "outputs": [
    {
     "name": "stdout",
     "output_type": "stream",
     "text": [
      "48000 12000\n",
      "sample_val indices: [40200 51057 29077  2056 42328 40773 10355 41232 19418  6919 45635 39069\n",
      " 45208 26213 31660 42243 45831 23933 54721 11304]\n"
     ]
    }
   ],
   "source": [
    "\n",
    "train_indices, val_indices = split_indices(len(dataset), val_pct=0.2)\n",
    "print(len(train_indices), len(val_indices))\n",
    "print('sample_val indices:', val_indices[:20])"
   ]
  },
  {
   "cell_type": "code",
   "execution_count": 99,
   "metadata": {
    "colab": {},
    "colab_type": "code",
    "executionInfo": {
     "elapsed": 1300,
     "status": "ok",
     "timestamp": 1597261358753,
     "user": {
      "displayName": "Sandeep Naagar",
      "photoUrl": "https://lh3.googleusercontent.com/a-/AOh14GjZywEjk2BilS2WJmmk2MC_x5UNZzS_ZjljHL4XFw=s64",
      "userId": "13180867705976122475"
     },
     "user_tz": -330
    },
    "id": "mMa9b04MiFC_"
   },
   "outputs": [],
   "source": [
    "batch_size = 500\n",
    "\n",
    "\n",
    "# Traning sampler and data loader\n",
    "train_sampler = SubsetRandomSampler(train_indices)\n",
    "train_d1 = DataLoader(dataset,\n",
    "                      batch_size,\n",
    "                       sampler = train_sampler)\n",
    "\n",
    "\n",
    "#  validation sampler and data loader \n",
    "valid_sampler = SubsetRandomSampler(val_indices)\n",
    "valid_d1 = DataLoader(dataset,\n",
    "                      batch_size,\n",
    "                       sampler = valid_sampler)\n"
   ]
  },
  {
   "cell_type": "code",
   "execution_count": 99,
   "metadata": {
    "colab": {},
    "colab_type": "code",
    "executionInfo": {
     "elapsed": 1221,
     "status": "ok",
     "timestamp": 1597261359749,
     "user": {
      "displayName": "Sandeep Naagar",
      "photoUrl": "https://lh3.googleusercontent.com/a-/AOh14GjZywEjk2BilS2WJmmk2MC_x5UNZzS_ZjljHL4XFw=s64",
      "userId": "13180867705976122475"
     },
     "user_tz": -330
    },
    "id": "rTMrGiqIj0Yk"
   },
   "outputs": [],
   "source": []
  },
  {
   "cell_type": "markdown",
   "metadata": {
    "colab_type": "text",
    "id": "4OP4Ggjlj17H"
   },
   "source": [
    "## Model"
   ]
  },
  {
   "cell_type": "code",
   "execution_count": 100,
   "metadata": {
    "colab": {},
    "colab_type": "code",
    "executionInfo": {
     "elapsed": 926,
     "status": "ok",
     "timestamp": 1597261362000,
     "user": {
      "displayName": "Sandeep Naagar",
      "photoUrl": "https://lh3.googleusercontent.com/a-/AOh14GjZywEjk2BilS2WJmmk2MC_x5UNZzS_ZjljHL4XFw=s64",
      "userId": "13180867705976122475"
     },
     "user_tz": -330
    },
    "id": "JoLqHao1j4MI"
   },
   "outputs": [],
   "source": [
    "class MnistModel(nn.Module):\n",
    "    # feed foward nn with 1 hidden layer\n",
    "    def __init__(self, in_size, hidden_size_1, hidden_size_2, out_size):\n",
    "        super().__init__()\n",
    "        # hidden layer\n",
    "        self.linear1 = nn.Linear(in_size, hidden_size_1)\n",
    "\n",
    "        self.linear11 = nn.Linear(hidden_size_1, hidden_size_2)\n",
    "\n",
    "        # output layer\n",
    "        self.linear2 = nn.Linear(hidden_size_2, out_size)\n",
    "\n",
    "    def forward(self, xb):\n",
    "        # Flaten the imahe tensor\n",
    "        xb = xb.view(xb.size(0), -1)\n",
    "\n",
    "        # get intermediat outputs using hidden layer\n",
    "        out = self.linear1(xb)\n",
    "        out = self.linear11(out)\n",
    "\n",
    "        # apply activation function   or ignoring the negatives values\n",
    "        out = F.relu(out)\n",
    "\n",
    "        # Get predctions using the output layer\n",
    "        out = self.linear2(out)\n",
    "        return out\n",
    "\n"
   ]
  },
  {
   "cell_type": "code",
   "execution_count": 101,
   "metadata": {
    "colab": {
     "base_uri": "https://localhost:8080/",
     "height": 34
    },
    "colab_type": "code",
    "executionInfo": {
     "elapsed": 1219,
     "status": "ok",
     "timestamp": 1597261363100,
     "user": {
      "displayName": "Sandeep Naagar",
      "photoUrl": "https://lh3.googleusercontent.com/a-/AOh14GjZywEjk2BilS2WJmmk2MC_x5UNZzS_ZjljHL4XFw=s64",
      "userId": "13180867705976122475"
     },
     "user_tz": -330
    },
    "id": "vECwau9JnUEF",
    "outputId": "79f3a86b-69fb-4f5e-b702-47d57fe66e54"
   },
   "outputs": [
    {
     "name": "stdout",
     "output_type": "stream",
     "text": [
      "torch.Size([500, 784])\n"
     ]
    }
   ],
   "source": [
    "for xb, yb in train_d1:\n",
    "  xb= xb.view(xb.size(0), -1)\n",
    "  print(xb.shape)\n",
    "  break"
   ]
  },
  {
   "cell_type": "code",
   "execution_count": 102,
   "metadata": {
    "colab": {},
    "colab_type": "code",
    "executionInfo": {
     "elapsed": 1324,
     "status": "ok",
     "timestamp": 1597261364784,
     "user": {
      "displayName": "Sandeep Naagar",
      "photoUrl": "https://lh3.googleusercontent.com/a-/AOh14GjZywEjk2BilS2WJmmk2MC_x5UNZzS_ZjljHL4XFw=s64",
      "userId": "13180867705976122475"
     },
     "user_tz": -330
    },
    "id": "XZ5QoKMgoK4v"
   },
   "outputs": [],
   "source": [
    "input_size = 784\n",
    "num_classes = 10\n",
    "\n",
    "model = MnistModel(input_size, hidden_size_1=128,\n",
    "                   hidden_size_2=32, \n",
    "                   out_size=num_classes)"
   ]
  },
  {
   "cell_type": "code",
   "execution_count": 103,
   "metadata": {
    "colab": {
     "base_uri": "https://localhost:8080/",
     "height": 104
    },
    "colab_type": "code",
    "executionInfo": {
     "elapsed": 2271,
     "status": "ok",
     "timestamp": 1597261368600,
     "user": {
      "displayName": "Sandeep Naagar",
      "photoUrl": "https://lh3.googleusercontent.com/a-/AOh14GjZywEjk2BilS2WJmmk2MC_x5UNZzS_ZjljHL4XFw=s64",
      "userId": "13180867705976122475"
     },
     "user_tz": -330
    },
    "id": "VWQB3vcepQGq",
    "outputId": "6d152fd3-8f96-48b3-f932-eb823570e953"
   },
   "outputs": [
    {
     "name": "stdout",
     "output_type": "stream",
     "text": [
      "MnistModel(\n",
      "  (linear1): Linear(in_features=784, out_features=128, bias=True)\n",
      "  (linear11): Linear(in_features=128, out_features=32, bias=True)\n",
      "  (linear2): Linear(in_features=32, out_features=10, bias=True)\n",
      ")\n"
     ]
    }
   ],
   "source": [
    "print(model)"
   ]
  },
  {
   "cell_type": "code",
   "execution_count": 104,
   "metadata": {
    "colab": {
     "base_uri": "https://localhost:8080/",
     "height": 121
    },
    "colab_type": "code",
    "executionInfo": {
     "elapsed": 1748,
     "status": "ok",
     "timestamp": 1597261368603,
     "user": {
      "displayName": "Sandeep Naagar",
      "photoUrl": "https://lh3.googleusercontent.com/a-/AOh14GjZywEjk2BilS2WJmmk2MC_x5UNZzS_ZjljHL4XFw=s64",
      "userId": "13180867705976122475"
     },
     "user_tz": -330
    },
    "id": "uaRzU19upSib",
    "outputId": "fe293186-055d-4603-8c3f-8e37e5ede636"
   },
   "outputs": [
    {
     "name": "stdout",
     "output_type": "stream",
     "text": [
      "torch.Size([128, 784])\n",
      "torch.Size([128])\n",
      "torch.Size([32, 128])\n",
      "torch.Size([32])\n",
      "torch.Size([10, 32])\n",
      "torch.Size([10])\n"
     ]
    }
   ],
   "source": [
    "for t in model.parameters():\n",
    "    print(t.shape)"
   ]
  },
  {
   "cell_type": "code",
   "execution_count": 105,
   "metadata": {
    "colab": {
     "base_uri": "https://localhost:8080/",
     "height": 104
    },
    "colab_type": "code",
    "executionInfo": {
     "elapsed": 4278,
     "status": "ok",
     "timestamp": 1597261371708,
     "user": {
      "displayName": "Sandeep Naagar",
      "photoUrl": "https://lh3.googleusercontent.com/a-/AOh14GjZywEjk2BilS2WJmmk2MC_x5UNZzS_ZjljHL4XFw=s64",
      "userId": "13180867705976122475"
     },
     "user_tz": -330
    },
    "id": "nM1ARuHvqdeL",
    "outputId": "fb2b8742-6929-4e26-9c96-72162b74fa98"
   },
   "outputs": [
    {
     "name": "stdout",
     "output_type": "stream",
     "text": [
      "<bound method Module.parameters of MnistModel(\n",
      "  (linear1): Linear(in_features=784, out_features=128, bias=True)\n",
      "  (linear11): Linear(in_features=128, out_features=32, bias=True)\n",
      "  (linear2): Linear(in_features=32, out_features=10, bias=True)\n",
      ")>\n"
     ]
    }
   ],
   "source": [
    "print(model.parameters)"
   ]
  },
  {
   "cell_type": "code",
   "execution_count": 106,
   "metadata": {
    "colab": {
     "base_uri": "https://localhost:8080/",
     "height": 139
    },
    "colab_type": "code",
    "executionInfo": {
     "elapsed": 5267,
     "status": "ok",
     "timestamp": 1597261373090,
     "user": {
      "displayName": "Sandeep Naagar",
      "photoUrl": "https://lh3.googleusercontent.com/a-/AOh14GjZywEjk2BilS2WJmmk2MC_x5UNZzS_ZjljHL4XFw=s64",
      "userId": "13180867705976122475"
     },
     "user_tz": -330
    },
    "id": "MV_52FACqjpG",
    "outputId": "e8d1a95e-8669-456d-8219-a7438e56d25a"
   },
   "outputs": [
    {
     "name": "stdout",
     "output_type": "stream",
     "text": [
      "torch.Size([500, 1, 28, 28])\n",
      "Loss: 2.30118727684021\n",
      "output.shapes: torch.Size([500, 10])\n",
      "Sample outputs: tensor([[ 0.0183, -0.1018, -0.0545,  0.1312,  0.1671,  0.1669,  0.1821, -0.0837,\n",
      "          0.0473, -0.0772],\n",
      "        [ 0.0361, -0.0641, -0.1414,  0.1423,  0.1995,  0.2358,  0.1622, -0.0810,\n",
      "         -0.0176, -0.0879]])\n"
     ]
    }
   ],
   "source": [
    "for images, labels in train_d1:\n",
    "    print(images.shape)\n",
    "    output = model(images)\n",
    "    loss = F.cross_entropy(output, labels)\n",
    "    print('Loss:', loss.item())\n",
    "    break\n",
    "\n",
    "\n",
    "print('output.shapes:', output.shape)\n",
    "print('Sample outputs:', output[:2].data)"
   ]
  },
  {
   "cell_type": "markdown",
   "metadata": {
    "colab_type": "text",
    "id": "zCfuY3RUveOj"
   },
   "source": [
    "## Using GPU"
   ]
  },
  {
   "cell_type": "code",
   "execution_count": 107,
   "metadata": {
    "colab": {
     "base_uri": "https://localhost:8080/",
     "height": 34
    },
    "colab_type": "code",
    "executionInfo": {
     "elapsed": 4865,
     "status": "ok",
     "timestamp": 1597261373092,
     "user": {
      "displayName": "Sandeep Naagar",
      "photoUrl": "https://lh3.googleusercontent.com/a-/AOh14GjZywEjk2BilS2WJmmk2MC_x5UNZzS_ZjljHL4XFw=s64",
      "userId": "13180867705976122475"
     },
     "user_tz": -330
    },
    "id": "9_OPwB_urHcy",
    "outputId": "f5797434-641c-429b-8072-ddd1e33f1655"
   },
   "outputs": [
    {
     "data": {
      "text/plain": [
       "False"
      ]
     },
     "execution_count": 107,
     "metadata": {
      "tags": []
     },
     "output_type": "execute_result"
    }
   ],
   "source": [
    "torch.cuda.is_available()\n"
   ]
  },
  {
   "cell_type": "code",
   "execution_count": 108,
   "metadata": {
    "colab": {},
    "colab_type": "code",
    "executionInfo": {
     "elapsed": 4717,
     "status": "ok",
     "timestamp": 1597261373094,
     "user": {
      "displayName": "Sandeep Naagar",
      "photoUrl": "https://lh3.googleusercontent.com/a-/AOh14GjZywEjk2BilS2WJmmk2MC_x5UNZzS_ZjljHL4XFw=s64",
      "userId": "13180867705976122475"
     },
     "user_tz": -330
    },
    "id": "-GnaD7YOvnxD"
   },
   "outputs": [],
   "source": [
    "def get_default_device():\n",
    "    # pic GPU if avaliable , else cpu\n",
    "    if torch.cuda.is_available():\n",
    "        return torch.device('cuda')\n",
    "    else:\n",
    "        return torch.device('cpu') \n",
    "\n"
   ]
  },
  {
   "cell_type": "code",
   "execution_count": 109,
   "metadata": {
    "colab": {
     "base_uri": "https://localhost:8080/",
     "height": 34
    },
    "colab_type": "code",
    "executionInfo": {
     "elapsed": 4546,
     "status": "ok",
     "timestamp": 1597261373095,
     "user": {
      "displayName": "Sandeep Naagar",
      "photoUrl": "https://lh3.googleusercontent.com/a-/AOh14GjZywEjk2BilS2WJmmk2MC_x5UNZzS_ZjljHL4XFw=s64",
      "userId": "13180867705976122475"
     },
     "user_tz": -330
    },
    "id": "yS97pDGUwdoV",
    "outputId": "9aad4c6a-247e-47e0-c205-8153aca3de8b"
   },
   "outputs": [
    {
     "data": {
      "text/plain": [
       "device(type='cpu')"
      ]
     },
     "execution_count": 109,
     "metadata": {
      "tags": []
     },
     "output_type": "execute_result"
    }
   ],
   "source": [
    "device  = get_default_device()\n",
    "device"
   ]
  },
  {
   "cell_type": "code",
   "execution_count": 110,
   "metadata": {
    "colab": {},
    "colab_type": "code",
    "executionInfo": {
     "elapsed": 4327,
     "status": "ok",
     "timestamp": 1597261373096,
     "user": {
      "displayName": "Sandeep Naagar",
      "photoUrl": "https://lh3.googleusercontent.com/a-/AOh14GjZywEjk2BilS2WJmmk2MC_x5UNZzS_ZjljHL4XFw=s64",
      "userId": "13180867705976122475"
     },
     "user_tz": -330
    },
    "id": "3fnI0l3hwhlk"
   },
   "outputs": [],
   "source": [
    "def to_device(data, device):\n",
    "    # move tensor to chossen device \n",
    "    if isinstance(data, (list,tuple)):\n",
    "        return [to_device(x, device) for x in data] \n",
    "    return data.to(device, non_blocking=True)"
   ]
  },
  {
   "cell_type": "code",
   "execution_count": 111,
   "metadata": {
    "colab": {
     "base_uri": "https://localhost:8080/",
     "height": 52
    },
    "colab_type": "code",
    "executionInfo": {
     "elapsed": 6286,
     "status": "ok",
     "timestamp": 1597261375183,
     "user": {
      "displayName": "Sandeep Naagar",
      "photoUrl": "https://lh3.googleusercontent.com/a-/AOh14GjZywEjk2BilS2WJmmk2MC_x5UNZzS_ZjljHL4XFw=s64",
      "userId": "13180867705976122475"
     },
     "user_tz": -330
    },
    "id": "iT3jsMswj3iE",
    "outputId": "66167a51-ba86-4925-b665-97b7559d3b84"
   },
   "outputs": [
    {
     "name": "stdout",
     "output_type": "stream",
     "text": [
      "torch.Size([500, 1, 28, 28])\n",
      "cpu\n"
     ]
    }
   ],
   "source": [
    "for images, labels in train_d1:\n",
    "    print(images.shape)\n",
    "    images = to_device(images, device)\n",
    "    print(images.device)\n",
    "    break"
   ]
  },
  {
   "cell_type": "code",
   "execution_count": 112,
   "metadata": {
    "colab": {},
    "colab_type": "code",
    "executionInfo": {
     "elapsed": 6124,
     "status": "ok",
     "timestamp": 1597261375196,
     "user": {
      "displayName": "Sandeep Naagar",
      "photoUrl": "https://lh3.googleusercontent.com/a-/AOh14GjZywEjk2BilS2WJmmk2MC_x5UNZzS_ZjljHL4XFw=s64",
      "userId": "13180867705976122475"
     },
     "user_tz": -330
    },
    "id": "bqIEv875kYSQ"
   },
   "outputs": [],
   "source": [
    "class DeviceDataLoader1():\n",
    "  # wrap a data loader to move data to a device\n",
    "  def __init__(self, d1, device):\n",
    "    self.d1 = d1\n",
    "    self.device = device\n",
    "\n",
    "  def __iter__(self):\n",
    "    # yield a batch of data after moving to device \n",
    "    for b in self.d1:\n",
    "      yield to_device(b, self.device)\n",
    "\n",
    "  def __len__(self):\n",
    "    # no of batches \n",
    "    return len(self.d1)"
   ]
  },
  {
   "cell_type": "code",
   "execution_count": 113,
   "metadata": {
    "colab": {},
    "colab_type": "code",
    "executionInfo": {
     "elapsed": 5989,
     "status": "ok",
     "timestamp": 1597261375198,
     "user": {
      "displayName": "Sandeep Naagar",
      "photoUrl": "https://lh3.googleusercontent.com/a-/AOh14GjZywEjk2BilS2WJmmk2MC_x5UNZzS_ZjljHL4XFw=s64",
      "userId": "13180867705976122475"
     },
     "user_tz": -330
    },
    "id": "Drmldceb5ngb"
   },
   "outputs": [],
   "source": [
    "train_d1 = DeviceDataLoader1(train_d1, device)\n",
    "\n",
    "valid_d1 = DeviceDataLoader1(valid_d1, device)"
   ]
  },
  {
   "cell_type": "code",
   "execution_count": 114,
   "metadata": {
    "colab": {
     "base_uri": "https://localhost:8080/",
     "height": 399
    },
    "colab_type": "code",
    "executionInfo": {
     "elapsed": 5600,
     "status": "ok",
     "timestamp": 1597261375200,
     "user": {
      "displayName": "Sandeep Naagar",
      "photoUrl": "https://lh3.googleusercontent.com/a-/AOh14GjZywEjk2BilS2WJmmk2MC_x5UNZzS_ZjljHL4XFw=s64",
      "userId": "13180867705976122475"
     },
     "user_tz": -330
    },
    "id": "qAI1HnXu56mH",
    "outputId": "e6c6bc87-299a-4698-a0f4-2ab417d84991"
   },
   "outputs": [
    {
     "name": "stdout",
     "output_type": "stream",
     "text": [
      "xb.device cpu\n",
      "yb tensor([3, 6, 9, 6, 6, 1, 1, 6, 4, 6, 7, 4, 3, 6, 4, 0, 0, 5, 4, 4, 1, 1, 1, 7,\n",
      "        5, 9, 2, 6, 7, 6, 1, 9, 9, 9, 1, 0, 8, 6, 9, 2, 4, 3, 5, 0, 9, 7, 8, 7,\n",
      "        9, 4, 2, 4, 9, 0, 9, 1, 1, 5, 9, 2, 1, 9, 2, 7, 9, 6, 3, 2, 0, 8, 5, 4,\n",
      "        1, 7, 5, 4, 4, 6, 9, 0, 2, 3, 7, 3, 0, 3, 1, 9, 6, 2, 1, 5, 4, 4, 4, 5,\n",
      "        8, 3, 8, 0, 5, 2, 0, 3, 5, 0, 2, 4, 5, 2, 2, 9, 0, 4, 2, 9, 1, 1, 6, 0,\n",
      "        0, 6, 6, 9, 5, 2, 3, 9, 2, 3, 0, 2, 5, 6, 3, 5, 7, 8, 6, 0, 6, 4, 0, 0,\n",
      "        6, 5, 4, 2, 6, 1, 3, 8, 9, 1, 0, 7, 8, 9, 9, 1, 7, 7, 9, 8, 8, 6, 6, 6,\n",
      "        4, 0, 6, 6, 7, 1, 0, 4, 9, 8, 0, 3, 0, 2, 3, 0, 1, 7, 4, 1, 4, 2, 8, 0,\n",
      "        6, 0, 5, 3, 1, 8, 4, 5, 7, 2, 8, 8, 5, 0, 3, 3, 5, 6, 4, 7, 4, 7, 0, 9,\n",
      "        9, 5, 6, 2, 1, 0, 9, 2, 3, 7, 0, 7, 1, 8, 1, 2, 6, 6, 2, 5, 7, 8, 0, 5,\n",
      "        6, 9, 1, 3, 1, 8, 0, 9, 3, 7, 3, 2, 1, 5, 7, 9, 2, 5, 1, 0, 9, 0, 7, 7,\n",
      "        2, 8, 0, 2, 4, 6, 7, 6, 4, 6, 0, 5, 8, 3, 3, 0, 0, 5, 0, 7, 9, 0, 4, 8,\n",
      "        6, 4, 9, 3, 1, 9, 9, 4, 3, 9, 9, 0, 2, 1, 6, 9, 7, 1, 9, 7, 8, 5, 2, 7,\n",
      "        1, 2, 8, 3, 4, 2, 2, 5, 4, 6, 5, 7, 4, 1, 8, 2, 8, 4, 8, 9, 0, 1, 0, 3,\n",
      "        7, 3, 9, 4, 2, 2, 9, 0, 4, 0, 1, 6, 4, 5, 8, 7, 4, 5, 2, 0, 8, 7, 6, 0,\n",
      "        5, 4, 6, 3, 0, 2, 0, 5, 4, 5, 3, 0, 9, 4, 0, 0, 3, 7, 8, 2, 3, 9, 5, 7,\n",
      "        0, 6, 5, 3, 7, 8, 5, 9, 1, 8, 2, 4, 0, 4, 3, 5, 3, 0, 6, 0, 3, 4, 3, 7,\n",
      "        2, 0, 5, 2, 8, 1, 9, 1, 1, 8, 9, 1, 8, 8, 0, 0, 9, 1, 1, 6, 7, 3, 2, 1,\n",
      "        3, 3, 7, 9, 9, 0, 8, 0, 6, 8, 7, 5, 5, 0, 4, 4, 0, 0, 5, 0, 6, 9, 7, 3,\n",
      "        9, 8, 2, 4, 9, 4, 2, 3, 9, 5, 7, 5, 6, 5, 2, 0, 4, 7, 1, 9, 1, 7, 9, 3,\n",
      "        6, 7, 5, 4, 8, 5, 6, 7, 3, 0, 0, 7, 1, 3, 4, 3, 8, 7, 6, 9])\n"
     ]
    }
   ],
   "source": [
    "for xb, yb in valid_d1:\n",
    "  print('xb.device', xb.device)\n",
    "  print('yb', yb)\n",
    "  break"
   ]
  },
  {
   "cell_type": "markdown",
   "metadata": {
    "colab_type": "text",
    "id": "f7-j_83N8Xqs"
   },
   "source": [
    "## Traning "
   ]
  },
  {
   "cell_type": "code",
   "execution_count": 115,
   "metadata": {
    "colab": {},
    "colab_type": "code",
    "executionInfo": {
     "elapsed": 5242,
     "status": "ok",
     "timestamp": 1597261375201,
     "user": {
      "displayName": "Sandeep Naagar",
      "photoUrl": "https://lh3.googleusercontent.com/a-/AOh14GjZywEjk2BilS2WJmmk2MC_x5UNZzS_ZjljHL4XFw=s64",
      "userId": "13180867705976122475"
     },
     "user_tz": -330
    },
    "id": "V6-sJVbl8L1m"
   },
   "outputs": [],
   "source": [
    "def loss_batch(model, loss_fn, xb, yb, opt=None, metric=None):\n",
    "    # genertes predctions\n",
    "    preds = model(xb)\n",
    "\n",
    "    # calculate loss\n",
    "    loss = loss_fn(preds, yb)\n",
    "\n",
    "    if opt is not None:\n",
    "        # compute gradients\n",
    "        loss.backward()\n",
    "\n",
    "        # update parameters\n",
    "        opt.step()\n",
    "\n",
    "        # reset gradients\n",
    "        opt.zero_grad()\n",
    "\n",
    "    metric_result = None\n",
    "\n",
    "    if metric is not None:\n",
    "        # compute the metric\n",
    "        metric_result = metric(preds, yb)\n",
    "    \n",
    "    return loss.item(), len(xb), metric_result\n",
    "\n"
   ]
  },
  {
   "cell_type": "code",
   "execution_count": 116,
   "metadata": {
    "colab": {},
    "colab_type": "code",
    "executionInfo": {
     "elapsed": 5119,
     "status": "ok",
     "timestamp": 1597261375203,
     "user": {
      "displayName": "Sandeep Naagar",
      "photoUrl": "https://lh3.googleusercontent.com/a-/AOh14GjZywEjk2BilS2WJmmk2MC_x5UNZzS_ZjljHL4XFw=s64",
      "userId": "13180867705976122475"
     },
     "user_tz": -330
    },
    "id": "zYRuakOJCxyy"
   },
   "outputs": [],
   "source": [
    "def evaluate(model, loss_fn, valid_d1, metric=None):\n",
    "  with torch.no_grad():\n",
    "    # pass each batch through the model \n",
    "    results = [loss_batch(model, loss_fn, xb, yb, metric=metric)\n",
    "                for xb, yb in valid_d1]\n",
    "\n",
    "    # seprate losses , counts, metrics\n",
    "    losses, nums, metrics = zip(*results)\n",
    "\n",
    "    # total size of the dataset\n",
    "    total = np.sum(nums)\n",
    "\n",
    "    # Avg. loss across batches\n",
    "    avg_loss = np.sum(np.multiply(losses, nums)) / total\n",
    "    avg_metric = None\n",
    "    if metric is not None:\n",
    "      # Avg. of metric accross batches\n",
    "      avg_metric = np.sum(np.multiply(metrics, nums)) / total\n",
    "\n",
    "  return avg_loss, total, avg_metric"
   ]
  },
  {
   "cell_type": "code",
   "execution_count": 117,
   "metadata": {
    "colab": {},
    "colab_type": "code",
    "executionInfo": {
     "elapsed": 4919,
     "status": "ok",
     "timestamp": 1597261375205,
     "user": {
      "displayName": "Sandeep Naagar",
      "photoUrl": "https://lh3.googleusercontent.com/a-/AOh14GjZywEjk2BilS2WJmmk2MC_x5UNZzS_ZjljHL4XFw=s64",
      "userId": "13180867705976122475"
     },
     "user_tz": -330
    },
    "id": "AgtDyx6l9ouS"
   },
   "outputs": [],
   "source": [
    "def fit(epochs, lr, model, loss_fn, train_d1, valid_d1, metric=None, opt_fn=None ):\n",
    "    losses, metrics = [], []\n",
    "    if opt_fn is None: opt_fn = torch.optim.SGD\n",
    "    opt = torch.optim.SGD(model.parameters(), lr)\n",
    "\n",
    "    for epoch in range(epochs):\n",
    "        # rtraning \n",
    "        for xb, yb in train_d1:\n",
    "            loss, _, _ = loss_batch(model, loss_fn, xb, yb, opt)\n",
    "\n",
    "        # Evaluation \n",
    "        results  = evaluate(model, loss_fn, valid_d1, metric)\n",
    "        val_loss, total, val_metric = results\n",
    "\n",
    "        # record the loss and metric\n",
    "        losses.append(val_loss)\n",
    "        metrics.append(val_metric)\n",
    "\n",
    "        # print progress \n",
    "        if metric is None:\n",
    "            print('epoch [{}/{}], Loss: {:.4f}'.format(epoch+1, epochs, val_loss))\n",
    "        else:\n",
    "          print('epoch [{}/{}], Loss: {:.4f}, {}: {:.4f}'.format(epoch+1, epochs, val_loss, metric.__name__, val_metric))\n",
    "\n",
    "    return losses, metrics\n"
   ]
  },
  {
   "cell_type": "code",
   "execution_count": 118,
   "metadata": {
    "colab": {},
    "colab_type": "code",
    "executionInfo": {
     "elapsed": 4670,
     "status": "ok",
     "timestamp": 1597261375221,
     "user": {
      "displayName": "Sandeep Naagar",
      "photoUrl": "https://lh3.googleusercontent.com/a-/AOh14GjZywEjk2BilS2WJmmk2MC_x5UNZzS_ZjljHL4XFw=s64",
      "userId": "13180867705976122475"
     },
     "user_tz": -330
    },
    "id": "Nc2LM4UqAp4T"
   },
   "outputs": [],
   "source": [
    "def accuracy(outputs, labels):\n",
    "    _, preds = torch.max(outputs, dim=1)\n",
    "    return torch.sum(preds == labels).item() / len(preds)"
   ]
  },
  {
   "cell_type": "code",
   "execution_count": 119,
   "metadata": {
    "colab": {
     "base_uri": "https://localhost:8080/",
     "height": 104
    },
    "colab_type": "code",
    "executionInfo": {
     "elapsed": 4287,
     "status": "ok",
     "timestamp": 1597261375223,
     "user": {
      "displayName": "Sandeep Naagar",
      "photoUrl": "https://lh3.googleusercontent.com/a-/AOh14GjZywEjk2BilS2WJmmk2MC_x5UNZzS_ZjljHL4XFw=s64",
      "userId": "13180867705976122475"
     },
     "user_tz": -330
    },
    "id": "44m-ggMtBacm",
    "outputId": "0446727b-2e23-4bbc-ae9f-d21b92e8b1d7"
   },
   "outputs": [
    {
     "data": {
      "text/plain": [
       "MnistModel(\n",
       "  (linear1): Linear(in_features=784, out_features=64, bias=True)\n",
       "  (linear11): Linear(in_features=64, out_features=32, bias=True)\n",
       "  (linear2): Linear(in_features=32, out_features=10, bias=True)\n",
       ")"
      ]
     },
     "execution_count": 119,
     "metadata": {
      "tags": []
     },
     "output_type": "execute_result"
    }
   ],
   "source": [
    "#  model (on GPU)\n",
    "model = MnistModel(input_size, hidden_size_1=64, hidden_size_2=32, out_size=num_classes)\n",
    "to_device(model, device)"
   ]
  },
  {
   "cell_type": "code",
   "execution_count": 120,
   "metadata": {
    "colab": {
     "base_uri": "https://localhost:8080/",
     "height": 34
    },
    "colab_type": "code",
    "executionInfo": {
     "elapsed": 3961,
     "status": "ok",
     "timestamp": 1597261375225,
     "user": {
      "displayName": "Sandeep Naagar",
      "photoUrl": "https://lh3.googleusercontent.com/a-/AOh14GjZywEjk2BilS2WJmmk2MC_x5UNZzS_ZjljHL4XFw=s64",
      "userId": "13180867705976122475"
     },
     "user_tz": -330
    },
    "id": "7McWBintBva-",
    "outputId": "dfa3b2fc-7454-40a1-92d7-e774d9429d0d"
   },
   "outputs": [
    {
     "name": "stdout",
     "output_type": "stream",
     "text": [
      "Loss: 2.2983, Accuracy: 0.0845\n"
     ]
    }
   ],
   "source": [
    "\n",
    "val_loss, total, val_acc = evaluate(model, F.cross_entropy, \n",
    "                                    valid_d1, metric=accuracy)\n",
    "print('Loss: {:.4f}, Accuracy: {:.4f}'.format(val_loss, val_acc))"
   ]
  },
  {
   "cell_type": "code",
   "execution_count": 122,
   "metadata": {
    "colab": {
     "base_uri": "https://localhost:8080/",
     "height": 364
    },
    "colab_type": "code",
    "executionInfo": {
     "elapsed": 93418,
     "status": "ok",
     "timestamp": 1597261570866,
     "user": {
      "displayName": "Sandeep Naagar",
      "photoUrl": "https://lh3.googleusercontent.com/a-/AOh14GjZywEjk2BilS2WJmmk2MC_x5UNZzS_ZjljHL4XFw=s64",
      "userId": "13180867705976122475"
     },
     "user_tz": -330
    },
    "id": "Q0xjkIaSCYRn",
    "outputId": "00a5fb10-c36a-4dec-dfe6-050cefd1a312"
   },
   "outputs": [
    {
     "name": "stdout",
     "output_type": "stream",
     "text": [
      "epoch [1/20], Loss: 1.9025, accuracy: 0.5628\n",
      "epoch [2/20], Loss: 1.6772, accuracy: 0.6408\n",
      "epoch [3/20], Loss: 1.3985, accuracy: 0.7087\n",
      "epoch [4/20], Loss: 1.1386, accuracy: 0.7617\n",
      "epoch [5/20], Loss: 0.9469, accuracy: 0.7853\n",
      "epoch [6/20], Loss: 0.8152, accuracy: 0.8062\n",
      "epoch [7/20], Loss: 0.7238, accuracy: 0.8196\n",
      "epoch [8/20], Loss: 0.6572, accuracy: 0.8343\n",
      "epoch [9/20], Loss: 0.6075, accuracy: 0.8433\n",
      "epoch [10/20], Loss: 0.5689, accuracy: 0.8509\n",
      "epoch [11/20], Loss: 0.5378, accuracy: 0.8582\n",
      "epoch [12/20], Loss: 0.5130, accuracy: 0.8623\n",
      "epoch [13/20], Loss: 0.4922, accuracy: 0.8669\n",
      "epoch [14/20], Loss: 0.4745, accuracy: 0.8714\n",
      "epoch [15/20], Loss: 0.4600, accuracy: 0.8742\n",
      "epoch [16/20], Loss: 0.4471, accuracy: 0.8761\n",
      "epoch [17/20], Loss: 0.4360, accuracy: 0.8783\n",
      "epoch [18/20], Loss: 0.4267, accuracy: 0.8795\n",
      "epoch [19/20], Loss: 0.4183, accuracy: 0.8819\n",
      "epoch [20/20], Loss: 0.4102, accuracy: 0.8838\n"
     ]
    }
   ],
   "source": [
    "losses, metric1 = fit(20, 0.01, model, F.cross_entropy, train_d1, valid_d1, accuracy)"
   ]
  },
  {
   "cell_type": "code",
   "execution_count": null,
   "metadata": {
    "colab": {},
    "colab_type": "code",
    "executionInfo": {
     "elapsed": 2362,
     "status": "ok",
     "timestamp": 1597315900783,
     "user": {
      "displayName": "Sandeep Naagar",
      "photoUrl": "https://lh3.googleusercontent.com/a-/AOh14GjZywEjk2BilS2WJmmk2MC_x5UNZzS_ZjljHL4XFw=s64",
      "userId": "13180867705976122475"
     },
     "user_tz": -330
    },
    "id": "KEOdad7qFcHh"
   },
   "outputs": [],
   "source": []
  },
  {
   "cell_type": "code",
   "execution_count": null,
   "metadata": {
    "colab": {},
    "colab_type": "code",
    "id": "D0wbJ9Fcci1W"
   },
   "outputs": [],
   "source": []
  },
  {
   "cell_type": "code",
   "execution_count": null,
   "metadata": {
    "colab": {},
    "colab_type": "code",
    "id": "1QnGgQjycix8"
   },
   "outputs": [],
   "source": []
  },
  {
   "cell_type": "code",
   "execution_count": null,
   "metadata": {
    "colab": {},
    "colab_type": "code",
    "id": "QLB_IWQLciug"
   },
   "outputs": [],
   "source": []
  },
  {
   "cell_type": "markdown",
   "metadata": {
    "colab_type": "text",
    "id": "34mIhShlclZL"
   },
   "source": [
    "# Image classification using CNN(CIFAR10)"
   ]
  },
  {
   "cell_type": "code",
   "execution_count": 4,
   "metadata": {
    "colab": {},
    "colab_type": "code",
    "executionInfo": {
     "elapsed": 767,
     "status": "ok",
     "timestamp": 1597316257723,
     "user": {
      "displayName": "Sandeep Naagar",
      "photoUrl": "https://lh3.googleusercontent.com/a-/AOh14GjZywEjk2BilS2WJmmk2MC_x5UNZzS_ZjljHL4XFw=s64",
      "userId": "13180867705976122475"
     },
     "user_tz": -330
    },
    "id": "bippllQ4ciOJ"
   },
   "outputs": [],
   "source": [
    "import os\n",
    "import torch\n",
    "import torchvision\n",
    "import tarfile\n",
    "from torchvision.datasets.utils import download_url"
   ]
  },
  {
   "cell_type": "code",
   "execution_count": 5,
   "metadata": {
    "colab": {
     "base_uri": "https://localhost:8080/",
     "height": 66,
     "referenced_widgets": [
      "22c6470144764f7ba4c0e7e3af96e0d8",
      "f9648f47a11742d9be8ff3cba0f19f54",
      "0200f8abc3154946b574d147b0b6ac58",
      "85e6788d09d14462883839ca3d31ee3a",
      "597249ded0e8451a94536fdaa019b8f4",
      "5488caaae79b4a67b58b14fb3fbffccb",
      "979a1ae23567459f99701afb05b68c3e",
      "abae68d57b0c4c5f9a94e8a089e72596"
     ]
    },
    "colab_type": "code",
    "executionInfo": {
     "elapsed": 3085,
     "status": "ok",
     "timestamp": 1597316294852,
     "user": {
      "displayName": "Sandeep Naagar",
      "photoUrl": "https://lh3.googleusercontent.com/a-/AOh14GjZywEjk2BilS2WJmmk2MC_x5UNZzS_ZjljHL4XFw=s64",
      "userId": "13180867705976122475"
     },
     "user_tz": -330
    },
    "id": "N2yCFDvrdR_g",
    "outputId": "2326f26c-a5fd-46c7-e533-306622332967"
   },
   "outputs": [
    {
     "name": "stdout",
     "output_type": "stream",
     "text": [
      "Downloading http://files.fast.ai/data/cifar10.tgz to ./cifar10.tgz\n"
     ]
    },
    {
     "data": {
      "application/vnd.jupyter.widget-view+json": {
       "model_id": "22c6470144764f7ba4c0e7e3af96e0d8",
       "version_major": 2,
       "version_minor": 0
      },
      "text/plain": [
       "HBox(children=(FloatProgress(value=1.0, bar_style='info', max=1.0), HTML(value='')))"
      ]
     },
     "metadata": {
      "tags": []
     },
     "output_type": "display_data"
    }
   ],
   "source": [
    "##  Download dataset \n",
    "dataset_url = \"http://files.fast.ai/data/cifar10.tgz\"\n",
    "download_url(dataset_url, '.')"
   ]
  },
  {
   "cell_type": "code",
   "execution_count": 8,
   "metadata": {
    "colab": {},
    "colab_type": "code",
    "executionInfo": {
     "elapsed": 16139,
     "status": "ok",
     "timestamp": 1597317061037,
     "user": {
      "displayName": "Sandeep Naagar",
      "photoUrl": "https://lh3.googleusercontent.com/a-/AOh14GjZywEjk2BilS2WJmmk2MC_x5UNZzS_ZjljHL4XFw=s64",
      "userId": "13180867705976122475"
     },
     "user_tz": -330
    },
    "id": "5jzWnTjrd5Hd"
   },
   "outputs": [],
   "source": [
    "\n",
    "# extract from archive\n",
    "with tarfile.open('./cifar10.tgz', 'r:gz') as tar:\n",
    "  tar.extractall(path='./data')"
   ]
  },
  {
   "cell_type": "code",
   "execution_count": 10,
   "metadata": {
    "colab": {
     "base_uri": "https://localhost:8080/",
     "height": 52
    },
    "colab_type": "code",
    "executionInfo": {
     "elapsed": 930,
     "status": "ok",
     "timestamp": 1597317181662,
     "user": {
      "displayName": "Sandeep Naagar",
      "photoUrl": "https://lh3.googleusercontent.com/a-/AOh14GjZywEjk2BilS2WJmmk2MC_x5UNZzS_ZjljHL4XFw=s64",
      "userId": "13180867705976122475"
     },
     "user_tz": -330
    },
    "id": "Q2fx-h1tgz6y",
    "outputId": "43ca66da-605f-4dbb-8fc3-f9ecacfdbfb0"
   },
   "outputs": [
    {
     "name": "stdout",
     "output_type": "stream",
     "text": [
      "['test', 'train', 'labels.txt']\n",
      "['bird', 'ship', 'automobile', 'deer', 'airplane', 'truck', 'cat', 'dog', 'horse', 'frog']\n"
     ]
    }
   ],
   "source": [
    "data_dir = './data/cifar10'\n",
    "print(os.listdir(data_dir))\n",
    "classes = os.listdir(data_dir + '/train')\n",
    "print(classes)"
   ]
  },
  {
   "cell_type": "code",
   "execution_count": 14,
   "metadata": {
    "colab": {
     "base_uri": "https://localhost:8080/",
     "height": 72
    },
    "colab_type": "code",
    "executionInfo": {
     "elapsed": 801,
     "status": "ok",
     "timestamp": 1597317424895,
     "user": {
      "displayName": "Sandeep Naagar",
      "photoUrl": "https://lh3.googleusercontent.com/a-/AOh14GjZywEjk2BilS2WJmmk2MC_x5UNZzS_ZjljHL4XFw=s64",
      "userId": "13180867705976122475"
     },
     "user_tz": -330
    },
    "id": "TZCG4yArhahV",
    "outputId": "4573a4a2-66cc-409d-f8ec-1bc3fd805fc0"
   },
   "outputs": [
    {
     "name": "stdout",
     "output_type": "stream",
     "text": [
      "No of test exaples for ship: 5000\n",
      "['37761_airplane.png', '29980_airplane.png', '35414_airplane.png', '25810_airplane.png', '37646_airplane.png', '1755_airplane.png', '6240_airplane.png', '31757_airplane.png', '21881_airplane.png', '43479_airplane.png', '24791_airplane.png', '45845_airplane.png', '46990_airplane.png', '23297_airplane.png', '16219_airplane.png', '15000_airplane.png', '23796_airplane.png', '28828_airplane.png', '29844_airplane.png', '49498_airplane.png', '22249_airplane.png', '19804_airplane.png', '32683_airplane.png', '46523_airplane.png', '5529_airplane.png', '48663_airplane.png', '41152_airplane.png', '11305_airplane.png', '26744_airplane.png', '16912_airplane.png', '41745_airplane.png', '11100_airplane.png', '4387_airplane.png', '11689_airplane.png', '42573_airplane.png', '21360_airplane.png', '29295_airplane.png', '36363_airplane.png', '26416_airplane.png', '4906_airplane.png', '42984_airplane.png', '5828_airplane.png', '11775_airplane.png', '37165_airplane.png', '27007_airplane.png', '45233_airplane.png', '31591_airplane.png', '8549_airplane.png', '10674_airplane.png', '5322_airplane.png']\n"
     ]
    }
   ],
   "source": [
    "airplane_files = os.listdir(data_dir + \"/train/airplane\" )\n",
    "print('No of test exaples for ship:', len(airplane_files))\n",
    "print(airplane_files[:50])"
   ]
  },
  {
   "cell_type": "code",
   "execution_count": 15,
   "metadata": {
    "colab": {},
    "colab_type": "code",
    "executionInfo": {
     "elapsed": 985,
     "status": "ok",
     "timestamp": 1597317657504,
     "user": {
      "displayName": "Sandeep Naagar",
      "photoUrl": "https://lh3.googleusercontent.com/a-/AOh14GjZywEjk2BilS2WJmmk2MC_x5UNZzS_ZjljHL4XFw=s64",
      "userId": "13180867705976122475"
     },
     "user_tz": -330
    },
    "id": "F5mkMoe0iFrt"
   },
   "outputs": [],
   "source": [
    "from torchvision.datasets import ImageFolder\n",
    "from torchvision.transforms import ToTensor"
   ]
  },
  {
   "cell_type": "code",
   "execution_count": 21,
   "metadata": {
    "colab": {},
    "colab_type": "code",
    "executionInfo": {
     "elapsed": 1025,
     "status": "ok",
     "timestamp": 1597318112882,
     "user": {
      "displayName": "Sandeep Naagar",
      "photoUrl": "https://lh3.googleusercontent.com/a-/AOh14GjZywEjk2BilS2WJmmk2MC_x5UNZzS_ZjljHL4XFw=s64",
      "userId": "13180867705976122475"
     },
     "user_tz": -330
    },
    "id": "veaiZuOjjS7o"
   },
   "outputs": [],
   "source": [
    "dataset = ImageFolder(data_dir+'/train', transform=ToTensor())\n"
   ]
  },
  {
   "cell_type": "code",
   "execution_count": 26,
   "metadata": {
    "colab": {
     "base_uri": "https://localhost:8080/",
     "height": 434
    },
    "colab_type": "code",
    "executionInfo": {
     "elapsed": 903,
     "status": "ok",
     "timestamp": 1597318208599,
     "user": {
      "displayName": "Sandeep Naagar",
      "photoUrl": "https://lh3.googleusercontent.com/a-/AOh14GjZywEjk2BilS2WJmmk2MC_x5UNZzS_ZjljHL4XFw=s64",
      "userId": "13180867705976122475"
     },
     "user_tz": -330
    },
    "id": "6iHePx2GkMSp",
    "outputId": "eef39d73-0f21-406e-b8f6-b9093ab54f84"
   },
   "outputs": [
    {
     "name": "stdout",
     "output_type": "stream",
     "text": [
      "torch.Size([3, 32, 32]) 1\n"
     ]
    },
    {
     "data": {
      "text/plain": [
       "tensor([[[0.5373, 0.5843, 0.5765,  ..., 0.9804, 0.9843, 0.9412],\n",
       "         [0.5176, 0.3451, 0.5020,  ..., 0.9804, 0.9843, 0.9059],\n",
       "         [0.4824, 0.1765, 0.4157,  ..., 0.9843, 0.9882, 0.9216],\n",
       "         ...,\n",
       "         [0.1490, 0.1765, 0.1765,  ..., 0.0706, 0.0706, 0.0902],\n",
       "         [0.0902, 0.0902, 0.0588,  ..., 0.1098, 0.1843, 0.2196],\n",
       "         [0.0431, 0.0275, 0.0039,  ..., 0.3098, 0.3176, 0.2471]],\n",
       "\n",
       "        [[0.5804, 0.6314, 0.6196,  ..., 0.9882, 0.9843, 0.9333],\n",
       "         [0.5686, 0.3804, 0.5294,  ..., 0.9843, 0.9804, 0.8980],\n",
       "         [0.5412, 0.2118, 0.4314,  ..., 0.9843, 0.9843, 0.9098],\n",
       "         ...,\n",
       "         [0.1922, 0.2078, 0.1961,  ..., 0.1176, 0.1176, 0.1373],\n",
       "         [0.1333, 0.1216, 0.0745,  ..., 0.1569, 0.2314, 0.2667],\n",
       "         [0.0824, 0.0549, 0.0196,  ..., 0.3529, 0.3647, 0.2941]],\n",
       "\n",
       "        [[0.6000, 0.6510, 0.6431,  ..., 0.9765, 0.9765, 0.8980],\n",
       "         [0.5922, 0.4078, 0.5608,  ..., 0.9843, 0.9725, 0.8510],\n",
       "         [0.5647, 0.2431, 0.4706,  ..., 0.9843, 0.9686, 0.8510],\n",
       "         ...,\n",
       "         [0.2157, 0.2392, 0.2275,  ..., 0.1686, 0.1686, 0.1882],\n",
       "         [0.1569, 0.1529, 0.1098,  ..., 0.2118, 0.2863, 0.3216],\n",
       "         [0.1059, 0.0863, 0.0510,  ..., 0.4078, 0.4196, 0.3490]]])"
      ]
     },
     "execution_count": 26,
     "metadata": {
      "tags": []
     },
     "output_type": "execute_result"
    }
   ],
   "source": [
    "img, labels = dataset[5999]\n",
    "print(img.shape, labels)\n",
    "img"
   ]
  },
  {
   "cell_type": "code",
   "execution_count": 23,
   "metadata": {
    "colab": {
     "base_uri": "https://localhost:8080/",
     "height": 34
    },
    "colab_type": "code",
    "executionInfo": {
     "elapsed": 1134,
     "status": "ok",
     "timestamp": 1597318140833,
     "user": {
      "displayName": "Sandeep Naagar",
      "photoUrl": "https://lh3.googleusercontent.com/a-/AOh14GjZywEjk2BilS2WJmmk2MC_x5UNZzS_ZjljHL4XFw=s64",
      "userId": "13180867705976122475"
     },
     "user_tz": -330
    },
    "id": "PGzqa9zIkV0M",
    "outputId": "a4eb8c7a-10d8-4e38-a649-8015d47192f7"
   },
   "outputs": [
    {
     "name": "stdout",
     "output_type": "stream",
     "text": [
      "['airplane', 'automobile', 'bird', 'cat', 'deer', 'dog', 'frog', 'horse', 'ship', 'truck']\n"
     ]
    }
   ],
   "source": [
    "print(dataset.classes)"
   ]
  },
  {
   "cell_type": "code",
   "execution_count": 27,
   "metadata": {
    "colab": {},
    "colab_type": "code",
    "executionInfo": {
     "elapsed": 1149,
     "status": "ok",
     "timestamp": 1597318373585,
     "user": {
      "displayName": "Sandeep Naagar",
      "photoUrl": "https://lh3.googleusercontent.com/a-/AOh14GjZywEjk2BilS2WJmmk2MC_x5UNZzS_ZjljHL4XFw=s64",
      "userId": "13180867705976122475"
     },
     "user_tz": -330
    },
    "id": "WytJR4QMlI5K"
   },
   "outputs": [],
   "source": [
    "import matplotlib.pyplot as plt\n",
    "\n",
    "def show_example(img, labels):\n",
    "    print('labels:', dataset.classes[labels], '('+str(labels)+')' )\n",
    "    plt.imshow(img.permute(1, 2, 0))  #  permuting the image index 0 1 2 to 1 2 0"
   ]
  },
  {
   "cell_type": "code",
   "execution_count": 30,
   "metadata": {
    "colab": {
     "base_uri": "https://localhost:8080/",
     "height": 283
    },
    "colab_type": "code",
    "executionInfo": {
     "elapsed": 1161,
     "status": "ok",
     "timestamp": 1597318473429,
     "user": {
      "displayName": "Sandeep Naagar",
      "photoUrl": "https://lh3.googleusercontent.com/a-/AOh14GjZywEjk2BilS2WJmmk2MC_x5UNZzS_ZjljHL4XFw=s64",
      "userId": "13180867705976122475"
     },
     "user_tz": -330
    },
    "id": "0ZcSTaYvmBt5",
    "outputId": "5de8f072-2a95-424a-cd0e-aba2dcce630c"
   },
   "outputs": [
    {
     "name": "stdout",
     "output_type": "stream",
     "text": [
      "labels: airplane (0)\n"
     ]
    },
    {
     "data": {
      "image/png": "[encoded data removed]",
      "text/plain": [
       "<Figure size 432x288 with 1 Axes>"
      ]
     },
     "metadata": {
      "needs_background": "light",
      "tags": []
     },
     "output_type": "display_data"
    }
   ],
   "source": [
    "show_example(*dataset[100])"
   ]
  },
  {
   "cell_type": "markdown",
   "metadata": {
    "colab_type": "text",
    "id": "sX3L3KWJmmZd"
   },
   "source": [
    "## traning and Validation (split)"
   ]
  },
  {
   "cell_type": "code",
   "execution_count": 32,
   "metadata": {
    "colab": {},
    "colab_type": "code",
    "executionInfo": {
     "elapsed": 1036,
     "status": "ok",
     "timestamp": 1597318842064,
     "user": {
      "displayName": "Sandeep Naagar",
      "photoUrl": "https://lh3.googleusercontent.com/a-/AOh14GjZywEjk2BilS2WJmmk2MC_x5UNZzS_ZjljHL4XFw=s64",
      "userId": "13180867705976122475"
     },
     "user_tz": -330
    },
    "id": "zaM9JlvwmJ6r"
   },
   "outputs": [],
   "source": [
    "import numpy as np\n",
    "\n",
    "def split_indices(n, val_pct=0.1, seed=99):\n",
    "    # determine size of validation set\n",
    "    n_val = int(val_pct*n)\n",
    "\n",
    "    # set the random seed ( for reproducibility)\n",
    "    np.random.seed(seed)\n",
    "\n",
    "    #Creat random permutation of 0 to n-1\n",
    "    idxs = np.random.permutation(n)\n",
    "\n",
    "    # pick first n_val indices for the validation set \n",
    "    return idxs[n_val:], idxs[:n_val]"
   ]
  },
  {
   "cell_type": "code",
   "execution_count": 37,
   "metadata": {
    "colab": {
     "base_uri": "https://localhost:8080/",
     "height": 52
    },
    "colab_type": "code",
    "executionInfo": {
     "elapsed": 783,
     "status": "ok",
     "timestamp": 1597319076908,
     "user": {
      "displayName": "Sandeep Naagar",
      "photoUrl": "https://lh3.googleusercontent.com/a-/AOh14GjZywEjk2BilS2WJmmk2MC_x5UNZzS_ZjljHL4XFw=s64",
      "userId": "13180867705976122475"
     },
     "user_tz": -330
    },
    "id": "JeoAzIuGnlkT",
    "outputId": "9c386b4a-acb2-4de8-992c-9be3a74b7c6c"
   },
   "outputs": [
    {
     "name": "stdout",
     "output_type": "stream",
     "text": [
      "40000 10000\n",
      "sample validation indices: [33553  9427   199 12447 39489 42724 10822 49498  4144]\n"
     ]
    }
   ],
   "source": [
    "val_pct = 0.2\n",
    "rand_seed = 42   # udes for random no generator\n",
    "\n",
    "train_indices, val_indices = split_indices(len(dataset), val_pct, rand_seed)\n",
    "print(len(train_indices), len(val_indices))\n",
    "print('sample validation indices:', val_indices[:9])"
   ]
  },
  {
   "cell_type": "code",
   "execution_count": 37,
   "metadata": {
    "colab": {},
    "colab_type": "code",
    "executionInfo": {
     "elapsed": 823,
     "status": "ok",
     "timestamp": 1597321456391,
     "user": {
      "displayName": "Sandeep Naagar",
      "photoUrl": "https://lh3.googleusercontent.com/a-/AOh14GjZywEjk2BilS2WJmmk2MC_x5UNZzS_ZjljHL4XFw=s64",
      "userId": "13180867705976122475"
     },
     "user_tz": -330
    },
    "id": "FyPDK1KAoZ0c"
   },
   "outputs": [],
   "source": [
    "\n",
    "\n"
   ]
  },
  {
   "cell_type": "code",
   "execution_count": 38,
   "metadata": {
    "colab": {},
    "colab_type": "code",
    "executionInfo": {
     "elapsed": 1030,
     "status": "ok",
     "timestamp": 1597321503811,
     "user": {
      "displayName": "Sandeep Naagar",
      "photoUrl": "https://lh3.googleusercontent.com/a-/AOh14GjZywEjk2BilS2WJmmk2MC_x5UNZzS_ZjljHL4XFw=s64",
      "userId": "13180867705976122475"
     },
     "user_tz": -330
    },
    "id": "JiXs3kfTxyaB"
   },
   "outputs": [],
   "source": [
    "from torch.utils.data.sampler import SubsetRandomSampler"
   ]
  },
  {
   "cell_type": "code",
   "execution_count": 39,
   "metadata": {
    "colab": {},
    "colab_type": "code",
    "executionInfo": {
     "elapsed": 1114,
     "status": "ok",
     "timestamp": 1597321553207,
     "user": {
      "displayName": "Sandeep Naagar",
      "photoUrl": "https://lh3.googleusercontent.com/a-/AOh14GjZywEjk2BilS2WJmmk2MC_x5UNZzS_ZjljHL4XFw=s64",
      "userId": "13180867705976122475"
     },
     "user_tz": -330
    },
    "id": "ZIARh3kVx998"
   },
   "outputs": [],
   "source": [
    "from torch.utils.data.dataloader import DataLoader"
   ]
  },
  {
   "cell_type": "code",
   "execution_count": 40,
   "metadata": {
    "colab": {},
    "colab_type": "code",
    "executionInfo": {
     "elapsed": 909,
     "status": "ok",
     "timestamp": 1597321749400,
     "user": {
      "displayName": "Sandeep Naagar",
      "photoUrl": "https://lh3.googleusercontent.com/a-/AOh14GjZywEjk2BilS2WJmmk2MC_x5UNZzS_ZjljHL4XFw=s64",
      "userId": "13180867705976122475"
     },
     "user_tz": -330
    },
    "id": "7oLrsPdGyJ_n"
   },
   "outputs": [],
   "source": [
    "batch_size  = 200\n",
    "\n",
    "# traning data sampler and data loader\n",
    "train_sampler = SubsetRandomSampler(train_indices)\n",
    "train_d1 = DataLoader(dataset, \n",
    "                      batch_size,\n",
    "                      sampler = train_sampler)\n",
    "# validation data sampler and loader \n",
    "\n",
    "val_sampler = SubsetRandomSampler(val_indices)\n",
    "val_d1 = DataLoader(dataset, \n",
    "                      batch_size,\n",
    "                      sampler = val_sampler)\n"
   ]
  },
  {
   "cell_type": "code",
   "execution_count": 41,
   "metadata": {
    "colab": {},
    "colab_type": "code",
    "executionInfo": {
     "elapsed": 2235,
     "status": "ok",
     "timestamp": 1597322120141,
     "user": {
      "displayName": "Sandeep Naagar",
      "photoUrl": "https://lh3.googleusercontent.com/a-/AOh14GjZywEjk2BilS2WJmmk2MC_x5UNZzS_ZjljHL4XFw=s64",
      "userId": "13180867705976122475"
     },
     "user_tz": -330
    },
    "id": "di3UfW2Cy58n"
   },
   "outputs": [],
   "source": [
    "from torchvision.utils import make_grid\n",
    "\n",
    "def show_batch(d1):\n",
    "    for images, labels in d1:\n",
    "        fig, ax = plt.subplots(figsize=(10,10))\n",
    "        ax.set_xticks([]); ax.set_yticks([])\n",
    "        ax.imshow(make_grid(images, 10).permute(1, 2, 0))   ## channels to the end\n",
    "        break \n"
   ]
  },
  {
   "cell_type": "code",
   "execution_count": 42,
   "metadata": {
    "colab": {
     "base_uri": "https://localhost:8080/",
     "height": 578
    },
    "colab_type": "code",
    "executionInfo": {
     "elapsed": 4018,
     "status": "ok",
     "timestamp": 1597322212182,
     "user": {
      "displayName": "Sandeep Naagar",
      "photoUrl": "https://lh3.googleusercontent.com/a-/AOh14GjZywEjk2BilS2WJmmk2MC_x5UNZzS_ZjljHL4XFw=s64",
      "userId": "13180867705976122475"
     },
     "user_tz": -330
    },
    "id": "pukousEzz0ck",
    "outputId": "ff0acbc0-52d0-47e0-8cd7-fa2e85b87ba0"
   },
   "outputs": [
    {
     "data": {
      "image/png": "[encoded data removed]",
      "text/plain": [
       "<Figure size 720x720 with 1 Axes>"
      ]
     },
     "metadata": {
      "tags": []
     },
     "output_type": "display_data"
    }
   ],
   "source": [
    "show_batch(train_d1)"
   ]
  },
  {
   "cell_type": "markdown",
   "metadata": {
    "colab_type": "text",
    "id": "dUdlfySV06P_"
   },
   "source": [
    "## defining the CNN"
   ]
  },
  {
   "cell_type": "code",
   "execution_count": 43,
   "metadata": {
    "colab": {},
    "colab_type": "code",
    "executionInfo": {
     "elapsed": 1130,
     "status": "ok",
     "timestamp": 1597323058039,
     "user": {
      "displayName": "Sandeep Naagar",
      "photoUrl": "https://lh3.googleusercontent.com/a-/AOh14GjZywEjk2BilS2WJmmk2MC_x5UNZzS_ZjljHL4XFw=s64",
      "userId": "13180867705976122475"
     },
     "user_tz": -330
    },
    "id": "cXgFNkIY046y"
   },
   "outputs": [],
   "source": [
    "import torch.nn as nn\n",
    "import torch.nn.functional as F "
   ]
  },
  {
   "cell_type": "code",
   "execution_count": 44,
   "metadata": {
    "colab": {},
    "colab_type": "code",
    "executionInfo": {
     "elapsed": 1874,
     "status": "ok",
     "timestamp": 1597323144850,
     "user": {
      "displayName": "Sandeep Naagar",
      "photoUrl": "https://lh3.googleusercontent.com/a-/AOh14GjZywEjk2BilS2WJmmk2MC_x5UNZzS_ZjljHL4XFw=s64",
      "userId": "13180867705976122475"
     },
     "user_tz": -330
    },
    "id": "v-Wjq7uJ0430"
   },
   "outputs": [],
   "source": [
    "sample_model = nn.Sequential(\n",
    "    nn.Conv2d(3, 8, kernel_size=3, stride=1, padding=1),\n",
    "    nn.MaxPool2d(2,2)\n",
    ")"
   ]
  },
  {
   "cell_type": "code",
   "execution_count": 46,
   "metadata": {
    "colab": {
     "base_uri": "https://localhost:8080/",
     "height": 52
    },
    "colab_type": "code",
    "executionInfo": {
     "elapsed": 1671,
     "status": "ok",
     "timestamp": 1597323259331,
     "user": {
      "displayName": "Sandeep Naagar",
      "photoUrl": "https://lh3.googleusercontent.com/a-/AOh14GjZywEjk2BilS2WJmmk2MC_x5UNZzS_ZjljHL4XFw=s64",
      "userId": "13180867705976122475"
     },
     "user_tz": -330
    },
    "id": "tgxMbhyy04ym",
    "outputId": "7888fcc1-228a-4150-a4ae-f10b0b53e81f"
   },
   "outputs": [
    {
     "name": "stdout",
     "output_type": "stream",
     "text": [
      "images_shape: torch.Size([200, 3, 32, 32])\n",
      "out_shape: torch.Size([200, 8, 16, 16])\n"
     ]
    }
   ],
   "source": [
    "for images, labels in train_d1:\n",
    "    print('images_shape:', images.shape)\n",
    "    out = sample_model(images)\n",
    "    print('out_shape:', out.shape)\n",
    "    break\n"
   ]
  },
  {
   "cell_type": "code",
   "execution_count": 48,
   "metadata": {
    "colab": {},
    "colab_type": "code",
    "executionInfo": {
     "elapsed": 1648,
     "status": "ok",
     "timestamp": 1597323339845,
     "user": {
      "displayName": "Sandeep Naagar",
      "photoUrl": "https://lh3.googleusercontent.com/a-/AOh14GjZywEjk2BilS2WJmmk2MC_x5UNZzS_ZjljHL4XFw=s64",
      "userId": "13180867705976122475"
     },
     "user_tz": -330
    },
    "id": "haANWiD104v7"
   },
   "outputs": [],
   "source": [
    "?nn.Conv2d"
   ]
  },
  {
   "cell_type": "code",
   "execution_count": null,
   "metadata": {
    "colab": {},
    "colab_type": "code",
    "id": "dmPNBCzY0qKx"
   },
   "outputs": [],
   "source": []
  }
 ],
 "metadata": {
  "colab": {
   "authorship_tag": "ABX9TyMl8TtxTJJee7cPJwFIDvFO",
   "collapsed_sections": [],
   "name": "zero_to_GAN.ipynb",
   "provenance": []
  },
  "kernelspec": {
   "display_name": "Python 3",
   "language": "python",
   "name": "python3"
  },
  "language_info": {
   "codemirror_mode": {
    "name": "ipython",
    "version": 3
   },
   "file_extension": ".py",
   "mimetype": "text/x-python",
   "name": "python",
   "nbconvert_exporter": "python",
   "pygments_lexer": "ipython3",
   "version": "3.7.3"
  },
  "widgets": {
   "application/vnd.jupyter.widget-state+json": {
    "0200f8abc3154946b574d147b0b6ac58": {
     "model_module": "@jupyter-widgets/controls",
     "model_name": "FloatProgressModel",
     "state": {
      "_dom_classes": [],
      "_model_module": "@jupyter-widgets/controls",
      "_model_module_version": "1.5.0",
      "_model_name": "FloatProgressModel",
      "_view_count": null,
      "_view_module": "@jupyter-widgets/controls",
      "_view_module_version": "1.5.0",
      "_view_name": "ProgressView",
      "bar_style": "info",
      "description": "",
      "description_tooltip": null,
      "layout": "IPY_MODEL_5488caaae79b4a67b58b14fb3fbffccb",
      "max": 1,
      "min": 0,
      "orientation": "horizontal",
      "style": "IPY_MODEL_597249ded0e8451a94536fdaa019b8f4",
      "value": 1
     }
    },
    "0323a1c1b65f453a9afe9ea64d1c781e": {
     "model_module": "@jupyter-widgets/base",
     "model_name": "LayoutModel",
     "state": {
      "_model_module": "@jupyter-widgets/base",
      "_model_module_version": "1.2.0",
      "_model_name": "LayoutModel",
      "_view_count": null,
      "_view_module": "@jupyter-widgets/base",
      "_view_module_version": "1.2.0",
      "_view_name": "LayoutView",
      "align_content": null,
      "align_items": null,
      "align_self": null,
      "border": null,
      "bottom": null,
      "display": null,
      "flex": null,
      "flex_flow": null,
      "grid_area": null,
      "grid_auto_columns": null,
      "grid_auto_flow": null,
      "grid_auto_rows": null,
      "grid_column": null,
      "grid_gap": null,
      "grid_row": null,
      "grid_template_areas": null,
      "grid_template_columns": null,
      "grid_template_rows": null,
      "height": null,
      "justify_content": null,
      "justify_items": null,
      "left": null,
      "margin": null,
      "max_height": null,
      "max_width": null,
      "min_height": null,
      "min_width": null,
      "object_fit": null,
      "object_position": null,
      "order": null,
      "overflow": null,
      "overflow_x": null,
      "overflow_y": null,
      "padding": null,
      "right": null,
      "top": null,
      "visibility": null,
      "width": null
     }
    },
    "0d73b5b332a24dcbabb8fa8d14e6e8f5": {
     "model_module": "@jupyter-widgets/base",
     "model_name": "LayoutModel",
     "state": {
      "_model_module": "@jupyter-widgets/base",
      "_model_module_version": "1.2.0",
      "_model_name": "LayoutModel",
      "_view_count": null,
      "_view_module": "@jupyter-widgets/base",
      "_view_module_version": "1.2.0",
      "_view_name": "LayoutView",
      "align_content": null,
      "align_items": null,
      "align_self": null,
      "border": null,
      "bottom": null,
      "display": null,
      "flex": null,
      "flex_flow": null,
      "grid_area": null,
      "grid_auto_columns": null,
      "grid_auto_flow": null,
      "grid_auto_rows": null,
      "grid_column": null,
      "grid_gap": null,
      "grid_row": null,
      "grid_template_areas": null,
      "grid_template_columns": null,
      "grid_template_rows": null,
      "height": null,
      "justify_content": null,
      "justify_items": null,
      "left": null,
      "margin": null,
      "max_height": null,
      "max_width": null,
      "min_height": null,
      "min_width": null,
      "object_fit": null,
      "object_position": null,
      "order": null,
      "overflow": null,
      "overflow_x": null,
      "overflow_y": null,
      "padding": null,
      "right": null,
      "top": null,
      "visibility": null,
      "width": null
     }
    },
    "22278d57a0f945b78a32384a2ce54f10": {
     "model_module": "@jupyter-widgets/controls",
     "model_name": "HTMLModel",
     "state": {
      "_dom_classes": [],
      "_model_module": "@jupyter-widgets/controls",
      "_model_module_version": "1.5.0",
      "_model_name": "HTMLModel",
      "_view_count": null,
      "_view_module": "@jupyter-widgets/controls",
      "_view_module_version": "1.5.0",
      "_view_name": "HTMLView",
      "description": "",
      "description_tooltip": null,
      "layout": "IPY_MODEL_89166560ccb542a4ab4bf077777bf950",
      "placeholder": "​",
      "style": "IPY_MODEL_5395d64e55304937a230b9d9cdedb8a3",
      "value": " 1654784/? [00:01&lt;00:00, 1215083.01it/s]"
     }
    },
    "22c6470144764f7ba4c0e7e3af96e0d8": {
     "model_module": "@jupyter-widgets/controls",
     "model_name": "HBoxModel",
     "state": {
      "_dom_classes": [],
      "_model_module": "@jupyter-widgets/controls",
      "_model_module_version": "1.5.0",
      "_model_name": "HBoxModel",
      "_view_count": null,
      "_view_module": "@jupyter-widgets/controls",
      "_view_module_version": "1.5.0",
      "_view_name": "HBoxView",
      "box_style": "",
      "children": [
       "IPY_MODEL_0200f8abc3154946b574d147b0b6ac58",
       "IPY_MODEL_85e6788d09d14462883839ca3d31ee3a"
      ],
      "layout": "IPY_MODEL_f9648f47a11742d9be8ff3cba0f19f54"
     }
    },
    "28f315f8b61445b887fdb52f6f63c424": {
     "model_module": "@jupyter-widgets/controls",
     "model_name": "DescriptionStyleModel",
     "state": {
      "_model_module": "@jupyter-widgets/controls",
      "_model_module_version": "1.5.0",
      "_model_name": "DescriptionStyleModel",
      "_view_count": null,
      "_view_module": "@jupyter-widgets/base",
      "_view_module_version": "1.2.0",
      "_view_name": "StyleView",
      "description_width": ""
     }
    },
    "2ac74de6b61840bd99f0da7512e2a9b9": {
     "model_module": "@jupyter-widgets/base",
     "model_name": "LayoutModel",
     "state": {
      "_model_module": "@jupyter-widgets/base",
      "_model_module_version": "1.2.0",
      "_model_name": "LayoutModel",
      "_view_count": null,
      "_view_module": "@jupyter-widgets/base",
      "_view_module_version": "1.2.0",
      "_view_name": "LayoutView",
      "align_content": null,
      "align_items": null,
      "align_self": null,
      "border": null,
      "bottom": null,
      "display": null,
      "flex": null,
      "flex_flow": null,
      "grid_area": null,
      "grid_auto_columns": null,
      "grid_auto_flow": null,
      "grid_auto_rows": null,
      "grid_column": null,
      "grid_gap": null,
      "grid_row": null,
      "grid_template_areas": null,
      "grid_template_columns": null,
      "grid_template_rows": null,
      "height": null,
      "justify_content": null,
      "justify_items": null,
      "left": null,
      "margin": null,
      "max_height": null,
      "max_width": null,
      "min_height": null,
      "min_width": null,
      "object_fit": null,
      "object_position": null,
      "order": null,
      "overflow": null,
      "overflow_x": null,
      "overflow_y": null,
      "padding": null,
      "right": null,
      "top": null,
      "visibility": null,
      "width": null
     }
    },
    "336403e6579d4dd1bfb2af89bc8bb391": {
     "model_module": "@jupyter-widgets/base",
     "model_name": "LayoutModel",
     "state": {
      "_model_module": "@jupyter-widgets/base",
      "_model_module_version": "1.2.0",
      "_model_name": "LayoutModel",
      "_view_count": null,
      "_view_module": "@jupyter-widgets/base",
      "_view_module_version": "1.2.0",
      "_view_name": "LayoutView",
      "align_content": null,
      "align_items": null,
      "align_self": null,
      "border": null,
      "bottom": null,
      "display": null,
      "flex": null,
      "flex_flow": null,
      "grid_area": null,
      "grid_auto_columns": null,
      "grid_auto_flow": null,
      "grid_auto_rows": null,
      "grid_column": null,
      "grid_gap": null,
      "grid_row": null,
      "grid_template_areas": null,
      "grid_template_columns": null,
      "grid_template_rows": null,
      "height": null,
      "justify_content": null,
      "justify_items": null,
      "left": null,
      "margin": null,
      "max_height": null,
      "max_width": null,
      "min_height": null,
      "min_width": null,
      "object_fit": null,
      "object_position": null,
      "order": null,
      "overflow": null,
      "overflow_x": null,
      "overflow_y": null,
      "padding": null,
      "right": null,
      "top": null,
      "visibility": null,
      "width": null
     }
    },
    "3e3eb58ccc6b4b43843538752c0fb9e6": {
     "model_module": "@jupyter-widgets/controls",
     "model_name": "FloatProgressModel",
     "state": {
      "_dom_classes": [],
      "_model_module": "@jupyter-widgets/controls",
      "_model_module_version": "1.5.0",
      "_model_name": "FloatProgressModel",
      "_view_count": null,
      "_view_module": "@jupyter-widgets/controls",
      "_view_module_version": "1.5.0",
      "_view_name": "ProgressView",
      "bar_style": "success",
      "description": "",
      "description_tooltip": null,
      "layout": "IPY_MODEL_b9848c1eae2c4a3596d245a3017b79ab",
      "max": 1,
      "min": 0,
      "orientation": "horizontal",
      "style": "IPY_MODEL_5fa84a2812084b10bc8c796ca133fb0d",
      "value": 1
     }
    },
    "3f41ecb0bfbf4f04afcc7ec010b87019": {
     "model_module": "@jupyter-widgets/controls",
     "model_name": "ProgressStyleModel",
     "state": {
      "_model_module": "@jupyter-widgets/controls",
      "_model_module_version": "1.5.0",
      "_model_name": "ProgressStyleModel",
      "_view_count": null,
      "_view_module": "@jupyter-widgets/base",
      "_view_module_version": "1.2.0",
      "_view_name": "StyleView",
      "bar_color": null,
      "description_width": "initial"
     }
    },
    "5395d64e55304937a230b9d9cdedb8a3": {
     "model_module": "@jupyter-widgets/controls",
     "model_name": "DescriptionStyleModel",
     "state": {
      "_model_module": "@jupyter-widgets/controls",
      "_model_module_version": "1.5.0",
      "_model_name": "DescriptionStyleModel",
      "_view_count": null,
      "_view_module": "@jupyter-widgets/base",
      "_view_module_version": "1.2.0",
      "_view_name": "StyleView",
      "description_width": ""
     }
    },
    "5488caaae79b4a67b58b14fb3fbffccb": {
     "model_module": "@jupyter-widgets/base",
     "model_name": "LayoutModel",
     "state": {
      "_model_module": "@jupyter-widgets/base",
      "_model_module_version": "1.2.0",
      "_model_name": "LayoutModel",
      "_view_count": null,
      "_view_module": "@jupyter-widgets/base",
      "_view_module_version": "1.2.0",
      "_view_name": "LayoutView",
      "align_content": null,
      "align_items": null,
      "align_self": null,
      "border": null,
      "bottom": null,
      "display": null,
      "flex": null,
      "flex_flow": null,
      "grid_area": null,
      "grid_auto_columns": null,
      "grid_auto_flow": null,
      "grid_auto_rows": null,
      "grid_column": null,
      "grid_gap": null,
      "grid_row": null,
      "grid_template_areas": null,
      "grid_template_columns": null,
      "grid_template_rows": null,
      "height": null,
      "justify_content": null,
      "justify_items": null,
      "left": null,
      "margin": null,
      "max_height": null,
      "max_width": null,
      "min_height": null,
      "min_width": null,
      "object_fit": null,
      "object_position": null,
      "order": null,
      "overflow": null,
      "overflow_x": null,
      "overflow_y": null,
      "padding": null,
      "right": null,
      "top": null,
      "visibility": null,
      "width": null
     }
    },
    "597249ded0e8451a94536fdaa019b8f4": {
     "model_module": "@jupyter-widgets/controls",
     "model_name": "ProgressStyleModel",
     "state": {
      "_model_module": "@jupyter-widgets/controls",
      "_model_module_version": "1.5.0",
      "_model_name": "ProgressStyleModel",
      "_view_count": null,
      "_view_module": "@jupyter-widgets/base",
      "_view_module_version": "1.2.0",
      "_view_name": "StyleView",
      "bar_color": null,
      "description_width": "initial"
     }
    },
    "5d761dfc5234475e9cc84fc3d677a0d7": {
     "model_module": "@jupyter-widgets/controls",
     "model_name": "HTMLModel",
     "state": {
      "_dom_classes": [],
      "_model_module": "@jupyter-widgets/controls",
      "_model_module_version": "1.5.0",
      "_model_name": "HTMLModel",
      "_view_count": null,
      "_view_module": "@jupyter-widgets/controls",
      "_view_module_version": "1.5.0",
      "_view_name": "HTMLView",
      "description": "",
      "description_tooltip": null,
      "layout": "IPY_MODEL_0d73b5b332a24dcbabb8fa8d14e6e8f5",
      "placeholder": "​",
      "style": "IPY_MODEL_28f315f8b61445b887fdb52f6f63c424",
      "value": " 8192/? [00:00&lt;00:00, 14709.31it/s]"
     }
    },
    "5f2a9097710046a0ad26eefa4af0ba0d": {
     "model_module": "@jupyter-widgets/controls",
     "model_name": "FloatProgressModel",
     "state": {
      "_dom_classes": [],
      "_model_module": "@jupyter-widgets/controls",
      "_model_module_version": "1.5.0",
      "_model_name": "FloatProgressModel",
      "_view_count": null,
      "_view_module": "@jupyter-widgets/controls",
      "_view_module_version": "1.5.0",
      "_view_name": "ProgressView",
      "bar_style": "success",
      "description": "",
      "description_tooltip": null,
      "layout": "IPY_MODEL_bc420304aba2481ca3e28db24d8cbcff",
      "max": 1,
      "min": 0,
      "orientation": "horizontal",
      "style": "IPY_MODEL_9f180d3fef7346bdb20aed7b2cc4d8f9",
      "value": 1
     }
    },
    "5fa84a2812084b10bc8c796ca133fb0d": {
     "model_module": "@jupyter-widgets/controls",
     "model_name": "ProgressStyleModel",
     "state": {
      "_model_module": "@jupyter-widgets/controls",
      "_model_module_version": "1.5.0",
      "_model_name": "ProgressStyleModel",
      "_view_count": null,
      "_view_module": "@jupyter-widgets/base",
      "_view_module_version": "1.2.0",
      "_view_name": "StyleView",
      "bar_color": null,
      "description_width": "initial"
     }
    },
    "5fadd3600e484824b5c0e88250042387": {
     "model_module": "@jupyter-widgets/controls",
     "model_name": "HBoxModel",
     "state": {
      "_dom_classes": [],
      "_model_module": "@jupyter-widgets/controls",
      "_model_module_version": "1.5.0",
      "_model_name": "HBoxModel",
      "_view_count": null,
      "_view_module": "@jupyter-widgets/controls",
      "_view_module_version": "1.5.0",
      "_view_name": "HBoxView",
      "box_style": "",
      "children": [
       "IPY_MODEL_3e3eb58ccc6b4b43843538752c0fb9e6",
       "IPY_MODEL_f4925babe1c64cac9fb43b3f4dc2382b"
      ],
      "layout": "IPY_MODEL_0323a1c1b65f453a9afe9ea64d1c781e"
     }
    },
    "6411868998a24a8b895e549ca920a1e7": {
     "model_module": "@jupyter-widgets/controls",
     "model_name": "FloatProgressModel",
     "state": {
      "_dom_classes": [],
      "_model_module": "@jupyter-widgets/controls",
      "_model_module_version": "1.5.0",
      "_model_name": "FloatProgressModel",
      "_view_count": null,
      "_view_module": "@jupyter-widgets/controls",
      "_view_module_version": "1.5.0",
      "_view_name": "ProgressView",
      "bar_style": "success",
      "description": "",
      "description_tooltip": null,
      "layout": "IPY_MODEL_86e6924204204baaa92590900eea7d25",
      "max": 1,
      "min": 0,
      "orientation": "horizontal",
      "style": "IPY_MODEL_3f41ecb0bfbf4f04afcc7ec010b87019",
      "value": 1
     }
    },
    "6f38a0c706ff42ebae710da441f17abe": {
     "model_module": "@jupyter-widgets/controls",
     "model_name": "HBoxModel",
     "state": {
      "_dom_classes": [],
      "_model_module": "@jupyter-widgets/controls",
      "_model_module_version": "1.5.0",
      "_model_name": "HBoxModel",
      "_view_count": null,
      "_view_module": "@jupyter-widgets/controls",
      "_view_module_version": "1.5.0",
      "_view_name": "HBoxView",
      "box_style": "",
      "children": [
       "IPY_MODEL_80d76ece00bc497b94484ec3cdfcb428",
       "IPY_MODEL_fd77f67aa8cf4de8865650fc8a791f8b"
      ],
      "layout": "IPY_MODEL_7a7dd3d7802242e194b6b384329a326f"
     }
    },
    "7a7dd3d7802242e194b6b384329a326f": {
     "model_module": "@jupyter-widgets/base",
     "model_name": "LayoutModel",
     "state": {
      "_model_module": "@jupyter-widgets/base",
      "_model_module_version": "1.2.0",
      "_model_name": "LayoutModel",
      "_view_count": null,
      "_view_module": "@jupyter-widgets/base",
      "_view_module_version": "1.2.0",
      "_view_name": "LayoutView",
      "align_content": null,
      "align_items": null,
      "align_self": null,
      "border": null,
      "bottom": null,
      "display": null,
      "flex": null,
      "flex_flow": null,
      "grid_area": null,
      "grid_auto_columns": null,
      "grid_auto_flow": null,
      "grid_auto_rows": null,
      "grid_column": null,
      "grid_gap": null,
      "grid_row": null,
      "grid_template_areas": null,
      "grid_template_columns": null,
      "grid_template_rows": null,
      "height": null,
      "justify_content": null,
      "justify_items": null,
      "left": null,
      "margin": null,
      "max_height": null,
      "max_width": null,
      "min_height": null,
      "min_width": null,
      "object_fit": null,
      "object_position": null,
      "order": null,
      "overflow": null,
      "overflow_x": null,
      "overflow_y": null,
      "padding": null,
      "right": null,
      "top": null,
      "visibility": null,
      "width": null
     }
    },
    "7afb659318934fd5b6365cedf7cd7497": {
     "model_module": "@jupyter-widgets/controls",
     "model_name": "HBoxModel",
     "state": {
      "_dom_classes": [],
      "_model_module": "@jupyter-widgets/controls",
      "_model_module_version": "1.5.0",
      "_model_name": "HBoxModel",
      "_view_count": null,
      "_view_module": "@jupyter-widgets/controls",
      "_view_module_version": "1.5.0",
      "_view_name": "HBoxView",
      "box_style": "",
      "children": [
       "IPY_MODEL_6411868998a24a8b895e549ca920a1e7",
       "IPY_MODEL_5d761dfc5234475e9cc84fc3d677a0d7"
      ],
      "layout": "IPY_MODEL_bed4d8ca70764aeaac8b84df5a6e8bf3"
     }
    },
    "80d76ece00bc497b94484ec3cdfcb428": {
     "model_module": "@jupyter-widgets/controls",
     "model_name": "FloatProgressModel",
     "state": {
      "_dom_classes": [],
      "_model_module": "@jupyter-widgets/controls",
      "_model_module_version": "1.5.0",
      "_model_name": "FloatProgressModel",
      "_view_count": null,
      "_view_module": "@jupyter-widgets/controls",
      "_view_module_version": "1.5.0",
      "_view_name": "ProgressView",
      "bar_style": "success",
      "description": "",
      "description_tooltip": null,
      "layout": "IPY_MODEL_de2fbcd402d14dea9dd18ab11dbd6fb6",
      "max": 1,
      "min": 0,
      "orientation": "horizontal",
      "style": "IPY_MODEL_cf48526c207e4be9975120d64606b081",
      "value": 1
     }
    },
    "85e6788d09d14462883839ca3d31ee3a": {
     "model_module": "@jupyter-widgets/controls",
     "model_name": "HTMLModel",
     "state": {
      "_dom_classes": [],
      "_model_module": "@jupyter-widgets/controls",
      "_model_module_version": "1.5.0",
      "_model_name": "HTMLModel",
      "_view_count": null,
      "_view_module": "@jupyter-widgets/controls",
      "_view_module_version": "1.5.0",
      "_view_name": "HTMLView",
      "description": "",
      "description_tooltip": null,
      "layout": "IPY_MODEL_abae68d57b0c4c5f9a94e8a089e72596",
      "placeholder": "​",
      "style": "IPY_MODEL_979a1ae23567459f99701afb05b68c3e",
      "value": " 168173568/? [00:20&lt;00:00, 99272656.91it/s]"
     }
    },
    "86e6924204204baaa92590900eea7d25": {
     "model_module": "@jupyter-widgets/base",
     "model_name": "LayoutModel",
     "state": {
      "_model_module": "@jupyter-widgets/base",
      "_model_module_version": "1.2.0",
      "_model_name": "LayoutModel",
      "_view_count": null,
      "_view_module": "@jupyter-widgets/base",
      "_view_module_version": "1.2.0",
      "_view_name": "LayoutView",
      "align_content": null,
      "align_items": null,
      "align_self": null,
      "border": null,
      "bottom": null,
      "display": null,
      "flex": null,
      "flex_flow": null,
      "grid_area": null,
      "grid_auto_columns": null,
      "grid_auto_flow": null,
      "grid_auto_rows": null,
      "grid_column": null,
      "grid_gap": null,
      "grid_row": null,
      "grid_template_areas": null,
      "grid_template_columns": null,
      "grid_template_rows": null,
      "height": null,
      "justify_content": null,
      "justify_items": null,
      "left": null,
      "margin": null,
      "max_height": null,
      "max_width": null,
      "min_height": null,
      "min_width": null,
      "object_fit": null,
      "object_position": null,
      "order": null,
      "overflow": null,
      "overflow_x": null,
      "overflow_y": null,
      "padding": null,
      "right": null,
      "top": null,
      "visibility": null,
      "width": null
     }
    },
    "89166560ccb542a4ab4bf077777bf950": {
     "model_module": "@jupyter-widgets/base",
     "model_name": "LayoutModel",
     "state": {
      "_model_module": "@jupyter-widgets/base",
      "_model_module_version": "1.2.0",
      "_model_name": "LayoutModel",
      "_view_count": null,
      "_view_module": "@jupyter-widgets/base",
      "_view_module_version": "1.2.0",
      "_view_name": "LayoutView",
      "align_content": null,
      "align_items": null,
      "align_self": null,
      "border": null,
      "bottom": null,
      "display": null,
      "flex": null,
      "flex_flow": null,
      "grid_area": null,
      "grid_auto_columns": null,
      "grid_auto_flow": null,
      "grid_auto_rows": null,
      "grid_column": null,
      "grid_gap": null,
      "grid_row": null,
      "grid_template_areas": null,
      "grid_template_columns": null,
      "grid_template_rows": null,
      "height": null,
      "justify_content": null,
      "justify_items": null,
      "left": null,
      "margin": null,
      "max_height": null,
      "max_width": null,
      "min_height": null,
      "min_width": null,
      "object_fit": null,
      "object_position": null,
      "order": null,
      "overflow": null,
      "overflow_x": null,
      "overflow_y": null,
      "padding": null,
      "right": null,
      "top": null,
      "visibility": null,
      "width": null
     }
    },
    "892b1993856a4c17b58c40bc672290f4": {
     "model_module": "@jupyter-widgets/controls",
     "model_name": "HBoxModel",
     "state": {
      "_dom_classes": [],
      "_model_module": "@jupyter-widgets/controls",
      "_model_module_version": "1.5.0",
      "_model_name": "HBoxModel",
      "_view_count": null,
      "_view_module": "@jupyter-widgets/controls",
      "_view_module_version": "1.5.0",
      "_view_name": "HBoxView",
      "box_style": "",
      "children": [
       "IPY_MODEL_5f2a9097710046a0ad26eefa4af0ba0d",
       "IPY_MODEL_22278d57a0f945b78a32384a2ce54f10"
      ],
      "layout": "IPY_MODEL_2ac74de6b61840bd99f0da7512e2a9b9"
     }
    },
    "979a1ae23567459f99701afb05b68c3e": {
     "model_module": "@jupyter-widgets/controls",
     "model_name": "DescriptionStyleModel",
     "state": {
      "_model_module": "@jupyter-widgets/controls",
      "_model_module_version": "1.5.0",
      "_model_name": "DescriptionStyleModel",
      "_view_count": null,
      "_view_module": "@jupyter-widgets/base",
      "_view_module_version": "1.2.0",
      "_view_name": "StyleView",
      "description_width": ""
     }
    },
    "9f180d3fef7346bdb20aed7b2cc4d8f9": {
     "model_module": "@jupyter-widgets/controls",
     "model_name": "ProgressStyleModel",
     "state": {
      "_model_module": "@jupyter-widgets/controls",
      "_model_module_version": "1.5.0",
      "_model_name": "ProgressStyleModel",
      "_view_count": null,
      "_view_module": "@jupyter-widgets/base",
      "_view_module_version": "1.2.0",
      "_view_name": "StyleView",
      "bar_color": null,
      "description_width": "initial"
     }
    },
    "abae68d57b0c4c5f9a94e8a089e72596": {
     "model_module": "@jupyter-widgets/base",
     "model_name": "LayoutModel",
     "state": {
      "_model_module": "@jupyter-widgets/base",
      "_model_module_version": "1.2.0",
      "_model_name": "LayoutModel",
      "_view_count": null,
      "_view_module": "@jupyter-widgets/base",
      "_view_module_version": "1.2.0",
      "_view_name": "LayoutView",
      "align_content": null,
      "align_items": null,
      "align_self": null,
      "border": null,
      "bottom": null,
      "display": null,
      "flex": null,
      "flex_flow": null,
      "grid_area": null,
      "grid_auto_columns": null,
      "grid_auto_flow": null,
      "grid_auto_rows": null,
      "grid_column": null,
      "grid_gap": null,
      "grid_row": null,
      "grid_template_areas": null,
      "grid_template_columns": null,
      "grid_template_rows": null,
      "height": null,
      "justify_content": null,
      "justify_items": null,
      "left": null,
      "margin": null,
      "max_height": null,
      "max_width": null,
      "min_height": null,
      "min_width": null,
      "object_fit": null,
      "object_position": null,
      "order": null,
      "overflow": null,
      "overflow_x": null,
      "overflow_y": null,
      "padding": null,
      "right": null,
      "top": null,
      "visibility": null,
      "width": null
     }
    },
    "b9848c1eae2c4a3596d245a3017b79ab": {
     "model_module": "@jupyter-widgets/base",
     "model_name": "LayoutModel",
     "state": {
      "_model_module": "@jupyter-widgets/base",
      "_model_module_version": "1.2.0",
      "_model_name": "LayoutModel",
      "_view_count": null,
      "_view_module": "@jupyter-widgets/base",
      "_view_module_version": "1.2.0",
      "_view_name": "LayoutView",
      "align_content": null,
      "align_items": null,
      "align_self": null,
      "border": null,
      "bottom": null,
      "display": null,
      "flex": null,
      "flex_flow": null,
      "grid_area": null,
      "grid_auto_columns": null,
      "grid_auto_flow": null,
      "grid_auto_rows": null,
      "grid_column": null,
      "grid_gap": null,
      "grid_row": null,
      "grid_template_areas": null,
      "grid_template_columns": null,
      "grid_template_rows": null,
      "height": null,
      "justify_content": null,
      "justify_items": null,
      "left": null,
      "margin": null,
      "max_height": null,
      "max_width": null,
      "min_height": null,
      "min_width": null,
      "object_fit": null,
      "object_position": null,
      "order": null,
      "overflow": null,
      "overflow_x": null,
      "overflow_y": null,
      "padding": null,
      "right": null,
      "top": null,
      "visibility": null,
      "width": null
     }
    },
    "bc420304aba2481ca3e28db24d8cbcff": {
     "model_module": "@jupyter-widgets/base",
     "model_name": "LayoutModel",
     "state": {
      "_model_module": "@jupyter-widgets/base",
      "_model_module_version": "1.2.0",
      "_model_name": "LayoutModel",
      "_view_count": null,
      "_view_module": "@jupyter-widgets/base",
      "_view_module_version": "1.2.0",
      "_view_name": "LayoutView",
      "align_content": null,
      "align_items": null,
      "align_self": null,
      "border": null,
      "bottom": null,
      "display": null,
      "flex": null,
      "flex_flow": null,
      "grid_area": null,
      "grid_auto_columns": null,
      "grid_auto_flow": null,
      "grid_auto_rows": null,
      "grid_column": null,
      "grid_gap": null,
      "grid_row": null,
      "grid_template_areas": null,
      "grid_template_columns": null,
      "grid_template_rows": null,
      "height": null,
      "justify_content": null,
      "justify_items": null,
      "left": null,
      "margin": null,
      "max_height": null,
      "max_width": null,
      "min_height": null,
      "min_width": null,
      "object_fit": null,
      "object_position": null,
      "order": null,
      "overflow": null,
      "overflow_x": null,
      "overflow_y": null,
      "padding": null,
      "right": null,
      "top": null,
      "visibility": null,
      "width": null
     }
    },
    "bed4d8ca70764aeaac8b84df5a6e8bf3": {
     "model_module": "@jupyter-widgets/base",
     "model_name": "LayoutModel",
     "state": {
      "_model_module": "@jupyter-widgets/base",
      "_model_module_version": "1.2.0",
      "_model_name": "LayoutModel",
      "_view_count": null,
      "_view_module": "@jupyter-widgets/base",
      "_view_module_version": "1.2.0",
      "_view_name": "LayoutView",
      "align_content": null,
      "align_items": null,
      "align_self": null,
      "border": null,
      "bottom": null,
      "display": null,
      "flex": null,
      "flex_flow": null,
      "grid_area": null,
      "grid_auto_columns": null,
      "grid_auto_flow": null,
      "grid_auto_rows": null,
      "grid_column": null,
      "grid_gap": null,
      "grid_row": null,
      "grid_template_areas": null,
      "grid_template_columns": null,
      "grid_template_rows": null,
      "height": null,
      "justify_content": null,
      "justify_items": null,
      "left": null,
      "margin": null,
      "max_height": null,
      "max_width": null,
      "min_height": null,
      "min_width": null,
      "object_fit": null,
      "object_position": null,
      "order": null,
      "overflow": null,
      "overflow_x": null,
      "overflow_y": null,
      "padding": null,
      "right": null,
      "top": null,
      "visibility": null,
      "width": null
     }
    },
    "cf48526c207e4be9975120d64606b081": {
     "model_module": "@jupyter-widgets/controls",
     "model_name": "ProgressStyleModel",
     "state": {
      "_model_module": "@jupyter-widgets/controls",
      "_model_module_version": "1.5.0",
      "_model_name": "ProgressStyleModel",
      "_view_count": null,
      "_view_module": "@jupyter-widgets/base",
      "_view_module_version": "1.2.0",
      "_view_name": "StyleView",
      "bar_color": null,
      "description_width": "initial"
     }
    },
    "de2fbcd402d14dea9dd18ab11dbd6fb6": {
     "model_module": "@jupyter-widgets/base",
     "model_name": "LayoutModel",
     "state": {
      "_model_module": "@jupyter-widgets/base",
      "_model_module_version": "1.2.0",
      "_model_name": "LayoutModel",
      "_view_count": null,
      "_view_module": "@jupyter-widgets/base",
      "_view_module_version": "1.2.0",
      "_view_name": "LayoutView",
      "align_content": null,
      "align_items": null,
      "align_self": null,
      "border": null,
      "bottom": null,
      "display": null,
      "flex": null,
      "flex_flow": null,
      "grid_area": null,
      "grid_auto_columns": null,
      "grid_auto_flow": null,
      "grid_auto_rows": null,
      "grid_column": null,
      "grid_gap": null,
      "grid_row": null,
      "grid_template_areas": null,
      "grid_template_columns": null,
      "grid_template_rows": null,
      "height": null,
      "justify_content": null,
      "justify_items": null,
      "left": null,
      "margin": null,
      "max_height": null,
      "max_width": null,
      "min_height": null,
      "min_width": null,
      "object_fit": null,
      "object_position": null,
      "order": null,
      "overflow": null,
      "overflow_x": null,
      "overflow_y": null,
      "padding": null,
      "right": null,
      "top": null,
      "visibility": null,
      "width": null
     }
    },
    "e687a062acb244e397da0fc6df40f12c": {
     "model_module": "@jupyter-widgets/base",
     "model_name": "LayoutModel",
     "state": {
      "_model_module": "@jupyter-widgets/base",
      "_model_module_version": "1.2.0",
      "_model_name": "LayoutModel",
      "_view_count": null,
      "_view_module": "@jupyter-widgets/base",
      "_view_module_version": "1.2.0",
      "_view_name": "LayoutView",
      "align_content": null,
      "align_items": null,
      "align_self": null,
      "border": null,
      "bottom": null,
      "display": null,
      "flex": null,
      "flex_flow": null,
      "grid_area": null,
      "grid_auto_columns": null,
      "grid_auto_flow": null,
      "grid_auto_rows": null,
      "grid_column": null,
      "grid_gap": null,
      "grid_row": null,
      "grid_template_areas": null,
      "grid_template_columns": null,
      "grid_template_rows": null,
      "height": null,
      "justify_content": null,
      "justify_items": null,
      "left": null,
      "margin": null,
      "max_height": null,
      "max_width": null,
      "min_height": null,
      "min_width": null,
      "object_fit": null,
      "object_position": null,
      "order": null,
      "overflow": null,
      "overflow_x": null,
      "overflow_y": null,
      "padding": null,
      "right": null,
      "top": null,
      "visibility": null,
      "width": null
     }
    },
    "ee0672a2b07f430895d901a889106890": {
     "model_module": "@jupyter-widgets/controls",
     "model_name": "DescriptionStyleModel",
     "state": {
      "_model_module": "@jupyter-widgets/controls",
      "_model_module_version": "1.5.0",
      "_model_name": "DescriptionStyleModel",
      "_view_count": null,
      "_view_module": "@jupyter-widgets/base",
      "_view_module_version": "1.2.0",
      "_view_name": "StyleView",
      "description_width": ""
     }
    },
    "f0086d1deeb2481a8738bd7b75e30de7": {
     "model_module": "@jupyter-widgets/controls",
     "model_name": "DescriptionStyleModel",
     "state": {
      "_model_module": "@jupyter-widgets/controls",
      "_model_module_version": "1.5.0",
      "_model_name": "DescriptionStyleModel",
      "_view_count": null,
      "_view_module": "@jupyter-widgets/base",
      "_view_module_version": "1.2.0",
      "_view_name": "StyleView",
      "description_width": ""
     }
    },
    "f4925babe1c64cac9fb43b3f4dc2382b": {
     "model_module": "@jupyter-widgets/controls",
     "model_name": "HTMLModel",
     "state": {
      "_dom_classes": [],
      "_model_module": "@jupyter-widgets/controls",
      "_model_module_version": "1.5.0",
      "_model_name": "HTMLModel",
      "_view_count": null,
      "_view_module": "@jupyter-widgets/controls",
      "_view_module_version": "1.5.0",
      "_view_name": "HTMLView",
      "description": "",
      "description_tooltip": null,
      "layout": "IPY_MODEL_336403e6579d4dd1bfb2af89bc8bb391",
      "placeholder": "​",
      "style": "IPY_MODEL_ee0672a2b07f430895d901a889106890",
      "value": " 32768/? [00:01&lt;00:00, 19819.81it/s]"
     }
    },
    "f9648f47a11742d9be8ff3cba0f19f54": {
     "model_module": "@jupyter-widgets/base",
     "model_name": "LayoutModel",
     "state": {
      "_model_module": "@jupyter-widgets/base",
      "_model_module_version": "1.2.0",
      "_model_name": "LayoutModel",
      "_view_count": null,
      "_view_module": "@jupyter-widgets/base",
      "_view_module_version": "1.2.0",
      "_view_name": "LayoutView",
      "align_content": null,
      "align_items": null,
      "align_self": null,
      "border": null,
      "bottom": null,
      "display": null,
      "flex": null,
      "flex_flow": null,
      "grid_area": null,
      "grid_auto_columns": null,
      "grid_auto_flow": null,
      "grid_auto_rows": null,
      "grid_column": null,
      "grid_gap": null,
      "grid_row": null,
      "grid_template_areas": null,
      "grid_template_columns": null,
      "grid_template_rows": null,
      "height": null,
      "justify_content": null,
      "justify_items": null,
      "left": null,
      "margin": null,
      "max_height": null,
      "max_width": null,
      "min_height": null,
      "min_width": null,
      "object_fit": null,
      "object_position": null,
      "order": null,
      "overflow": null,
      "overflow_x": null,
      "overflow_y": null,
      "padding": null,
      "right": null,
      "top": null,
      "visibility": null,
      "width": null
     }
    },
    "fd77f67aa8cf4de8865650fc8a791f8b": {
     "model_module": "@jupyter-widgets/controls",
     "model_name": "HTMLModel",
     "state": {
      "_dom_classes": [],
      "_model_module": "@jupyter-widgets/controls",
      "_model_module_version": "1.5.0",
      "_model_name": "HTMLModel",
      "_view_count": null,
      "_view_module": "@jupyter-widgets/controls",
      "_view_module_version": "1.5.0",
      "_view_name": "HTMLView",
      "description": "",
      "description_tooltip": null,
      "layout": "IPY_MODEL_e687a062acb244e397da0fc6df40f12c",
      "placeholder": "​",
      "style": "IPY_MODEL_f0086d1deeb2481a8738bd7b75e30de7",
      "value": " 9920512/? [00:03&lt;00:00, 3154739.61it/s]"
     }
    }
   }
  }
 },
 "nbformat": 4,
 "nbformat_minor": 1
}
